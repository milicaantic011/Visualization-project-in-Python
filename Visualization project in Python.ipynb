{
 "cells": [
  {
   "cell_type": "markdown",
   "id": "bafbcacd",
   "metadata": {},
   "source": [
    "# Visualization project in Python\n",
    "\n",
    "## Overview\n",
    "This project focuses on applying Python libraries for **data visualization**, including **Seaborn**, **Plotly**, and **Dash**.  \n",
    "The project is divided into several parts that, when combined, form the final solution.\n",
    "\n",
    "---\n",
    "\n",
    "##  Development Setup\n",
    "- **Programming language**: Python  \n",
    "- **Used libraries**: `pandas`,`matplotlyb`, `seaborn`, `plotly`, `dash`.   \n",
    "- **Development environment**: VSC  \n",
    "- **Final output**: Exported notebook in `*.ipynb` format  \n",
    "\n",
    "---\n",
    "\n",
    "## Dataset\n",
    "The dataset is sourced from the GitHub repository of **Our World In Data**, which provides a comprehensive knowledge base on the **COVID-19 pandemic (2020 onward)**.  \n",
    "\n",
    "For the purposes of this project:  \n",
    "- Unnecessary columns were removed  \n",
    "- Geographic coordinates were added  \n",
    "\n",
    "## Data Cleaning\n",
    "During the project, **rows with missing values (`NaN`) were removed** for the selected metrics.  \n",
    "This ensured that all visualizations only included valid and complete data for accurate representation.\n",
    "\n",
    "**File used**: `project_1_python.csv`  \n",
    "\n",
    "---\n",
    "\n",
    "## Dataset Features\n",
    "- `iso_code` – ISO country code  \n",
    "- `continent` – Continent of the country  \n",
    "- `location` – Country name  \n",
    "- `total_cases` – Total number of reported cases  \n",
    "- `new_cases` – Newly reported cases (per day)  \n",
    "- `total_deaths` – Total number of deaths  \n",
    "- `new_deaths` – Newly reported deaths (per day)  \n",
    "- `hosp_patients` – Number of hospitalized patients  \n",
    "- `total_tests` – Total number of performed tests  \n",
    "- `new_tests` – Newly performed tests (per day)  \n",
    "- `tests_per_case` – Tests conducted per detected case  \n",
    "- `total_vaccinations` – Total vaccinations administered  \n",
    "- `people_vaccinated` – People vaccinated (at least one dose)  \n",
    "- `people_fully_vaccinated` – People fully vaccinated  \n",
    "- `total_boosters` – Booster doses administered  \n",
    "- `new_vaccinations` – New vaccinations administered (per day)  \n",
    "- `population` – Population of the country  \n",
    "- `median_age` – Median age of the population  \n",
    "- `gdp_per_capita` – Gross Domestic Product per capita  \n",
    "- `life_expectancy` – Life expectancy in the country  \n",
    "- `latitude` – Country latitude  \n",
    "- `longitude` – Country longitude  \n",
    "\n",
    "---\n",
    "\n",
    "## Problem Statement\n",
    "The project aims to **analyze the course of the COVID-19 pandemic worldwide**,  focusing on the dynamics of cases, testing, hospitalizations, and vaccination progress.\n",
    "\n",
    "##  Solution\n",
    "A data visualization and analysis notebook developed in **VSC**,  with the final solution exported as a `*.ipynb` file.\n"
   ]
  },
  {
   "cell_type": "code",
   "execution_count": 42,
   "id": "6884be38",
   "metadata": {},
   "outputs": [
    {
     "name": "stdout",
     "output_type": "stream",
     "text": [
      "══════════════════════════════════════════════════\n",
      "FIRST 10 ROWS OF DATASET:\n",
      "══════════════════════════════════════════════════\n"
     ]
    },
    {
     "data": {
      "text/html": [
       "<div>\n",
       "<style scoped>\n",
       "    .dataframe tbody tr th:only-of-type {\n",
       "        vertical-align: middle;\n",
       "    }\n",
       "\n",
       "    .dataframe tbody tr th {\n",
       "        vertical-align: top;\n",
       "    }\n",
       "\n",
       "    .dataframe thead th {\n",
       "        text-align: right;\n",
       "    }\n",
       "</style>\n",
       "<table border=\"1\" class=\"dataframe\">\n",
       "  <thead>\n",
       "    <tr style=\"text-align: right;\">\n",
       "      <th></th>\n",
       "      <th>index</th>\n",
       "      <th>iso_code</th>\n",
       "      <th>continent</th>\n",
       "      <th>location</th>\n",
       "      <th>date</th>\n",
       "      <th>total_cases</th>\n",
       "      <th>new_cases</th>\n",
       "      <th>total_deaths</th>\n",
       "      <th>new_deaths</th>\n",
       "      <th>hosp_patients</th>\n",
       "      <th>...</th>\n",
       "      <th>people_vaccinated</th>\n",
       "      <th>people_fully_vaccinated</th>\n",
       "      <th>total_boosters</th>\n",
       "      <th>new_vaccinations</th>\n",
       "      <th>population</th>\n",
       "      <th>median_age</th>\n",
       "      <th>gdp_per_capita</th>\n",
       "      <th>life_expectancy</th>\n",
       "      <th>latitude</th>\n",
       "      <th>longitude</th>\n",
       "    </tr>\n",
       "  </thead>\n",
       "  <tbody>\n",
       "    <tr>\n",
       "      <th>0</th>\n",
       "      <td>0</td>\n",
       "      <td>AFG</td>\n",
       "      <td>Asia</td>\n",
       "      <td>Afghanistan</td>\n",
       "      <td>2020-02-24</td>\n",
       "      <td>5.0</td>\n",
       "      <td>5.0</td>\n",
       "      <td>NaN</td>\n",
       "      <td>NaN</td>\n",
       "      <td>NaN</td>\n",
       "      <td>...</td>\n",
       "      <td>NaN</td>\n",
       "      <td>NaN</td>\n",
       "      <td>NaN</td>\n",
       "      <td>NaN</td>\n",
       "      <td>39835428.0</td>\n",
       "      <td>18.6</td>\n",
       "      <td>1803.987</td>\n",
       "      <td>64.83</td>\n",
       "      <td>33.0</td>\n",
       "      <td>65.0</td>\n",
       "    </tr>\n",
       "    <tr>\n",
       "      <th>1</th>\n",
       "      <td>1</td>\n",
       "      <td>AFG</td>\n",
       "      <td>Asia</td>\n",
       "      <td>Afghanistan</td>\n",
       "      <td>2020-02-25</td>\n",
       "      <td>5.0</td>\n",
       "      <td>0.0</td>\n",
       "      <td>NaN</td>\n",
       "      <td>NaN</td>\n",
       "      <td>NaN</td>\n",
       "      <td>...</td>\n",
       "      <td>NaN</td>\n",
       "      <td>NaN</td>\n",
       "      <td>NaN</td>\n",
       "      <td>NaN</td>\n",
       "      <td>39835428.0</td>\n",
       "      <td>18.6</td>\n",
       "      <td>1803.987</td>\n",
       "      <td>64.83</td>\n",
       "      <td>33.0</td>\n",
       "      <td>65.0</td>\n",
       "    </tr>\n",
       "    <tr>\n",
       "      <th>2</th>\n",
       "      <td>2</td>\n",
       "      <td>AFG</td>\n",
       "      <td>Asia</td>\n",
       "      <td>Afghanistan</td>\n",
       "      <td>2020-02-26</td>\n",
       "      <td>5.0</td>\n",
       "      <td>0.0</td>\n",
       "      <td>NaN</td>\n",
       "      <td>NaN</td>\n",
       "      <td>NaN</td>\n",
       "      <td>...</td>\n",
       "      <td>NaN</td>\n",
       "      <td>NaN</td>\n",
       "      <td>NaN</td>\n",
       "      <td>NaN</td>\n",
       "      <td>39835428.0</td>\n",
       "      <td>18.6</td>\n",
       "      <td>1803.987</td>\n",
       "      <td>64.83</td>\n",
       "      <td>33.0</td>\n",
       "      <td>65.0</td>\n",
       "    </tr>\n",
       "    <tr>\n",
       "      <th>3</th>\n",
       "      <td>3</td>\n",
       "      <td>AFG</td>\n",
       "      <td>Asia</td>\n",
       "      <td>Afghanistan</td>\n",
       "      <td>2020-02-27</td>\n",
       "      <td>5.0</td>\n",
       "      <td>0.0</td>\n",
       "      <td>NaN</td>\n",
       "      <td>NaN</td>\n",
       "      <td>NaN</td>\n",
       "      <td>...</td>\n",
       "      <td>NaN</td>\n",
       "      <td>NaN</td>\n",
       "      <td>NaN</td>\n",
       "      <td>NaN</td>\n",
       "      <td>39835428.0</td>\n",
       "      <td>18.6</td>\n",
       "      <td>1803.987</td>\n",
       "      <td>64.83</td>\n",
       "      <td>33.0</td>\n",
       "      <td>65.0</td>\n",
       "    </tr>\n",
       "    <tr>\n",
       "      <th>4</th>\n",
       "      <td>4</td>\n",
       "      <td>AFG</td>\n",
       "      <td>Asia</td>\n",
       "      <td>Afghanistan</td>\n",
       "      <td>2020-02-28</td>\n",
       "      <td>5.0</td>\n",
       "      <td>0.0</td>\n",
       "      <td>NaN</td>\n",
       "      <td>NaN</td>\n",
       "      <td>NaN</td>\n",
       "      <td>...</td>\n",
       "      <td>NaN</td>\n",
       "      <td>NaN</td>\n",
       "      <td>NaN</td>\n",
       "      <td>NaN</td>\n",
       "      <td>39835428.0</td>\n",
       "      <td>18.6</td>\n",
       "      <td>1803.987</td>\n",
       "      <td>64.83</td>\n",
       "      <td>33.0</td>\n",
       "      <td>65.0</td>\n",
       "    </tr>\n",
       "    <tr>\n",
       "      <th>5</th>\n",
       "      <td>5</td>\n",
       "      <td>AFG</td>\n",
       "      <td>Asia</td>\n",
       "      <td>Afghanistan</td>\n",
       "      <td>2020-02-29</td>\n",
       "      <td>5.0</td>\n",
       "      <td>0.0</td>\n",
       "      <td>NaN</td>\n",
       "      <td>NaN</td>\n",
       "      <td>NaN</td>\n",
       "      <td>...</td>\n",
       "      <td>NaN</td>\n",
       "      <td>NaN</td>\n",
       "      <td>NaN</td>\n",
       "      <td>NaN</td>\n",
       "      <td>39835428.0</td>\n",
       "      <td>18.6</td>\n",
       "      <td>1803.987</td>\n",
       "      <td>64.83</td>\n",
       "      <td>33.0</td>\n",
       "      <td>65.0</td>\n",
       "    </tr>\n",
       "    <tr>\n",
       "      <th>6</th>\n",
       "      <td>6</td>\n",
       "      <td>AFG</td>\n",
       "      <td>Asia</td>\n",
       "      <td>Afghanistan</td>\n",
       "      <td>2020-03-01</td>\n",
       "      <td>5.0</td>\n",
       "      <td>0.0</td>\n",
       "      <td>NaN</td>\n",
       "      <td>NaN</td>\n",
       "      <td>NaN</td>\n",
       "      <td>...</td>\n",
       "      <td>NaN</td>\n",
       "      <td>NaN</td>\n",
       "      <td>NaN</td>\n",
       "      <td>NaN</td>\n",
       "      <td>39835428.0</td>\n",
       "      <td>18.6</td>\n",
       "      <td>1803.987</td>\n",
       "      <td>64.83</td>\n",
       "      <td>33.0</td>\n",
       "      <td>65.0</td>\n",
       "    </tr>\n",
       "    <tr>\n",
       "      <th>7</th>\n",
       "      <td>7</td>\n",
       "      <td>AFG</td>\n",
       "      <td>Asia</td>\n",
       "      <td>Afghanistan</td>\n",
       "      <td>2020-03-02</td>\n",
       "      <td>5.0</td>\n",
       "      <td>0.0</td>\n",
       "      <td>NaN</td>\n",
       "      <td>NaN</td>\n",
       "      <td>NaN</td>\n",
       "      <td>...</td>\n",
       "      <td>NaN</td>\n",
       "      <td>NaN</td>\n",
       "      <td>NaN</td>\n",
       "      <td>NaN</td>\n",
       "      <td>39835428.0</td>\n",
       "      <td>18.6</td>\n",
       "      <td>1803.987</td>\n",
       "      <td>64.83</td>\n",
       "      <td>33.0</td>\n",
       "      <td>65.0</td>\n",
       "    </tr>\n",
       "    <tr>\n",
       "      <th>8</th>\n",
       "      <td>8</td>\n",
       "      <td>AFG</td>\n",
       "      <td>Asia</td>\n",
       "      <td>Afghanistan</td>\n",
       "      <td>2020-03-03</td>\n",
       "      <td>5.0</td>\n",
       "      <td>0.0</td>\n",
       "      <td>NaN</td>\n",
       "      <td>NaN</td>\n",
       "      <td>NaN</td>\n",
       "      <td>...</td>\n",
       "      <td>NaN</td>\n",
       "      <td>NaN</td>\n",
       "      <td>NaN</td>\n",
       "      <td>NaN</td>\n",
       "      <td>39835428.0</td>\n",
       "      <td>18.6</td>\n",
       "      <td>1803.987</td>\n",
       "      <td>64.83</td>\n",
       "      <td>33.0</td>\n",
       "      <td>65.0</td>\n",
       "    </tr>\n",
       "    <tr>\n",
       "      <th>9</th>\n",
       "      <td>9</td>\n",
       "      <td>AFG</td>\n",
       "      <td>Asia</td>\n",
       "      <td>Afghanistan</td>\n",
       "      <td>2020-03-04</td>\n",
       "      <td>5.0</td>\n",
       "      <td>0.0</td>\n",
       "      <td>NaN</td>\n",
       "      <td>NaN</td>\n",
       "      <td>NaN</td>\n",
       "      <td>...</td>\n",
       "      <td>NaN</td>\n",
       "      <td>NaN</td>\n",
       "      <td>NaN</td>\n",
       "      <td>NaN</td>\n",
       "      <td>39835428.0</td>\n",
       "      <td>18.6</td>\n",
       "      <td>1803.987</td>\n",
       "      <td>64.83</td>\n",
       "      <td>33.0</td>\n",
       "      <td>65.0</td>\n",
       "    </tr>\n",
       "  </tbody>\n",
       "</table>\n",
       "<p>10 rows × 24 columns</p>\n",
       "</div>"
      ],
      "text/plain": [
       "   index iso_code continent     location        date  total_cases  new_cases  \\\n",
       "0      0      AFG      Asia  Afghanistan  2020-02-24          5.0        5.0   \n",
       "1      1      AFG      Asia  Afghanistan  2020-02-25          5.0        0.0   \n",
       "2      2      AFG      Asia  Afghanistan  2020-02-26          5.0        0.0   \n",
       "3      3      AFG      Asia  Afghanistan  2020-02-27          5.0        0.0   \n",
       "4      4      AFG      Asia  Afghanistan  2020-02-28          5.0        0.0   \n",
       "5      5      AFG      Asia  Afghanistan  2020-02-29          5.0        0.0   \n",
       "6      6      AFG      Asia  Afghanistan  2020-03-01          5.0        0.0   \n",
       "7      7      AFG      Asia  Afghanistan  2020-03-02          5.0        0.0   \n",
       "8      8      AFG      Asia  Afghanistan  2020-03-03          5.0        0.0   \n",
       "9      9      AFG      Asia  Afghanistan  2020-03-04          5.0        0.0   \n",
       "\n",
       "   total_deaths  new_deaths  hosp_patients  ...  people_vaccinated  \\\n",
       "0           NaN         NaN            NaN  ...                NaN   \n",
       "1           NaN         NaN            NaN  ...                NaN   \n",
       "2           NaN         NaN            NaN  ...                NaN   \n",
       "3           NaN         NaN            NaN  ...                NaN   \n",
       "4           NaN         NaN            NaN  ...                NaN   \n",
       "5           NaN         NaN            NaN  ...                NaN   \n",
       "6           NaN         NaN            NaN  ...                NaN   \n",
       "7           NaN         NaN            NaN  ...                NaN   \n",
       "8           NaN         NaN            NaN  ...                NaN   \n",
       "9           NaN         NaN            NaN  ...                NaN   \n",
       "\n",
       "   people_fully_vaccinated  total_boosters  new_vaccinations  population  \\\n",
       "0                      NaN             NaN               NaN  39835428.0   \n",
       "1                      NaN             NaN               NaN  39835428.0   \n",
       "2                      NaN             NaN               NaN  39835428.0   \n",
       "3                      NaN             NaN               NaN  39835428.0   \n",
       "4                      NaN             NaN               NaN  39835428.0   \n",
       "5                      NaN             NaN               NaN  39835428.0   \n",
       "6                      NaN             NaN               NaN  39835428.0   \n",
       "7                      NaN             NaN               NaN  39835428.0   \n",
       "8                      NaN             NaN               NaN  39835428.0   \n",
       "9                      NaN             NaN               NaN  39835428.0   \n",
       "\n",
       "   median_age  gdp_per_capita  life_expectancy  latitude  longitude  \n",
       "0        18.6        1803.987            64.83      33.0       65.0  \n",
       "1        18.6        1803.987            64.83      33.0       65.0  \n",
       "2        18.6        1803.987            64.83      33.0       65.0  \n",
       "3        18.6        1803.987            64.83      33.0       65.0  \n",
       "4        18.6        1803.987            64.83      33.0       65.0  \n",
       "5        18.6        1803.987            64.83      33.0       65.0  \n",
       "6        18.6        1803.987            64.83      33.0       65.0  \n",
       "7        18.6        1803.987            64.83      33.0       65.0  \n",
       "8        18.6        1803.987            64.83      33.0       65.0  \n",
       "9        18.6        1803.987            64.83      33.0       65.0  \n",
       "\n",
       "[10 rows x 24 columns]"
      ]
     },
     "execution_count": 42,
     "metadata": {},
     "output_type": "execute_result"
    }
   ],
   "source": [
    "# ------------------------------\n",
    "# Import necessary libraries\n",
    "# ------------------------------\n",
    "\n",
    "import pandas as pd\n",
    "import matplotlib.pyplot as plt\n",
    "import seaborn as sns\n",
    "import plotly.express as px\n",
    "import dash\n",
    "from dash import dcc, html\n",
    "from dash.dependencies import Input, Output\n",
    "\n",
    "\n",
    "# -----  Load the CSV into a DataFrame -----  \n",
    "covid_df = pd.read_csv('/Users/milica.antic011/Desktop/ML Vezbe/Final project Visualization/project_1_python.csv') \n",
    "\n",
    "# ----- Data set display -----  \n",
    "print(\"═\" * 50)\n",
    "print(\"FIRST 10 ROWS OF DATASET:\")\n",
    "print(\"═\" * 50)\n",
    "covid_df.head(10)\n",
    "\n"
   ]
  },
  {
   "cell_type": "code",
   "execution_count": 43,
   "id": "824e70c3",
   "metadata": {},
   "outputs": [
    {
     "name": "stdout",
     "output_type": "stream",
     "text": [
      "\n",
      "══════════════════════════════════════════════════\n",
      "BASIC INFORMATION ABOUT THE DATASET:\n",
      "══════════════════════════════════════════════════\n",
      "\n",
      "Dataset dimensions: (180477, 24)\n",
      "\n",
      "Number of rows: 180477\n",
      "\n",
      "Number of columns: 24\n"
     ]
    }
   ],
   "source": [
    "# --------------------------------------\n",
    "# Basic information about the dataset\n",
    "# --------------------------------------\n",
    "print(\"\\n\" + \"═\" * 50)\n",
    "print(\"BASIC INFORMATION ABOUT THE DATASET:\")\n",
    "print(\"═\" * 50)\n",
    "\n",
    "print(f\"\\nDataset dimensions: {covid_df.shape}\")\n",
    "print(f\"\\nNumber of rows: {covid_df.shape[0]}\")\n",
    "print(f\"\\nNumber of columns: {covid_df.shape[1]}\")"
   ]
  },
  {
   "cell_type": "code",
   "execution_count": 44,
   "id": "692efd09",
   "metadata": {},
   "outputs": [
    {
     "name": "stdout",
     "output_type": "stream",
     "text": [
      "\n",
      "══════════════════════════════════════════════════\n",
      "INFORMATION ON DATA TYPES:\n",
      "══════════════════════════════════════════════════\n",
      "<class 'pandas.core.frame.DataFrame'>\n",
      "RangeIndex: 180477 entries, 0 to 180476\n",
      "Data columns (total 24 columns):\n",
      " #   Column                   Non-Null Count   Dtype  \n",
      "---  ------                   --------------   -----  \n",
      " 0   index                    180477 non-null  int64  \n",
      " 1   iso_code                 180477 non-null  object \n",
      " 2   continent                180477 non-null  object \n",
      " 3   location                 180477 non-null  object \n",
      " 4   date                     180477 non-null  object \n",
      " 5   total_cases              173493 non-null  float64\n",
      " 6   new_cases                173212 non-null  float64\n",
      " 7   total_deaths             155323 non-null  float64\n",
      " 8   new_deaths               155095 non-null  float64\n",
      " 9   hosp_patients            27152 non-null   float64\n",
      " 10  total_tests              78326 non-null   float64\n",
      " 11  new_tests                74509 non-null   float64\n",
      " 12  tests_per_case           92600 non-null   float64\n",
      " 13  total_vaccinations       46366 non-null   float64\n",
      " 14  people_vaccinated        43851 non-null   float64\n",
      " 15  people_fully_vaccinated  41524 non-null   float64\n",
      " 16  total_boosters           19866 non-null   float64\n",
      " 17  new_vaccinations         36940 non-null   float64\n",
      " 18  population               180477 non-null  float64\n",
      " 19  median_age               159326 non-null  float64\n",
      " 20  gdp_per_capita           157994 non-null  float64\n",
      " 21  life_expectancy          179426 non-null  float64\n",
      " 22  latitude                 180477 non-null  float64\n",
      " 23  longitude                180477 non-null  float64\n",
      "dtypes: float64(19), int64(1), object(4)\n",
      "memory usage: 33.0+ MB\n"
     ]
    }
   ],
   "source": [
    "# -------------------------------\n",
    "# Information on data types\n",
    "# -------------------------------\n",
    "print(\"\\n\" + \"═\" * 50)\n",
    "print(\"INFORMATION ON DATA TYPES:\")\n",
    "print(\"═\" * 50)\n",
    "covid_df.info()"
   ]
  },
  {
   "cell_type": "code",
   "execution_count": 45,
   "id": "1e070509",
   "metadata": {},
   "outputs": [
    {
     "name": "stdout",
     "output_type": "stream",
     "text": [
      "\n",
      "══════════════════════════════════════════════════\n",
      "MISSING VALUES IN DATASET:\n",
      "══════════════════════════════════════════════════\n",
      "                         Missing Values  Percentage (%)\n",
      "total_cases                        6984        3.869745\n",
      "new_cases                          7265        4.025444\n",
      "total_deaths                      25154       13.937510\n",
      "new_deaths                        25382       14.063842\n",
      "hosp_patients                    153325       84.955424\n",
      "total_tests                      102151       56.600564\n",
      "new_tests                        105968       58.715515\n",
      "tests_per_case                    87877       48.691523\n",
      "total_vaccinations               134111       74.309192\n",
      "people_vaccinated                136626       75.702721\n",
      "people_fully_vaccinated          138953       76.992082\n",
      "total_boosters                   160611       88.992503\n",
      "new_vaccinations                 143537       79.532018\n",
      "median_age                        21151       11.719499\n",
      "gdp_per_capita                    22483       12.457543\n",
      "life_expectancy                    1051        0.582346\n"
     ]
    }
   ],
   "source": [
    "# -------------------------------\n",
    "# Missing values in dataset\n",
    "# -------------------------------\n",
    "print(\"\\n\" + \"═\" * 50)\n",
    "print(\"MISSING VALUES IN DATASET:\")\n",
    "print(\"═\" * 50)\n",
    "missing_values = covid_df.isnull().sum()\n",
    "missing_percent = (covid_df.isnull().sum() / len(covid_df)) * 100\n",
    "missing_df = pd.DataFrame({\n",
    "    'Missing Values': missing_values,\n",
    "    'Percentage (%)': missing_percent\n",
    "})\n",
    "print(missing_df[missing_df['Missing Values'] > 0])"
   ]
  },
  {
   "cell_type": "markdown",
   "id": "9e683faf",
   "metadata": {},
   "source": [
    "# First Visualization - Countries with largest populations \n",
    "\n",
    "## Task\n",
    "Using the project dataset and the **Seaborn** library, create a ranking that shows the **10 countries with the largest populations**.  \n",
    "Additionally, identify:\n",
    "- The country with the **largest population** among the selected 10  \n",
    "- The country with the **smallest population** among the selected 10  "
   ]
  },
  {
   "cell_type": "code",
   "execution_count": 46,
   "id": "ee09ed99",
   "metadata": {},
   "outputs": [
    {
     "data": {
      "image/png": "[encoded data removed]",
      "text/plain": [
       "<Figure size 1200x600 with 1 Axes>"
      ]
     },
     "metadata": {},
     "output_type": "display_data"
    },
    {
     "name": "stdout",
     "output_type": "stream",
     "text": [
      "Largest population: China (1,444,216,102.0)\n",
      "Smallest population: Mexico (130,262,220.0)\n"
     ]
    }
   ],
   "source": [
    "# --------------------------------------\n",
    "# Prepare data to create the chart\n",
    "# --------------------------------------\n",
    "\n",
    "# ----- Get top 10 countries by population -----\n",
    "top10_pop = covid_df.groupby(\"location\")[\"population\"].max().sort_values(ascending=False).head(10).reset_index()\n",
    "\n",
    "\n",
    "# ----- Create barplot ------\n",
    "plt.figure(figsize=(12, 6))\n",
    "sns.set_style(\"whitegrid\")\n",
    "ax = sns.barplot(\n",
    "    x=\"location\",\n",
    "    y=\"population\",\n",
    "    data=top10_pop,\n",
    "    palette=\"viridis\"\n",
    ")\n",
    "\n",
    "# -----  Rotate labels (no warning) -----\n",
    "ax.tick_params(axis=\"x\", rotation=45)\n",
    "\n",
    "\n",
    "# ----- Add labels and title -----\n",
    "plt.title(\"Top 10 Countries by Population\", fontsize=16)\n",
    "plt.xlabel(\"Country\", fontsize=12)\n",
    "plt.ylabel(\"Population\", fontsize=12)\n",
    "\n",
    "# ----- Show plot -----\n",
    "plt.show()\n",
    "\n",
    "# ------ Find largest and smallest among top 10 -----\n",
    "largest = top10_pop.loc[top10_pop['population'].idxmax()]\n",
    "smallest = top10_pop.loc[top10_pop['population'].idxmin()]\n",
    "\n",
    "print(f\"Largest population: {largest['location']} ({largest['population']:,})\")\n",
    "print(f\"Smallest population: {smallest['location']} ({smallest['population']:,})\")\n",
    "\n",
    "# ----- Hide the warning for hue in seaborn  ----- \n",
    "import warnings\n",
    "warnings.filterwarnings(\"ignore\", category=FutureWarning)"
   ]
  },
  {
   "cell_type": "markdown",
   "id": "3be622d9",
   "metadata": {},
   "source": [
    "# Second Visualization - Population vs Life Expectancy\n",
    "\n",
    "\n",
    "## Task\n",
    "Using your data frame and the plotly library, create a visualization that shows the relationship between population and life expectancy in a country.  \n",
    " Do people live longer in countries that have larger populations?\n"
   ]
  },
  {
   "cell_type": "code",
   "execution_count": null,
   "id": "23890a75",
   "metadata": {},
   "outputs": [
    {
     "data": {
      "application/vnd.plotly.v1+json": {
       "config": {
        "plotlyServerURL": "https://plot.ly"
       },
       "data": [
        {
         "customdata": [
          [
           "39.84M"
          ],
          [
           "2.97M"
          ],
          [
           "10.22M"
          ],
          [
           "1.75M"
          ],
          [
           "166.3M"
          ],
          [
           "0.78M"
          ],
          [
           "0.44M"
          ],
          [
           "16.95M"
          ],
          [
           "1444.22M"
          ],
          [
           "3.98M"
          ],
          [
           "7.55M"
          ],
          [
           "1393.41M"
          ],
          [
           "276.36M"
          ],
          [
           "85.03M"
          ],
          [
           "41.18M"
          ],
          [
           "9.29M"
          ],
          [
           "126.05M"
          ],
          [
           "10.27M"
          ],
          [
           "18.99M"
          ],
          [
           "4.33M"
          ],
          [
           "6.63M"
          ],
          [
           "7.38M"
          ],
          [
           "6.77M"
          ],
          [
           "0.66M"
          ],
          [
           "32.78M"
          ],
          [
           "0.54M"
          ],
          [
           "3.33M"
          ],
          [
           "54.81M"
          ],
          [
           "29.67M"
          ],
          [
           "25.89M"
          ],
          [
           "5.22M"
          ],
          [
           "225.2M"
          ],
          [
           "5.22M"
          ],
          [
           "111.05M"
          ],
          [
           "2.93M"
          ],
          [
           "35.34M"
          ],
          [
           "5.45M"
          ],
          [
           "51.31M"
          ],
          [
           "21.5M"
          ],
          [
           "18.28M"
          ],
          [
           "23.86M"
          ],
          [
           "9.75M"
          ],
          [
           "69.95M"
          ],
          [
           "1.34M"
          ],
          [
           "85.04M"
          ],
          [
           "6.12M"
          ],
          [
           "9.99M"
          ],
          [
           "33.94M"
          ],
          [
           "98.17M"
          ],
          [
           "30.49M"
          ]
         ],
         "hovertemplate": "<b>%{hovertext}</b><br><br>continent=Asia<br>life_expectancy=%{y}<br>population_=%{customdata[0]}<extra></extra>",
         "hovertext": [
          "Afghanistan",
          "Armenia",
          "Azerbaijan",
          "Bahrain",
          "Bangladesh",
          "Bhutan",
          "Brunei",
          "Cambodia",
          "China",
          "Georgia",
          "Hong Kong",
          "India",
          "Indonesia",
          "Iran",
          "Iraq",
          "Israel",
          "Japan",
          "Jordan",
          "Kazakhstan",
          "Kuwait",
          "Kyrgyzstan",
          "Laos",
          "Lebanon",
          "Macao",
          "Malaysia",
          "Maldives",
          "Mongolia",
          "Myanmar",
          "Nepal",
          "North Korea",
          "Oman",
          "Pakistan",
          "Palestine",
          "Philippines",
          "Qatar",
          "Saudi Arabia",
          "Singapore",
          "South Korea",
          "Sri Lanka",
          "Syria",
          "Taiwan",
          "Tajikistan",
          "Thailand",
          "Timor",
          "Turkey",
          "Turkmenistan",
          "United Arab Emirates",
          "Uzbekistan",
          "Vietnam",
          "Yemen"
         ],
         "legendgroup": "Asia",
         "marker": {
          "color": "purple",
          "size": {
           "bdata": "AAAAILn+gkEAAAAAIKVGQQAAAADef2NBAAAAAEetOkEAAAAMLtOjQQAAAAD4zCdBAAAAAPDyGkEAAADgUClwQQAAgEk/hdVBAAAAgP5cTkEAAAAAyM9cQQAAQAJvw9RBAAAAPPJ4sEEAAABgvkWUQQAAALjGooNBAAAAAJ+4YUEAAACwhw2eQQAAAMArlmNBAAAA4HAdckEAAABAGoNQQQAAAMD+SFlBAAAAgGcmXEEAAADAf9JZQQAAAACuFyRBAAAAMABCf0EAAAAACJcgQQAAAACBZklBAAAA8C8iikEAAACA2kx8QQAAAFAUsHhBAAAAAPTsU0EAAAByjtiqQQAAAABZ7FNBAAAA+MN5mkEAAAAArltGQQAAAEAM2oBBAAAAAMjNVEEAAAAA13aIQQAAAKBdgHRBAAAAgNdtcUEAAAAA+r92QQAAACCPmGJBAAAA8HWtkEEAAAAAg4E0QQAAAMCYRpRBAAAAQItWV0EAAABgdQ5jQQAAAKiMLoBBAAAA9L9nl0EAAADwABR9QQ==",
           "dtype": "f8"
          },
          "sizemode": "area",
          "sizeref": 1604684.5577777778,
          "symbol": "circle"
         },
         "mode": "markers",
         "name": "Asia",
         "orientation": "v",
         "showlegend": true,
         "type": "scatter",
         "x": {
          "bdata": "AAAAILn+gkEAAAAAIKVGQQAAAADef2NBAAAAAEetOkEAAAAMLtOjQQAAAAD4zCdBAAAAAPDyGkEAAADgUClwQQAAgEk/hdVBAAAAgP5cTkEAAAAAyM9cQQAAQAJvw9RBAAAAPPJ4sEEAAABgvkWUQQAAALjGooNBAAAAAJ+4YUEAAACwhw2eQQAAAMArlmNBAAAA4HAdckEAAABAGoNQQQAAAMD+SFlBAAAAgGcmXEEAAADAf9JZQQAAAACuFyRBAAAAMABCf0EAAAAACJcgQQAAAACBZklBAAAA8C8iikEAAACA2kx8QQAAAFAUsHhBAAAAAPTsU0EAAAByjtiqQQAAAABZ7FNBAAAA+MN5mkEAAAAArltGQQAAAEAM2oBBAAAAAMjNVEEAAAAA13aIQQAAAKBdgHRBAAAAgNdtcUEAAAAA+r92QQAAACCPmGJBAAAA8HWtkEEAAAAAg4E0QQAAAMCYRpRBAAAAQItWV0EAAABgdQ5jQQAAAKiMLoBBAAAA9L9nl0EAAADwABR9QQ==",
          "dtype": "f8"
         },
         "xaxis": "x",
         "y": {
          "bdata": "hetRuB41UED2KFyPwsVSQAAAAAAAQFJAw/UoXI9SU0D2KFyPwiVSQFK4HoXr8VFA16NwPQr3UkAUrkfhenRRQArXo3A9OlNA4XoUrkdxUkDXo3A9CjdVQArXo3A9alFArkfhehTuUUDsUbgehStTQGZmZmZmplFArkfhehS+VEC4HoXrUShVQFK4HoXroVJAZmZmZmZmUkCPwvUoXN9SQM3MzMzM3FFAexSuR+H6UEDsUbgehbtTQI/C9ShcD1VACtejcD0KU0B7FK5H4bpTQEjhehSud1FAuB6F61HIUEBSuB6F67FRQOF6FK5HEVJA16NwPQp3U0DhehSuR9FQQDMzMzMzg1JAH4XrUbjOUUAfhetRuA5UQLgehetRyFJASOF6FK7nVEBSuB6F68FUQB+F61G4PlNAzczMzMwsUkA9CtejcB1UQGZmZmZmxlFAmpmZmZlJU0AAAAAAAGBRQFyPwvUobFNAXI/C9SgMUUCuR+F6FH5TQK5H4XoU7lFAmpmZmZnZUkBI4XoUrodQQA==",
          "dtype": "f8"
         },
         "yaxis": "y"
        },
        {
         "customdata": [
          [
           "2.87M"
          ],
          [
           "0.08M"
          ],
          [
           "9.04M"
          ],
          [
           "9.44M"
          ],
          [
           "11.63M"
          ],
          [
           "3.26M"
          ],
          [
           "6.9M"
          ],
          [
           "4.08M"
          ],
          [
           "0.9M"
          ],
          [
           "10.72M"
          ],
          [
           "5.81M"
          ],
          [
           "1.33M"
          ],
          [
           "0.05M"
          ],
          [
           "5.55M"
          ],
          [
           "67.42M"
          ],
          [
           "83.9M"
          ],
          [
           "0.03M"
          ],
          [
           "10.37M"
          ],
          [
           "9.63M"
          ],
          [
           "0.37M"
          ],
          [
           "4.98M"
          ],
          [
           "0.09M"
          ],
          [
           "60.37M"
          ],
          [
           "1.87M"
          ],
          [
           "0.04M"
          ],
          [
           "2.69M"
          ],
          [
           "0.63M"
          ],
          [
           "0.52M"
          ],
          [
           "4.02M"
          ],
          [
           "0.04M"
          ],
          [
           "0.63M"
          ],
          [
           "17.17M"
          ],
          [
           "2.08M"
          ],
          [
           "5.47M"
          ],
          [
           "37.8M"
          ],
          [
           "10.17M"
          ],
          [
           "19.13M"
          ],
          [
           "145.91M"
          ],
          [
           "0.03M"
          ],
          [
           "6.87M"
          ],
          [
           "5.45M"
          ],
          [
           "2.08M"
          ],
          [
           "46.75M"
          ],
          [
           "10.16M"
          ],
          [
           "8.72M"
          ],
          [
           "43.47M"
          ],
          [
           "68.21M"
          ],
          [
           "0.0M"
          ]
         ],
         "hovertemplate": "<b>%{hovertext}</b><br><br>continent=Europe<br>life_expectancy=%{y}<br>population_=%{customdata[0]}<extra></extra>",
         "hovertext": [
          "Albania",
          "Andorra",
          "Austria",
          "Belarus",
          "Belgium",
          "Bosnia and Herzegovina",
          "Bulgaria",
          "Croatia",
          "Cyprus",
          "Czechia",
          "Denmark",
          "Estonia",
          "Faeroe Islands",
          "Finland",
          "France",
          "Germany",
          "Gibraltar",
          "Greece",
          "Hungary",
          "Iceland",
          "Ireland",
          "Isle of Man",
          "Italy",
          "Latvia",
          "Liechtenstein",
          "Lithuania",
          "Luxembourg",
          "Malta",
          "Moldova",
          "Monaco",
          "Montenegro",
          "Netherlands",
          "North Macedonia",
          "Norway",
          "Poland",
          "Portugal",
          "Romania",
          "Russia",
          "San Marino",
          "Serbia",
          "Slovakia",
          "Slovenia",
          "Spain",
          "Sweden",
          "Switzerland",
          "Ukraine",
          "United Kingdom",
          "Vatican"
         ],
         "legendgroup": "Europe",
         "marker": {
          "color": "#FF00FF",
          "size": {
           "bdata": "AAAAADPrRUEAAAAAoOLyQAAAAACQP2FBAAAAYMYCYkEAAADA2S9mQQAAAIDx5UhBAAAAwANPWkEAAACA/CNPQQAAAAAKWCtBAAAAIJl0ZEEAAACADS1WQQAAAACEODRBAAAAAKDz50AAAABAUipVQQAAAMAcE5BBAAAA3OAAlEEAAAAAYHPgQAAAAGDXx2NBAAAAQC5gYkEAAAAAYIIWQQAAAAAeAlNBAAAAACDa9EAAAAB4E8mMQQAAAAC2fDxBAAAAAMCt4kAAAAAAo4VEQQAAAAB8XyNBAAAAABCAH0EAAACAbLNOQQAAAAAATONAAAAAAKYqI0EAAABgpmBwQQAAAABlxz9BAAAAQIfZVEEAAABA5AWCQQAAAGDOZGNBAAAAwN09ckEAAACs4WShQQAAAABAm+BAAAAAwH42WkEAAACAjclUQQAAAAADuD9BAAAA2DNKhkEAAADgA2FjQQAAAMCcn2BBAAAAMAK6hEEAAAAoCEOQQQAAAAAAYIlA",
           "dtype": "f8"
          },
          "sizemode": "area",
          "sizeref": 1604684.5577777778,
          "symbol": "circle"
         },
         "mode": "markers",
         "name": "Europe",
         "orientation": "v",
         "showlegend": true,
         "type": "scatter",
         "x": {
          "bdata": "AAAAADPrRUEAAAAAoOLyQAAAAACQP2FBAAAAYMYCYkEAAADA2S9mQQAAAIDx5UhBAAAAwANPWkEAAACA/CNPQQAAAAAKWCtBAAAAIJl0ZEEAAACADS1WQQAAAACEODRBAAAAAKDz50AAAABAUipVQQAAAMAcE5BBAAAA3OAAlEEAAAAAYHPgQAAAAGDXx2NBAAAAQC5gYkEAAAAAYIIWQQAAAAAeAlNBAAAAACDa9EAAAAB4E8mMQQAAAAC2fDxBAAAAAMCt4kAAAAAAo4VEQQAAAAB8XyNBAAAAABCAH0EAAACAbLNOQQAAAAAATONAAAAAAKYqI0EAAABgpmBwQQAAAABlxz9BAAAAQIfZVEEAAABA5AWCQQAAAGDOZGNBAAAAwN09ckEAAACs4WShQQAAAABAm+BAAAAAwH42WkEAAACAjclUQQAAAAADuD9BAAAA2DNKhkEAAADgA2FjQQAAAMCcn2BBAAAAMAK6hEEAAAAoCEOQQQAAAAAAYIlA",
          "dtype": "f8"
         },
         "xaxis": "x",
         "y": {
          "bdata": "FK5H4XqkU0AfhetRuO5UQMP1KFyPYlRAw/UoXI+yUkC4HoXrUWhUQJqZmZmZWVNAMzMzMzPDUkCPwvUoXJ9TQB+F61G4PlRAuB6F61HYU0CamZmZmTlUQI/C9Shcr1NAexSuR+EqVEAK16NwPXpUQArXo3A9qlRAhetRuB5VVEDsUbgehftTQI/C9Shcj1RAuB6F61E4U0CPwvUoXL9UQDMzMzMzk1RAmpmZmZlZVEBxPQrXo+BUQMP1KFyP0lJAj8L1KFyfVEDsUbgehftSQAAAAAAAkFRAUrgeheuhVECamZmZmflRQAAAAAAAsFVAuB6F61E4U0BSuB6F65FUQDMzMzMz81JAmpmZmZmZVEAfhetRuK5TQDMzMzMzg1RAMzMzMzMDU0CF61G4HiVSQK5H4XoUPlVAAAAAAAAAU0DD9Shcj2JTQBSuR+F6VFRApHA9CtfjVEAzMzMzM7NUQFK4HoXr8VRApHA9CtcDUkAUrkfhelRUQEjhehSux1JA",
          "dtype": "f8"
         },
         "yaxis": "y"
        },
        {
         "customdata": [
          [
           "44.62M"
          ],
          [
           "33.93M"
          ],
          [
           "12.45M"
          ],
          [
           "2.4M"
          ],
          [
           "21.5M"
          ],
          [
           "12.26M"
          ],
          [
           "27.22M"
          ],
          [
           "0.56M"
          ],
          [
           "4.92M"
          ],
          [
           "16.91M"
          ],
          [
           "0.89M"
          ],
          [
           "5.66M"
          ],
          [
           "27.05M"
          ],
          [
           "92.38M"
          ],
          [
           "1.0M"
          ],
          [
           "104.26M"
          ],
          [
           "1.45M"
          ],
          [
           "3.6M"
          ],
          [
           "1.17M"
          ],
          [
           "117.88M"
          ],
          [
           "2.28M"
          ],
          [
           "2.49M"
          ],
          [
           "31.73M"
          ],
          [
           "13.5M"
          ],
          [
           "2.02M"
          ],
          [
           "54.99M"
          ],
          [
           "2.16M"
          ],
          [
           "5.18M"
          ],
          [
           "6.96M"
          ],
          [
           "28.43M"
          ],
          [
           "19.65M"
          ],
          [
           "20.86M"
          ],
          [
           "4.78M"
          ],
          [
           "1.27M"
          ],
          [
           "37.34M"
          ],
          [
           "32.16M"
          ],
          [
           "2.59M"
          ],
          [
           "25.13M"
          ],
          [
           "211.4M"
          ],
          [
           "13.28M"
          ],
          [
           "0.01M"
          ],
          [
           "0.22M"
          ],
          [
           "17.2M"
          ],
          [
           "0.1M"
          ],
          [
           "8.14M"
          ],
          [
           "16.36M"
          ],
          [
           "60.04M"
          ],
          [
           "11.38M"
          ],
          [
           "44.91M"
          ],
          [
           "61.5M"
          ],
          [
           "8.48M"
          ],
          [
           "11.94M"
          ],
          [
           "47.12M"
          ],
          [
           "0.61M"
          ],
          [
           "18.92M"
          ],
          [
           "15.09M"
          ]
         ],
         "hovertemplate": "<b>%{hovertext}</b><br><br>continent=Africa<br>life_expectancy=%{y}<br>population_=%{customdata[0]}<extra></extra>",
         "hovertext": [
          "Algeria",
          "Angola",
          "Benin",
          "Botswana",
          "Burkina Faso",
          "Burundi",
          "Cameroon",
          "Cape Verde",
          "Central African Republic",
          "Chad",
          "Comoros",
          "Congo",
          "Cote d'Ivoire",
          "Democratic Republic of Congo",
          "Djibouti",
          "Egypt",
          "Equatorial Guinea",
          "Eritrea",
          "Eswatini",
          "Ethiopia",
          "Gabon",
          "Gambia",
          "Ghana",
          "Guinea",
          "Guinea-Bissau",
          "Kenya",
          "Lesotho",
          "Liberia",
          "Libya",
          "Madagascar",
          "Malawi",
          "Mali",
          "Mauritania",
          "Mauritius",
          "Morocco",
          "Mozambique",
          "Namibia",
          "Niger",
          "Nigeria",
          "Rwanda",
          "Saint Helena",
          "Sao Tome and Principe",
          "Senegal",
          "Seychelles",
          "Sierra Leone",
          "Somalia",
          "South Africa",
          "South Sudan",
          "Sudan",
          "Tanzania",
          "Togo",
          "Tunisia",
          "Uganda",
          "Western Sahara",
          "Zambia",
          "Zimbabwe"
         ],
         "legendgroup": "Africa",
         "marker": {
          "color": "green",
          "size": {
           "bdata": "AAAAkF1GhUEAAABYSS6AQQAAAOCav2dBAAAAABxKQkEAAACQUIB0QQAAAKAYYGdBAAAAYIz2eUEAAAAA2iUhQQAAAMCsxFJBAAAAkKIhcEEAAAAAEB0rQQAAAEBulFVBAAAA0OPMeUEAAAAITgaWQQAAAACqlS5BAAAAXGzbmEEAAAAAox82QQAAAAAbektBAAAAAJHjMUEAAAAImBqcQQAAAIDWYkFBAAAAgEz5QkEAAAAAGkN+QQAAAKByvmlBAAAAAALBPkEAAAAwHziKQQAAAIDteEBBAAAAAMzCU0EAAACAcotaQQAAAFBEHHtBAAAAEMy8ckEAAADAuuNzQQAAAIAxN1JBAAAAAFRuM0EAAACYsM6BQQAAAFBOrH5BAAAAAGi9Q0EAAACgc/d3QQAAAABwM6lBAAAAoKxSaUEAAAAAAM+3QAAAAAAgRAtBAAAAQFFmcEEAAAAA4CX4QAAAAMCHDl9BAAAAgAk0b0EAAABgWKGMQQAAACBQtWVBAAAAOBlqhUEAAAAwIlONQQAAAEDEK2BBAAAAgALEZkEAAABoYniGQQAAAABArCJBAAAAEE0LckEAAABgOclsQQ==",
           "dtype": "f8"
          },
          "sizemode": "area",
          "sizeref": 1604684.5577777778,
          "symbol": "circle"
         },
         "mode": "markers",
         "name": "Africa",
         "orientation": "v",
         "showlegend": true,
         "type": "scatter",
         "x": {
          "bdata": "AAAAkF1GhUEAAABYSS6AQQAAAOCav2dBAAAAABxKQkEAAACQUIB0QQAAAKAYYGdBAAAAYIz2eUEAAAAA2iUhQQAAAMCsxFJBAAAAkKIhcEEAAAAAEB0rQQAAAEBulFVBAAAA0OPMeUEAAAAITgaWQQAAAACqlS5BAAAAXGzbmEEAAAAAox82QQAAAAAbektBAAAAAJHjMUEAAAAImBqcQQAAAIDWYkFBAAAAgEz5QkEAAAAAGkN+QQAAAKByvmlBAAAAAALBPkEAAAAwHziKQQAAAIDteEBBAAAAAMzCU0EAAACAcotaQQAAAFBEHHtBAAAAEMy8ckEAAADAuuNzQQAAAIAxN1JBAAAAAFRuM0EAAACYsM6BQQAAAFBOrH5BAAAAAGi9Q0EAAACgc/d3QQAAAABwM6lBAAAAoKxSaUEAAAAAAM+3QAAAAAAgRAtBAAAAQFFmcEEAAAAA4CX4QAAAAMCHDl9BAAAAgAk0b0EAAABgWKGMQQAAACBQtWVBAAAAOBlqhUEAAAAwIlONQQAAAEDEK2BBAAAAgALEZkEAAABoYniGQQAAAABArCJBAAAAEE0LckEAAABgOclsQQ==",
          "dtype": "f8"
         },
         "xaxis": "x",
         "y": {
          "bdata": "uB6F61E4U0AzMzMzM5NOQMP1KFyP4k5A9ihcj8JlUUAK16NwPcpOQArXo3A9yk5AhetRuB6lTUAfhetRuD5SQKRwPQrXo0pAH4XrUbgeS0AUrkfhehRQQBSuR+F6JFBApHA9CtfjTEDXo3A9CldOQNejcD0Kx1BAj8L1KFz/UUAfhetRuF5NQBSuR+F6lFBAuB6F61EYTkBmZmZmZqZQQK5H4XoUnlBAZmZmZmYGT0AUrkfhegRQQM3MzMzMzE5AKVyPwvUoTUDNzMzMzKxQQArXo3A9KktAZmZmZmYGUEAK16NwPTpSQMP1KFyPwlBAcT0K16MQUEBI4XoUrqdNQHsUrkfhOlBAj8L1KFy/UkDsUbgehStTQM3MzMzMbE5AexSuR+HaT0D2KFyPwjVPQLgehetRWEtA4XoUrkdBUUCkcD0K1yNUQClcj8L1mFFAXI/C9Sj8UECamZmZmVlSQJqZmZmZWUtAMzMzMzOzTEC4HoXrUQhQQM3MzMzM7ExApHA9CtdTUEA9CtejcF1QQIXrUbgehU5AzczMzMwsU0CPwvUoXK9PQHE9CtejkFFAUrgehevxT0AfhetRuL5OQA==",
          "dtype": "f8"
         },
         "yaxis": "y"
        },
        {
         "customdata": [
          [
           "0.02M"
          ],
          [
           "0.1M"
          ],
          [
           "0.11M"
          ],
          [
           "0.4M"
          ],
          [
           "0.29M"
          ],
          [
           "0.4M"
          ],
          [
           "0.06M"
          ],
          [
           "0.03M"
          ],
          [
           "38.07M"
          ],
          [
           "0.07M"
          ],
          [
           "5.14M"
          ],
          [
           "11.32M"
          ],
          [
           "0.07M"
          ],
          [
           "10.95M"
          ],
          [
           "6.52M"
          ],
          [
           "0.06M"
          ],
          [
           "0.11M"
          ],
          [
           "18.25M"
          ],
          [
           "11.54M"
          ],
          [
           "10.06M"
          ],
          [
           "2.97M"
          ],
          [
           "130.26M"
          ],
          [
           "0.0M"
          ],
          [
           "6.7M"
          ],
          [
           "4.38M"
          ],
          [
           "2.83M"
          ],
          [
           "0.05M"
          ],
          [
           "0.18M"
          ],
          [
           "0.01M"
          ],
          [
           "0.11M"
          ],
          [
           "1.4M"
          ],
          [
           "0.04M"
          ],
          [
           "332.92M"
          ],
          [
           "0.1M"
          ]
         ],
         "hovertemplate": "<b>%{hovertext}</b><br><br>continent=North America<br>life_expectancy=%{y}<br>population_=%{customdata[0]}<extra></extra>",
         "hovertext": [
          "Anguilla",
          "Antigua and Barbuda",
          "Aruba",
          "Bahamas",
          "Barbados",
          "Belize",
          "Bermuda",
          "British Virgin Islands",
          "Canada",
          "Cayman Islands",
          "Costa Rica",
          "Cuba",
          "Dominica",
          "Dominican Republic",
          "El Salvador",
          "Greenland",
          "Grenada",
          "Guatemala",
          "Haiti",
          "Honduras",
          "Jamaica",
          "Mexico",
          "Montserrat",
          "Nicaragua",
          "Panama",
          "Puerto Rico",
          "Saint Kitts and Nevis",
          "Saint Lucia",
          "Saint Pierre and Miquelon",
          "Saint Vincent and the Grenadines",
          "Trinidad and Tobago",
          "Turks and Caicos Islands",
          "United States",
          "United States Virgin Islands"
         ],
         "legendgroup": "North America",
         "marker": {
          "color": "blue",
          "size": {
           "bdata": "AAAAAICKzUAAAAAAgBr4QAAAAACwK/pAAAAAAMg5GEEAAAAAcI8RQQAAAADMthhBAAAAAIBR7kAAAAAAwLXdQAAAAEj2JoJBAAAAACA88EAAAABAm5pTQQAAAEAflmVBAAAAAMCe8UAAAABAfuRkQQAAAAC53VhBAAAAAIDE60AAAAAAcJf7QAAAAMCIZ3FBAAAAYJYDZkEAAABAkjFjQQAAAACLr0ZBAAAAMJMOn0EAAAAAAHWzQAAAAMBKkVlBAAAAwOO2UEEAAAAA65NFQQAAAABAJepAAAAAAIiCBkEAAAAAAIu2QAAAAABQKvtAAAAAAO5pNUEAAAAAQCfjQAAAAILh17NBAAAAAKBx+UA=",
           "dtype": "f8"
          },
          "sizemode": "area",
          "sizeref": 1604684.5577777778,
          "symbol": "circle"
         },
         "mode": "markers",
         "name": "North America",
         "orientation": "v",
         "showlegend": true,
         "type": "scatter",
         "x": {
          "bdata": "AAAAAICKzUAAAAAAgBr4QAAAAACwK/pAAAAAAMg5GEEAAAAAcI8RQQAAAADMthhBAAAAAIBR7kAAAAAAwLXdQAAAAEj2JoJBAAAAACA88EAAAABAm5pTQQAAAEAflmVBAAAAAMCe8UAAAABAfuRkQQAAAAC53VhBAAAAAIDE60AAAAAAcJf7QAAAAMCIZ3FBAAAAYJYDZkEAAABAkjFjQQAAAACLr0ZBAAAAMJMOn0EAAAAAAHWzQAAAAMBKkVlBAAAAwOO2UEEAAAAA65NFQQAAAABAJepAAAAAAIiCBkEAAAAAAIu2QAAAAABQKvtAAAAAAO5pNUEAAAAAQCfjQAAAAILh17NBAAAAAKBx+UA=",
          "dtype": "f8"
         },
         "xaxis": "x",
         "y": {
          "bdata": "uB6F61F4VEDhehSuR0FTQMP1KFyPElNAexSuR+F6UkBcj8L1KMxTQEjhehSup1JA9ihcj8KlVEAUrkfhesRTQOxRuB6Fm1RAexSuR+H6VEBSuB6F6xFUQDMzMzMzs1NAAAAAAADAUkCF61G4HoVSQBSuR+F6VFJAzczMzMzsUUCamZmZmRlSQDMzMzMzk1JAAAAAAAAAUEDhehSuR9FSQK5H4XoUnlJAMzMzMzPDUkAK16NwPYpSQB+F61G4nlJAcT0K16OgU0BmZmZmZgZUQB+F61G4DlNAzczMzMwMU0AUrkfhekRUQFK4HoXrIVJAcT0K16NgUkCuR+F6FA5UQNejcD0Kt1NAhetRuB4lVEA=",
          "dtype": "f8"
         },
         "yaxis": "y"
        },
        {
         "customdata": [
          [
           "45.61M"
          ],
          [
           "11.83M"
          ],
          [
           "213.99M"
          ],
          [
           "19.21M"
          ],
          [
           "51.27M"
          ],
          [
           "17.89M"
          ],
          [
           "0.0M"
          ],
          [
           "0.79M"
          ],
          [
           "7.22M"
          ],
          [
           "33.36M"
          ],
          [
           "0.59M"
          ],
          [
           "3.49M"
          ],
          [
           "28.7M"
          ]
         ],
         "hovertemplate": "<b>%{hovertext}</b><br><br>continent=South America<br>life_expectancy=%{y}<br>population_=%{customdata[0]}<extra></extra>",
         "hovertext": [
          "Argentina",
          "Bolivia",
          "Brazil",
          "Chile",
          "Colombia",
          "Ecuador",
          "Falkland Islands",
          "Guyana",
          "Paraguay",
          "Peru",
          "Suriname",
          "Uruguay",
          "Venezuela"
         ],
         "legendgroup": "South America",
         "marker": {
          "color": "red",
          "size": {
           "bdata": "AAAA+B2/hUEAAAAAzZFmQQAAAMKPgqlBAAAAoIRSckEAAACICXKIQQAAAKBND3FBAAAAAACQq0AAAAAAch4oQQAAAEBuiltBAAAAcGPQf0EAAAAAbA8iQQAAAADwlkpBAAAAMAtge0E=",
           "dtype": "f8"
          },
          "sizemode": "area",
          "sizeref": 1604684.5577777778,
          "symbol": "circle"
         },
         "mode": "markers",
         "name": "South America",
         "orientation": "v",
         "showlegend": true,
         "type": "scatter",
         "x": {
          "bdata": "AAAA+B2/hUEAAAAAzZFmQQAAAMKPgqlBAAAAoIRSckEAAACICXKIQQAAAKBND3FBAAAAAACQq0AAAAAAch4oQQAAAEBuiltBAAAAcGPQf0EAAAAAbA8iQQAAAADwlkpBAAAAMAtge0E=",
          "dtype": "f8"
         },
         "xaxis": "x",
         "y": {
          "bdata": "exSuR+EqU0BxPQrXo+BRQLgehetR+FJA7FG4HoULVEDD9Shcj1JTQHE9CtejQFNAXI/C9ShcVEAK16NwPXpRQAAAAAAAkFJAj8L1KFwvU0DsUbgehetRQArXo3A9elNApHA9CtcDUkA=",
          "dtype": "f8"
         },
         "yaxis": "y"
        },
        {
         "customdata": [
          [
           "25.79M"
          ],
          [
           "0.02M"
          ],
          [
           "0.9M"
          ],
          [
           "0.28M"
          ],
          [
           "0.17M"
          ],
          [
           "0.12M"
          ],
          [
           "0.06M"
          ],
          [
           "0.12M"
          ],
          [
           "0.01M"
          ],
          [
           "0.29M"
          ],
          [
           "5.13M"
          ],
          [
           "0.0M"
          ],
          [
           "0.06M"
          ],
          [
           "0.02M"
          ],
          [
           "9.12M"
          ],
          [
           "0.2M"
          ],
          [
           "0.7M"
          ],
          [
           "0.0M"
          ],
          [
           "0.11M"
          ],
          [
           "0.01M"
          ],
          [
           "0.31M"
          ],
          [
           "0.01M"
          ]
         ],
         "hovertemplate": "<b>%{hovertext}</b><br><br>continent=Oceania<br>life_expectancy=%{y}<br>population_=%{customdata[0]}<extra></extra>",
         "hovertext": [
          "Australia",
          "Cook Islands",
          "Fiji",
          "French Polynesia",
          "Guam",
          "Kiribati",
          "Marshall Islands",
          "Micronesia (country)",
          "Nauru",
          "New Caledonia",
          "New Zealand",
          "Niue",
          "Northern Mariana Islands",
          "Palau",
          "Papua New Guinea",
          "Samoa",
          "Solomon Islands",
          "Tokelau",
          "Tonga",
          "Tuvalu",
          "Vanuatu",
          "Wallis and Futuna"
         ],
         "legendgroup": "Oceania",
         "marker": {
          "color": "yellow",
          "size": {
           "bdata": "AAAAkPOXeEEAAAAAACnRQAAAAADmjStBAAAAAJg+EUEAAAAAQMYEQQAAAADAov1AAAAAAEAc7UAAAAAA8GH8QAAAAACAPMVAAAAAAGSXEUEAAAAAJ45TQQAAAAAAOJlAAAAAAMBG7EAAAAAAgL/RQAAAAKCjZGFBAAAAAIBuCEEAAAAA9nslQQAAAAAAYJVAAAAAAHAQ+kAAAAAAgErHQAAAAACAMRNBAAAAAACrxUA=",
           "dtype": "f8"
          },
          "sizemode": "area",
          "sizeref": 1604684.5577777778,
          "symbol": "circle"
         },
         "mode": "markers",
         "name": "Oceania",
         "orientation": "v",
         "showlegend": true,
         "type": "scatter",
         "x": {
          "bdata": "AAAAkPOXeEEAAAAAACnRQAAAAADmjStBAAAAAJg+EUEAAAAAQMYEQQAAAADAov1AAAAAAEAc7UAAAAAA8GH8QAAAAACAPMVAAAAAAGSXEUEAAAAAJ45TQQAAAAAAOJlAAAAAAMBG7EAAAAAAgL/RQAAAAKCjZGFBAAAAAIBuCEEAAAAA9nslQQAAAAAAYJVAAAAAAHAQ+kAAAAAAgErHQAAAAACAMRNBAAAAAACrxUA=",
          "dtype": "f8"
         },
         "xaxis": "x",
         "y": {
          "bdata": "XI/C9SjcVEAAAAAAABBTQFyPwvUo3FBACtejcD1qU0AUrkfhegRUQEjhehSuF1FAzczMzMxsUkC4HoXrUfhQQHsUrkfh+k1AMzMzMzNjU0DD9Shcj5JUQD0K16NwbVJAj8L1KFwvU0DNzMzMzGxSQAAAAAAAIFBAFK5H4XpUUkAAAAAAAEBSQNejcD0Kd1RACtejcD26UUAUrkfheuRQQK5H4XoUnlFAXI/C9Sj8U0A=",
          "dtype": "f8"
         },
         "yaxis": "y"
        }
       ],
       "layout": {
        "legend": {
         "itemsizing": "constant",
         "title": {
          "text": "continent"
         },
         "tracegroupgap": 0
        },
        "template": {
         "data": {
          "bar": [
           {
            "error_x": {
             "color": "#2a3f5f"
            },
            "error_y": {
             "color": "#2a3f5f"
            },
            "marker": {
             "line": {
              "color": "#E5ECF6",
              "width": 0.5
             },
             "pattern": {
              "fillmode": "overlay",
              "size": 10,
              "solidity": 0.2
             }
            },
            "type": "bar"
           }
          ],
          "barpolar": [
           {
            "marker": {
             "line": {
              "color": "#E5ECF6",
              "width": 0.5
             },
             "pattern": {
              "fillmode": "overlay",
              "size": 10,
              "solidity": 0.2
             }
            },
            "type": "barpolar"
           }
          ],
          "carpet": [
           {
            "aaxis": {
             "endlinecolor": "#2a3f5f",
             "gridcolor": "white",
             "linecolor": "white",
             "minorgridcolor": "white",
             "startlinecolor": "#2a3f5f"
            },
            "baxis": {
             "endlinecolor": "#2a3f5f",
             "gridcolor": "white",
             "linecolor": "white",
             "minorgridcolor": "white",
             "startlinecolor": "#2a3f5f"
            },
            "type": "carpet"
           }
          ],
          "choropleth": [
           {
            "colorbar": {
             "outlinewidth": 0,
             "ticks": ""
            },
            "type": "choropleth"
           }
          ],
          "contour": [
           {
            "colorbar": {
             "outlinewidth": 0,
             "ticks": ""
            },
            "colorscale": [
             [
              0,
              "#0d0887"
             ],
             [
              0.1111111111111111,
              "#46039f"
             ],
             [
              0.2222222222222222,
              "#7201a8"
             ],
             [
              0.3333333333333333,
              "#9c179e"
             ],
             [
              0.4444444444444444,
              "#bd3786"
             ],
             [
              0.5555555555555556,
              "#d8576b"
             ],
             [
              0.6666666666666666,
              "#ed7953"
             ],
             [
              0.7777777777777778,
              "#fb9f3a"
             ],
             [
              0.8888888888888888,
              "#fdca26"
             ],
             [
              1,
              "#f0f921"
             ]
            ],
            "type": "contour"
           }
          ],
          "contourcarpet": [
           {
            "colorbar": {
             "outlinewidth": 0,
             "ticks": ""
            },
            "type": "contourcarpet"
           }
          ],
          "heatmap": [
           {
            "colorbar": {
             "outlinewidth": 0,
             "ticks": ""
            },
            "colorscale": [
             [
              0,
              "#0d0887"
             ],
             [
              0.1111111111111111,
              "#46039f"
             ],
             [
              0.2222222222222222,
              "#7201a8"
             ],
             [
              0.3333333333333333,
              "#9c179e"
             ],
             [
              0.4444444444444444,
              "#bd3786"
             ],
             [
              0.5555555555555556,
              "#d8576b"
             ],
             [
              0.6666666666666666,
              "#ed7953"
             ],
             [
              0.7777777777777778,
              "#fb9f3a"
             ],
             [
              0.8888888888888888,
              "#fdca26"
             ],
             [
              1,
              "#f0f921"
             ]
            ],
            "type": "heatmap"
           }
          ],
          "histogram": [
           {
            "marker": {
             "pattern": {
              "fillmode": "overlay",
              "size": 10,
              "solidity": 0.2
             }
            },
            "type": "histogram"
           }
          ],
          "histogram2d": [
           {
            "colorbar": {
             "outlinewidth": 0,
             "ticks": ""
            },
            "colorscale": [
             [
              0,
              "#0d0887"
             ],
             [
              0.1111111111111111,
              "#46039f"
             ],
             [
              0.2222222222222222,
              "#7201a8"
             ],
             [
              0.3333333333333333,
              "#9c179e"
             ],
             [
              0.4444444444444444,
              "#bd3786"
             ],
             [
              0.5555555555555556,
              "#d8576b"
             ],
             [
              0.6666666666666666,
              "#ed7953"
             ],
             [
              0.7777777777777778,
              "#fb9f3a"
             ],
             [
              0.8888888888888888,
              "#fdca26"
             ],
             [
              1,
              "#f0f921"
             ]
            ],
            "type": "histogram2d"
           }
          ],
          "histogram2dcontour": [
           {
            "colorbar": {
             "outlinewidth": 0,
             "ticks": ""
            },
            "colorscale": [
             [
              0,
              "#0d0887"
             ],
             [
              0.1111111111111111,
              "#46039f"
             ],
             [
              0.2222222222222222,
              "#7201a8"
             ],
             [
              0.3333333333333333,
              "#9c179e"
             ],
             [
              0.4444444444444444,
              "#bd3786"
             ],
             [
              0.5555555555555556,
              "#d8576b"
             ],
             [
              0.6666666666666666,
              "#ed7953"
             ],
             [
              0.7777777777777778,
              "#fb9f3a"
             ],
             [
              0.8888888888888888,
              "#fdca26"
             ],
             [
              1,
              "#f0f921"
             ]
            ],
            "type": "histogram2dcontour"
           }
          ],
          "mesh3d": [
           {
            "colorbar": {
             "outlinewidth": 0,
             "ticks": ""
            },
            "type": "mesh3d"
           }
          ],
          "parcoords": [
           {
            "line": {
             "colorbar": {
              "outlinewidth": 0,
              "ticks": ""
             }
            },
            "type": "parcoords"
           }
          ],
          "pie": [
           {
            "automargin": true,
            "type": "pie"
           }
          ],
          "scatter": [
           {
            "fillpattern": {
             "fillmode": "overlay",
             "size": 10,
             "solidity": 0.2
            },
            "type": "scatter"
           }
          ],
          "scatter3d": [
           {
            "line": {
             "colorbar": {
              "outlinewidth": 0,
              "ticks": ""
             }
            },
            "marker": {
             "colorbar": {
              "outlinewidth": 0,
              "ticks": ""
             }
            },
            "type": "scatter3d"
           }
          ],
          "scattercarpet": [
           {
            "marker": {
             "colorbar": {
              "outlinewidth": 0,
              "ticks": ""
             }
            },
            "type": "scattercarpet"
           }
          ],
          "scattergeo": [
           {
            "marker": {
             "colorbar": {
              "outlinewidth": 0,
              "ticks": ""
             }
            },
            "type": "scattergeo"
           }
          ],
          "scattergl": [
           {
            "marker": {
             "colorbar": {
              "outlinewidth": 0,
              "ticks": ""
             }
            },
            "type": "scattergl"
           }
          ],
          "scattermap": [
           {
            "marker": {
             "colorbar": {
              "outlinewidth": 0,
              "ticks": ""
             }
            },
            "type": "scattermap"
           }
          ],
          "scattermapbox": [
           {
            "marker": {
             "colorbar": {
              "outlinewidth": 0,
              "ticks": ""
             }
            },
            "type": "scattermapbox"
           }
          ],
          "scatterpolar": [
           {
            "marker": {
             "colorbar": {
              "outlinewidth": 0,
              "ticks": ""
             }
            },
            "type": "scatterpolar"
           }
          ],
          "scatterpolargl": [
           {
            "marker": {
             "colorbar": {
              "outlinewidth": 0,
              "ticks": ""
             }
            },
            "type": "scatterpolargl"
           }
          ],
          "scatterternary": [
           {
            "marker": {
             "colorbar": {
              "outlinewidth": 0,
              "ticks": ""
             }
            },
            "type": "scatterternary"
           }
          ],
          "surface": [
           {
            "colorbar": {
             "outlinewidth": 0,
             "ticks": ""
            },
            "colorscale": [
             [
              0,
              "#0d0887"
             ],
             [
              0.1111111111111111,
              "#46039f"
             ],
             [
              0.2222222222222222,
              "#7201a8"
             ],
             [
              0.3333333333333333,
              "#9c179e"
             ],
             [
              0.4444444444444444,
              "#bd3786"
             ],
             [
              0.5555555555555556,
              "#d8576b"
             ],
             [
              0.6666666666666666,
              "#ed7953"
             ],
             [
              0.7777777777777778,
              "#fb9f3a"
             ],
             [
              0.8888888888888888,
              "#fdca26"
             ],
             [
              1,
              "#f0f921"
             ]
            ],
            "type": "surface"
           }
          ],
          "table": [
           {
            "cells": {
             "fill": {
              "color": "#EBF0F8"
             },
             "line": {
              "color": "white"
             }
            },
            "header": {
             "fill": {
              "color": "#C8D4E3"
             },
             "line": {
              "color": "white"
             }
            },
            "type": "table"
           }
          ]
         },
         "layout": {
          "annotationdefaults": {
           "arrowcolor": "#2a3f5f",
           "arrowhead": 0,
           "arrowwidth": 1
          },
          "autotypenumbers": "strict",
          "coloraxis": {
           "colorbar": {
            "outlinewidth": 0,
            "ticks": ""
           }
          },
          "colorscale": {
           "diverging": [
            [
             0,
             "#8e0152"
            ],
            [
             0.1,
             "#c51b7d"
            ],
            [
             0.2,
             "#de77ae"
            ],
            [
             0.3,
             "#f1b6da"
            ],
            [
             0.4,
             "#fde0ef"
            ],
            [
             0.5,
             "#f7f7f7"
            ],
            [
             0.6,
             "#e6f5d0"
            ],
            [
             0.7,
             "#b8e186"
            ],
            [
             0.8,
             "#7fbc41"
            ],
            [
             0.9,
             "#4d9221"
            ],
            [
             1,
             "#276419"
            ]
           ],
           "sequential": [
            [
             0,
             "#0d0887"
            ],
            [
             0.1111111111111111,
             "#46039f"
            ],
            [
             0.2222222222222222,
             "#7201a8"
            ],
            [
             0.3333333333333333,
             "#9c179e"
            ],
            [
             0.4444444444444444,
             "#bd3786"
            ],
            [
             0.5555555555555556,
             "#d8576b"
            ],
            [
             0.6666666666666666,
             "#ed7953"
            ],
            [
             0.7777777777777778,
             "#fb9f3a"
            ],
            [
             0.8888888888888888,
             "#fdca26"
            ],
            [
             1,
             "#f0f921"
            ]
           ],
           "sequentialminus": [
            [
             0,
             "#0d0887"
            ],
            [
             0.1111111111111111,
             "#46039f"
            ],
            [
             0.2222222222222222,
             "#7201a8"
            ],
            [
             0.3333333333333333,
             "#9c179e"
            ],
            [
             0.4444444444444444,
             "#bd3786"
            ],
            [
             0.5555555555555556,
             "#d8576b"
            ],
            [
             0.6666666666666666,
             "#ed7953"
            ],
            [
             0.7777777777777778,
             "#fb9f3a"
            ],
            [
             0.8888888888888888,
             "#fdca26"
            ],
            [
             1,
             "#f0f921"
            ]
           ]
          },
          "colorway": [
           "#636efa",
           "#EF553B",
           "#00cc96",
           "#ab63fa",
           "#FFA15A",
           "#19d3f3",
           "#FF6692",
           "#B6E880",
           "#FF97FF",
           "#FECB52"
          ],
          "font": {
           "color": "#2a3f5f"
          },
          "geo": {
           "bgcolor": "white",
           "lakecolor": "white",
           "landcolor": "#E5ECF6",
           "showlakes": true,
           "showland": true,
           "subunitcolor": "white"
          },
          "hoverlabel": {
           "align": "left"
          },
          "hovermode": "closest",
          "mapbox": {
           "style": "light"
          },
          "paper_bgcolor": "white",
          "plot_bgcolor": "#E5ECF6",
          "polar": {
           "angularaxis": {
            "gridcolor": "white",
            "linecolor": "white",
            "ticks": ""
           },
           "bgcolor": "#E5ECF6",
           "radialaxis": {
            "gridcolor": "white",
            "linecolor": "white",
            "ticks": ""
           }
          },
          "scene": {
           "xaxis": {
            "backgroundcolor": "#E5ECF6",
            "gridcolor": "white",
            "gridwidth": 2,
            "linecolor": "white",
            "showbackground": true,
            "ticks": "",
            "zerolinecolor": "white"
           },
           "yaxis": {
            "backgroundcolor": "#E5ECF6",
            "gridcolor": "white",
            "gridwidth": 2,
            "linecolor": "white",
            "showbackground": true,
            "ticks": "",
            "zerolinecolor": "white"
           },
           "zaxis": {
            "backgroundcolor": "#E5ECF6",
            "gridcolor": "white",
            "gridwidth": 2,
            "linecolor": "white",
            "showbackground": true,
            "ticks": "",
            "zerolinecolor": "white"
           }
          },
          "shapedefaults": {
           "line": {
            "color": "#2a3f5f"
           }
          },
          "ternary": {
           "aaxis": {
            "gridcolor": "white",
            "linecolor": "white",
            "ticks": ""
           },
           "baxis": {
            "gridcolor": "white",
            "linecolor": "white",
            "ticks": ""
           },
           "bgcolor": "#E5ECF6",
           "caxis": {
            "gridcolor": "white",
            "linecolor": "white",
            "ticks": ""
           }
          },
          "title": {
           "x": 0.05
          },
          "xaxis": {
           "automargin": true,
           "gridcolor": "white",
           "linecolor": "white",
           "ticks": "",
           "title": {
            "standoff": 15
           },
           "zerolinecolor": "white",
           "zerolinewidth": 2
          },
          "yaxis": {
           "automargin": true,
           "gridcolor": "white",
           "linecolor": "white",
           "ticks": "",
           "title": {
            "standoff": 15
           },
           "zerolinecolor": "white",
           "zerolinewidth": 2
          }
         }
        },
        "title": {
         "text": " Relationship Between Population and Life Expectancy"
        },
        "xaxis": {
         "anchor": "y",
         "domain": [
          0,
          1
         ],
         "title": {
          "text": "Population (log scale)"
         },
         "type": "log"
        },
        "yaxis": {
         "anchor": "x",
         "domain": [
          0,
          1
         ],
         "title": {
          "text": "Life Expectancy (years)"
         }
        }
       }
      }
     },
     "metadata": {},
     "output_type": "display_data"
    }
   ],
   "source": [
    "\n",
    "# --------------------------------------\n",
    "# Prepare data to create the chart\n",
    "# --------------------------------------\n",
    "df_population_lifeexp = covid_df[['location', 'continent', 'population', 'life_expectancy']].drop_duplicates()\n",
    "df_population_lifeexp = df_population_lifeexp.dropna(subset=['population', 'life_expectancy'])\n",
    "\n",
    "# -----Create a string version of population for hover (e.g., \"1.23M\")-----\n",
    "df_population_lifeexp['population_'] = (df_population_lifeexp['population'] / 1_000_000).round(2).astype(str) + \"M\"\n",
    "\n",
    "# ----- Define custom colors -----\n",
    "continent_colors = {\n",
    "    \"Oceania\": \"yellow\",\n",
    "    \"Europe\": \"#FF00FF\",\n",
    "    \"Asia\": \"purple\",\n",
    "    \"Africa\": \"green\",\n",
    "    \"North America\": \"blue\",\n",
    "    \"South America\": \"red\"\n",
    "}\n",
    "\n",
    "# ----- Create scatter plot -----\n",
    "fig = px.scatter(\n",
    "    df_population_lifeexp,\n",
    "    x=\"population\",\n",
    "    y=\"life_expectancy\",\n",
    "    color=\"continent\",\n",
    "    hover_name=\"location\",\n",
    "    hover_data={\n",
    "        \"population\": False,          # hide original population\n",
    "        \"population_\": True,       # show formatted population\n",
    "        \"life_expectancy\": True\n",
    "    },\n",
    "    size=\"population\",             # bubbles scale with population\n",
    "    size_max=30,                   # increase bubble size\n",
    "    title=\" Relationship Between Population and Life Expectancy\",\n",
    "    color_discrete_map=continent_colors # apply custom mapping\n",
    ")\n",
    "\n",
    "# ----- Set X axis to logarithmic -----\n",
    "fig.update_xaxes(type=\"log\", title=\"Population (log scale)\")\n",
    "fig.update_yaxes(title=\"Life Expectancy (years)\")\n",
    "\n",
    "# ----- Show chart------\n",
    "fig.show()\n"
   ]
  },
  {
   "cell_type": "markdown",
   "id": "3c3c4ae9",
   "metadata": {},
   "source": [
    "#  Third Visualization - Number of diagnosed cases\n",
    "\n",
    "## Task\n",
    "\n",
    "Using your data frame and the plotly library, create a visualization that shows how the number of new COVID-19 cases is distributed over time.  \n",
    "Compare two countries of your choice."
   ]
  },
  {
   "cell_type": "code",
   "execution_count": 48,
   "id": "09ac5f06",
   "metadata": {},
   "outputs": [
    {
     "data": {
      "application/vnd.plotly.v1+json": {
       "config": {
        "plotlyServerURL": "https://plot.ly"
       },
       "data": [
        {
         "hovertemplate": "location=Brazil<br>date=%{x}<br>new_cases=%{y}<extra></extra>",
         "legendgroup": "Brazil",
         "line": {
          "color": "#17becf",
          "dash": "solid"
         },
         "marker": {
          "symbol": "circle"
         },
         "mode": "lines",
         "name": "Brazil",
         "showlegend": true,
         "type": "scattergl",
         "x": [
          "2020-02-26",
          "2020-02-27",
          "2020-02-28",
          "2020-02-29",
          "2020-03-01",
          "2020-03-02",
          "2020-03-03",
          "2020-03-04",
          "2020-03-05",
          "2020-03-06",
          "2020-03-07",
          "2020-03-08",
          "2020-03-09",
          "2020-03-10",
          "2020-03-11",
          "2020-03-12",
          "2020-03-13",
          "2020-03-14",
          "2020-03-15",
          "2020-03-16",
          "2020-03-17",
          "2020-03-18",
          "2020-03-19",
          "2020-03-20",
          "2020-03-21",
          "2020-03-22",
          "2020-03-23",
          "2020-03-24",
          "2020-03-25",
          "2020-03-26",
          "2020-03-27",
          "2020-03-28",
          "2020-03-29",
          "2020-03-30",
          "2020-03-31",
          "2020-04-01",
          "2020-04-02",
          "2020-04-03",
          "2020-04-04",
          "2020-04-05",
          "2020-04-06",
          "2020-04-07",
          "2020-04-08",
          "2020-04-09",
          "2020-04-10",
          "2020-04-11",
          "2020-04-12",
          "2020-04-13",
          "2020-04-14",
          "2020-04-15",
          "2020-04-16",
          "2020-04-17",
          "2020-04-18",
          "2020-04-19",
          "2020-04-20",
          "2020-04-21",
          "2020-04-22",
          "2020-04-23",
          "2020-04-24",
          "2020-04-25",
          "2020-04-26",
          "2020-04-27",
          "2020-04-28",
          "2020-04-29",
          "2020-04-30",
          "2020-05-01",
          "2020-05-02",
          "2020-05-03",
          "2020-05-04",
          "2020-05-05",
          "2020-05-06",
          "2020-05-07",
          "2020-05-08",
          "2020-05-09",
          "2020-05-10",
          "2020-05-11",
          "2020-05-12",
          "2020-05-13",
          "2020-05-14",
          "2020-05-15",
          "2020-05-16",
          "2020-05-17",
          "2020-05-18",
          "2020-05-19",
          "2020-05-20",
          "2020-05-21",
          "2020-05-22",
          "2020-05-23",
          "2020-05-24",
          "2020-05-25",
          "2020-05-26",
          "2020-05-27",
          "2020-05-28",
          "2020-05-29",
          "2020-05-30",
          "2020-05-31",
          "2020-06-01",
          "2020-06-02",
          "2020-06-03",
          "2020-06-04",
          "2020-06-05",
          "2020-06-06",
          "2020-06-07",
          "2020-06-08",
          "2020-06-09",
          "2020-06-10",
          "2020-06-11",
          "2020-06-12",
          "2020-06-13",
          "2020-06-14",
          "2020-06-15",
          "2020-06-16",
          "2020-06-17",
          "2020-06-18",
          "2020-06-19",
          "2020-06-20",
          "2020-06-21",
          "2020-06-22",
          "2020-06-23",
          "2020-06-24",
          "2020-06-25",
          "2020-06-26",
          "2020-06-27",
          "2020-06-28",
          "2020-06-29",
          "2020-06-30",
          "2020-07-01",
          "2020-07-02",
          "2020-07-03",
          "2020-07-04",
          "2020-07-05",
          "2020-07-06",
          "2020-07-07",
          "2020-07-08",
          "2020-07-09",
          "2020-07-10",
          "2020-07-11",
          "2020-07-12",
          "2020-07-13",
          "2020-07-14",
          "2020-07-15",
          "2020-07-16",
          "2020-07-17",
          "2020-07-18",
          "2020-07-19",
          "2020-07-20",
          "2020-07-21",
          "2020-07-22",
          "2020-07-23",
          "2020-07-24",
          "2020-07-25",
          "2020-07-26",
          "2020-07-27",
          "2020-07-28",
          "2020-07-29",
          "2020-07-30",
          "2020-07-31",
          "2020-08-01",
          "2020-08-02",
          "2020-08-03",
          "2020-08-04",
          "2020-08-05",
          "2020-08-06",
          "2020-08-07",
          "2020-08-08",
          "2020-08-09",
          "2020-08-10",
          "2020-08-11",
          "2020-08-12",
          "2020-08-13",
          "2020-08-14",
          "2020-08-15",
          "2020-08-16",
          "2020-08-17",
          "2020-08-18",
          "2020-08-19",
          "2020-08-20",
          "2020-08-21",
          "2020-08-22",
          "2020-08-23",
          "2020-08-24",
          "2020-08-25",
          "2020-08-26",
          "2020-08-27",
          "2020-08-28",
          "2020-08-29",
          "2020-08-30",
          "2020-08-31",
          "2020-09-01",
          "2020-09-02",
          "2020-09-03",
          "2020-09-04",
          "2020-09-05",
          "2020-09-06",
          "2020-09-07",
          "2020-09-08",
          "2020-09-09",
          "2020-09-10",
          "2020-09-11",
          "2020-09-12",
          "2020-09-13",
          "2020-09-14",
          "2020-09-15",
          "2020-09-16",
          "2020-09-17",
          "2020-09-18",
          "2020-09-19",
          "2020-09-20",
          "2020-09-21",
          "2020-09-22",
          "2020-09-23",
          "2020-09-24",
          "2020-09-25",
          "2020-09-26",
          "2020-09-27",
          "2020-09-28",
          "2020-09-29",
          "2020-09-30",
          "2020-10-01",
          "2020-10-02",
          "2020-10-03",
          "2020-10-04",
          "2020-10-05",
          "2020-10-06",
          "2020-10-07",
          "2020-10-08",
          "2020-10-09",
          "2020-10-10",
          "2020-10-11",
          "2020-10-12",
          "2020-10-13",
          "2020-10-14",
          "2020-10-15",
          "2020-10-16",
          "2020-10-17",
          "2020-10-18",
          "2020-10-19",
          "2020-10-20",
          "2020-10-21",
          "2020-10-22",
          "2020-10-23",
          "2020-10-24",
          "2020-10-25",
          "2020-10-26",
          "2020-10-27",
          "2020-10-28",
          "2020-10-29",
          "2020-10-30",
          "2020-10-31",
          "2020-11-01",
          "2020-11-02",
          "2020-11-03",
          "2020-11-04",
          "2020-11-05",
          "2020-11-06",
          "2020-11-07",
          "2020-11-08",
          "2020-11-09",
          "2020-11-10",
          "2020-11-11",
          "2020-11-12",
          "2020-11-13",
          "2020-11-14",
          "2020-11-15",
          "2020-11-16",
          "2020-11-17",
          "2020-11-18",
          "2020-11-19",
          "2020-11-20",
          "2020-11-21",
          "2020-11-22",
          "2020-11-23",
          "2020-11-24",
          "2020-11-25",
          "2020-11-26",
          "2020-11-27",
          "2020-11-28",
          "2020-11-29",
          "2020-11-30",
          "2020-12-01",
          "2020-12-02",
          "2020-12-03",
          "2020-12-04",
          "2020-12-05",
          "2020-12-06",
          "2020-12-07",
          "2020-12-08",
          "2020-12-09",
          "2020-12-10",
          "2020-12-11",
          "2020-12-12",
          "2020-12-13",
          "2020-12-14",
          "2020-12-15",
          "2020-12-16",
          "2020-12-17",
          "2020-12-18",
          "2020-12-19",
          "2020-12-20",
          "2020-12-21",
          "2020-12-22",
          "2020-12-23",
          "2020-12-24",
          "2020-12-25",
          "2020-12-26",
          "2020-12-27",
          "2020-12-28",
          "2020-12-29",
          "2020-12-30",
          "2020-12-31",
          "2021-01-01",
          "2021-01-02",
          "2021-01-03",
          "2021-01-04",
          "2021-01-05",
          "2021-01-06",
          "2021-01-07",
          "2021-01-08",
          "2021-01-09",
          "2021-01-10",
          "2021-01-11",
          "2021-01-12",
          "2021-01-13",
          "2021-01-14",
          "2021-01-15",
          "2021-01-16",
          "2021-01-17",
          "2021-01-18",
          "2021-01-19",
          "2021-01-20",
          "2021-01-21",
          "2021-01-22",
          "2021-01-23",
          "2021-01-24",
          "2021-01-25",
          "2021-01-26",
          "2021-01-27",
          "2021-01-28",
          "2021-01-29",
          "2021-01-30",
          "2021-01-31",
          "2021-02-01",
          "2021-02-02",
          "2021-02-03",
          "2021-02-04",
          "2021-02-05",
          "2021-02-06",
          "2021-02-07",
          "2021-02-08",
          "2021-02-09",
          "2021-02-10",
          "2021-02-11",
          "2021-02-12",
          "2021-02-13",
          "2021-02-14",
          "2021-02-15",
          "2021-02-16",
          "2021-02-17",
          "2021-02-18",
          "2021-02-19",
          "2021-02-20",
          "2021-02-21",
          "2021-02-22",
          "2021-02-23",
          "2021-02-24",
          "2021-02-25",
          "2021-02-26",
          "2021-02-27",
          "2021-02-28",
          "2021-03-01",
          "2021-03-02",
          "2021-03-03",
          "2021-03-04",
          "2021-03-05",
          "2021-03-06",
          "2021-03-07",
          "2021-03-08",
          "2021-03-09",
          "2021-03-10",
          "2021-03-11",
          "2021-03-12",
          "2021-03-13",
          "2021-03-14",
          "2021-03-15",
          "2021-03-16",
          "2021-03-17",
          "2021-03-18",
          "2021-03-19",
          "2021-03-20",
          "2021-03-21",
          "2021-03-22",
          "2021-03-23",
          "2021-03-24",
          "2021-03-25",
          "2021-03-26",
          "2021-03-27",
          "2021-03-28",
          "2021-03-29",
          "2021-03-30",
          "2021-03-31",
          "2021-04-01",
          "2021-04-02",
          "2021-04-03",
          "2021-04-04",
          "2021-04-05",
          "2021-04-06",
          "2021-04-07",
          "2021-04-08",
          "2021-04-09",
          "2021-04-10",
          "2021-04-11",
          "2021-04-12",
          "2021-04-13",
          "2021-04-14",
          "2021-04-15",
          "2021-04-16",
          "2021-04-17",
          "2021-04-18",
          "2021-04-19",
          "2021-04-20",
          "2021-04-21",
          "2021-04-22",
          "2021-04-23",
          "2021-04-24",
          "2021-04-25",
          "2021-04-26",
          "2021-04-27",
          "2021-04-28",
          "2021-04-29",
          "2021-04-30",
          "2021-05-01",
          "2021-05-02",
          "2021-05-03",
          "2021-05-04",
          "2021-05-05",
          "2021-05-06",
          "2021-05-07",
          "2021-05-08",
          "2021-05-09",
          "2021-05-10",
          "2021-05-11",
          "2021-05-12",
          "2021-05-13",
          "2021-05-14",
          "2021-05-15",
          "2021-05-16",
          "2021-05-17",
          "2021-05-18",
          "2021-05-19",
          "2021-05-20",
          "2021-05-21",
          "2021-05-22",
          "2021-05-23",
          "2021-05-24",
          "2021-05-25",
          "2021-05-26",
          "2021-05-27",
          "2021-05-28",
          "2021-05-29",
          "2021-05-30",
          "2021-05-31",
          "2021-06-01",
          "2021-06-02",
          "2021-06-03",
          "2021-06-04",
          "2021-06-05",
          "2021-06-06",
          "2021-06-07",
          "2021-06-08",
          "2021-06-09",
          "2021-06-10",
          "2021-06-11",
          "2021-06-12",
          "2021-06-13",
          "2021-06-14",
          "2021-06-15",
          "2021-06-16",
          "2021-06-17",
          "2021-06-18",
          "2021-06-19",
          "2021-06-20",
          "2021-06-21",
          "2021-06-22",
          "2021-06-23",
          "2021-06-24",
          "2021-06-25",
          "2021-06-26",
          "2021-06-27",
          "2021-06-28",
          "2021-06-29",
          "2021-06-30",
          "2021-07-01",
          "2021-07-02",
          "2021-07-03",
          "2021-07-04",
          "2021-07-05",
          "2021-07-06",
          "2021-07-07",
          "2021-07-08",
          "2021-07-09",
          "2021-07-10",
          "2021-07-11",
          "2021-07-12",
          "2021-07-13",
          "2021-07-14",
          "2021-07-15",
          "2021-07-16",
          "2021-07-17",
          "2021-07-18",
          "2021-07-19",
          "2021-07-20",
          "2021-07-21",
          "2021-07-22",
          "2021-07-23",
          "2021-07-24",
          "2021-07-25",
          "2021-07-26",
          "2021-07-27",
          "2021-07-28",
          "2021-07-29",
          "2021-07-30",
          "2021-07-31",
          "2021-08-01",
          "2021-08-02",
          "2021-08-03",
          "2021-08-04",
          "2021-08-05",
          "2021-08-06",
          "2021-08-07",
          "2021-08-08",
          "2021-08-09",
          "2021-08-10",
          "2021-08-11",
          "2021-08-12",
          "2021-08-13",
          "2021-08-14",
          "2021-08-15",
          "2021-08-16",
          "2021-08-17",
          "2021-08-18",
          "2021-08-19",
          "2021-08-20",
          "2021-08-21",
          "2021-08-22",
          "2021-08-23",
          "2021-08-24",
          "2021-08-25",
          "2021-08-26",
          "2021-08-27",
          "2021-08-28",
          "2021-08-29",
          "2021-08-30",
          "2021-08-31",
          "2021-09-01",
          "2021-09-02",
          "2021-09-03",
          "2021-09-04",
          "2021-09-05",
          "2021-09-06",
          "2021-09-07",
          "2021-09-08",
          "2021-09-09",
          "2021-09-10",
          "2021-09-11",
          "2021-09-12",
          "2021-09-13",
          "2021-09-14",
          "2021-09-15",
          "2021-09-16",
          "2021-09-17",
          "2021-09-18",
          "2021-09-19",
          "2021-09-20",
          "2021-09-21",
          "2021-09-22",
          "2021-09-23",
          "2021-09-24",
          "2021-09-25",
          "2021-09-26",
          "2021-09-27",
          "2021-09-28",
          "2021-09-29",
          "2021-09-30",
          "2021-10-01",
          "2021-10-02",
          "2021-10-03",
          "2021-10-04",
          "2021-10-05",
          "2021-10-06",
          "2021-10-07",
          "2021-10-08",
          "2021-10-09",
          "2021-10-10",
          "2021-10-11",
          "2021-10-12",
          "2021-10-13",
          "2021-10-14",
          "2021-10-15",
          "2021-10-16",
          "2021-10-17",
          "2021-10-18",
          "2021-10-19",
          "2021-10-20",
          "2021-10-21",
          "2021-10-22",
          "2021-10-23",
          "2021-10-24",
          "2021-10-25",
          "2021-10-26",
          "2021-10-27",
          "2021-10-28",
          "2021-10-29",
          "2021-10-30",
          "2021-10-31",
          "2021-11-01",
          "2021-11-02",
          "2021-11-03",
          "2021-11-04",
          "2021-11-05",
          "2021-11-06",
          "2021-11-07",
          "2021-11-08",
          "2021-11-09",
          "2021-11-10",
          "2021-11-11",
          "2021-11-12",
          "2021-11-13",
          "2021-11-14",
          "2021-11-15",
          "2021-11-16",
          "2021-11-17",
          "2021-11-18",
          "2021-11-19",
          "2021-11-20",
          "2021-11-21",
          "2021-11-22",
          "2021-11-23",
          "2021-11-24",
          "2021-11-25",
          "2021-11-26",
          "2021-11-27",
          "2021-11-28",
          "2021-11-29",
          "2021-11-30",
          "2021-12-01",
          "2021-12-02",
          "2021-12-03",
          "2021-12-04",
          "2021-12-05",
          "2021-12-06",
          "2021-12-07",
          "2021-12-08",
          "2021-12-09",
          "2021-12-10",
          "2021-12-11",
          "2021-12-12",
          "2021-12-13",
          "2021-12-14",
          "2021-12-15",
          "2021-12-16",
          "2021-12-17",
          "2021-12-18",
          "2021-12-19",
          "2021-12-20",
          "2021-12-21",
          "2021-12-22",
          "2021-12-23",
          "2021-12-24",
          "2021-12-25",
          "2021-12-26",
          "2021-12-27",
          "2021-12-28",
          "2021-12-29",
          "2021-12-30",
          "2021-12-31",
          "2022-01-01",
          "2022-01-02",
          "2022-01-03",
          "2022-01-04",
          "2022-01-05",
          "2022-01-06",
          "2022-01-07",
          "2022-01-08",
          "2022-01-09",
          "2022-01-10",
          "2022-01-11",
          "2022-01-12",
          "2022-01-13",
          "2022-01-14",
          "2022-01-15",
          "2022-01-16",
          "2022-01-17",
          "2022-01-18",
          "2022-01-19",
          "2022-01-20",
          "2022-01-21",
          "2022-01-22",
          "2022-01-23",
          "2022-01-24",
          "2022-01-25",
          "2022-01-26",
          "2022-01-27",
          "2022-01-28",
          "2022-01-29",
          "2022-01-30",
          "2022-01-31",
          "2022-02-01",
          "2022-02-02",
          "2022-02-03",
          "2022-02-04",
          "2022-02-05",
          "2022-02-06",
          "2022-02-07",
          "2022-02-08",
          "2022-02-09",
          "2022-02-10",
          "2022-02-11",
          "2022-02-12",
          "2022-02-13",
          "2022-02-14",
          "2022-02-15",
          "2022-02-16",
          "2022-02-17",
          "2022-02-18",
          "2022-02-19",
          "2022-02-20",
          "2022-02-21",
          "2022-02-22",
          "2022-02-23",
          "2022-02-24",
          "2022-02-25",
          "2022-02-26",
          "2022-02-27",
          "2022-02-28",
          "2022-03-01",
          "2022-03-02",
          "2022-03-03",
          "2022-03-04",
          "2022-03-05",
          "2022-03-06",
          "2022-03-07",
          "2022-03-08",
          "2022-03-09",
          "2022-03-10",
          "2022-03-11",
          "2022-03-12",
          "2022-03-13",
          "2022-03-14",
          "2022-03-15",
          "2022-03-16",
          "2022-03-17",
          "2022-03-18",
          "2022-03-19",
          "2022-03-20",
          "2022-03-21",
          "2022-03-22",
          "2022-03-23",
          "2022-03-24",
          "2022-03-25",
          "2022-03-26",
          "2022-03-27",
          "2022-03-28",
          "2022-03-29",
          "2022-03-30",
          "2022-03-31",
          "2022-04-01",
          "2022-04-02",
          "2022-04-03",
          "2022-04-04",
          "2022-04-05",
          "2022-04-06",
          "2022-04-07",
          "2022-04-08",
          "2022-04-09",
          "2022-04-10",
          "2022-04-11",
          "2022-04-12",
          "2022-04-13",
          "2022-04-14",
          "2022-04-15",
          "2022-04-16",
          "2022-04-17",
          "2022-04-18",
          "2022-04-19",
          "2022-04-20",
          "2022-04-21",
          "2022-04-22",
          "2022-04-23",
          "2022-04-24",
          "2022-04-25",
          "2022-04-26",
          "2022-04-27",
          "2022-04-28",
          "2022-04-29",
          "2022-04-30",
          "2022-05-01",
          "2022-05-02",
          "2022-05-03",
          "2022-05-04",
          "2022-05-05",
          "2022-05-06",
          "2022-05-07",
          "2022-05-08",
          "2022-05-09",
          "2022-05-10",
          "2022-05-11",
          "2022-05-12",
          "2022-05-13",
          "2022-05-14",
          "2022-05-15",
          "2022-05-16",
          "2022-05-17",
          "2022-05-18",
          "2022-05-19",
          "2022-05-20",
          "2022-05-21",
          "2022-05-22",
          "2022-05-23",
          "2022-05-24",
          "2022-05-25",
          "2022-05-26",
          "2022-05-27",
          "2022-05-28",
          "2022-05-29",
          "2022-05-30",
          "2022-05-31",
          "2022-06-01",
          "2022-06-02",
          "2022-06-03",
          "2022-06-04",
          "2022-06-05",
          "2022-06-06",
          "2022-06-07",
          "2022-06-08",
          "2022-06-09",
          "2022-06-10",
          "2022-06-11",
          "2022-06-12",
          "2022-06-13",
          "2022-06-14",
          "2022-06-15",
          "2022-06-16",
          "2022-06-17",
          "2022-06-18"
         ],
         "xaxis": "x",
         "y": {
          "bdata": "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",
          "dtype": "f8"
         },
         "yaxis": "y"
        },
        {
         "hovertemplate": "location=Germany<br>date=%{x}<br>new_cases=%{y}<extra></extra>",
         "legendgroup": "Germany",
         "line": {
          "color": "#d62728",
          "dash": "solid"
         },
         "marker": {
          "symbol": "circle"
         },
         "mode": "lines",
         "name": "Germany",
         "showlegend": true,
         "type": "scattergl",
         "x": [
          "2020-01-27",
          "2020-01-28",
          "2020-01-29",
          "2020-01-30",
          "2020-01-31",
          "2020-02-01",
          "2020-02-02",
          "2020-02-03",
          "2020-02-04",
          "2020-02-05",
          "2020-02-06",
          "2020-02-07",
          "2020-02-08",
          "2020-02-09",
          "2020-02-10",
          "2020-02-11",
          "2020-02-12",
          "2020-02-13",
          "2020-02-14",
          "2020-02-15",
          "2020-02-16",
          "2020-02-17",
          "2020-02-18",
          "2020-02-19",
          "2020-02-20",
          "2020-02-21",
          "2020-02-22",
          "2020-02-23",
          "2020-02-24",
          "2020-02-25",
          "2020-02-26",
          "2020-02-27",
          "2020-02-28",
          "2020-02-29",
          "2020-03-01",
          "2020-03-02",
          "2020-03-03",
          "2020-03-04",
          "2020-03-05",
          "2020-03-06",
          "2020-03-07",
          "2020-03-08",
          "2020-03-09",
          "2020-03-10",
          "2020-03-11",
          "2020-03-12",
          "2020-03-13",
          "2020-03-14",
          "2020-03-15",
          "2020-03-16",
          "2020-03-17",
          "2020-03-18",
          "2020-03-19",
          "2020-03-20",
          "2020-03-21",
          "2020-03-22",
          "2020-03-23",
          "2020-03-24",
          "2020-03-25",
          "2020-03-26",
          "2020-03-27",
          "2020-03-28",
          "2020-03-29",
          "2020-03-30",
          "2020-03-31",
          "2020-04-01",
          "2020-04-02",
          "2020-04-03",
          "2020-04-04",
          "2020-04-05",
          "2020-04-06",
          "2020-04-07",
          "2020-04-08",
          "2020-04-09",
          "2020-04-10",
          "2020-04-11",
          "2020-04-12",
          "2020-04-13",
          "2020-04-14",
          "2020-04-15",
          "2020-04-16",
          "2020-04-17",
          "2020-04-18",
          "2020-04-19",
          "2020-04-20",
          "2020-04-21",
          "2020-04-22",
          "2020-04-23",
          "2020-04-24",
          "2020-04-25",
          "2020-04-26",
          "2020-04-27",
          "2020-04-28",
          "2020-04-29",
          "2020-04-30",
          "2020-05-01",
          "2020-05-02",
          "2020-05-03",
          "2020-05-04",
          "2020-05-05",
          "2020-05-06",
          "2020-05-07",
          "2020-05-08",
          "2020-05-09",
          "2020-05-10",
          "2020-05-11",
          "2020-05-12",
          "2020-05-13",
          "2020-05-14",
          "2020-05-15",
          "2020-05-16",
          "2020-05-17",
          "2020-05-18",
          "2020-05-19",
          "2020-05-20",
          "2020-05-21",
          "2020-05-22",
          "2020-05-23",
          "2020-05-24",
          "2020-05-25",
          "2020-05-26",
          "2020-05-27",
          "2020-05-28",
          "2020-05-29",
          "2020-05-30",
          "2020-05-31",
          "2020-06-01",
          "2020-06-02",
          "2020-06-03",
          "2020-06-04",
          "2020-06-05",
          "2020-06-06",
          "2020-06-07",
          "2020-06-08",
          "2020-06-09",
          "2020-06-10",
          "2020-06-11",
          "2020-06-12",
          "2020-06-13",
          "2020-06-14",
          "2020-06-15",
          "2020-06-16",
          "2020-06-17",
          "2020-06-18",
          "2020-06-19",
          "2020-06-20",
          "2020-06-21",
          "2020-06-22",
          "2020-06-23",
          "2020-06-24",
          "2020-06-25",
          "2020-06-26",
          "2020-06-27",
          "2020-06-28",
          "2020-06-29",
          "2020-06-30",
          "2020-07-01",
          "2020-07-02",
          "2020-07-03",
          "2020-07-04",
          "2020-07-05",
          "2020-07-06",
          "2020-07-07",
          "2020-07-08",
          "2020-07-09",
          "2020-07-10",
          "2020-07-11",
          "2020-07-12",
          "2020-07-13",
          "2020-07-14",
          "2020-07-15",
          "2020-07-16",
          "2020-07-17",
          "2020-07-18",
          "2020-07-19",
          "2020-07-20",
          "2020-07-21",
          "2020-07-22",
          "2020-07-23",
          "2020-07-24",
          "2020-07-25",
          "2020-07-26",
          "2020-07-27",
          "2020-07-28",
          "2020-07-29",
          "2020-07-30",
          "2020-07-31",
          "2020-08-01",
          "2020-08-02",
          "2020-08-03",
          "2020-08-04",
          "2020-08-05",
          "2020-08-06",
          "2020-08-07",
          "2020-08-08",
          "2020-08-09",
          "2020-08-10",
          "2020-08-11",
          "2020-08-12",
          "2020-08-13",
          "2020-08-14",
          "2020-08-15",
          "2020-08-16",
          "2020-08-17",
          "2020-08-18",
          "2020-08-19",
          "2020-08-20",
          "2020-08-21",
          "2020-08-22",
          "2020-08-23",
          "2020-08-24",
          "2020-08-25",
          "2020-08-26",
          "2020-08-27",
          "2020-08-28",
          "2020-08-29",
          "2020-08-30",
          "2020-08-31",
          "2020-09-01",
          "2020-09-02",
          "2020-09-03",
          "2020-09-04",
          "2020-09-05",
          "2020-09-06",
          "2020-09-07",
          "2020-09-08",
          "2020-09-09",
          "2020-09-10",
          "2020-09-11",
          "2020-09-12",
          "2020-09-13",
          "2020-09-14",
          "2020-09-15",
          "2020-09-16",
          "2020-09-17",
          "2020-09-18",
          "2020-09-19",
          "2020-09-20",
          "2020-09-21",
          "2020-09-22",
          "2020-09-23",
          "2020-09-24",
          "2020-09-25",
          "2020-09-26",
          "2020-09-27",
          "2020-09-28",
          "2020-09-29",
          "2020-09-30",
          "2020-10-01",
          "2020-10-02",
          "2020-10-03",
          "2020-10-04",
          "2020-10-05",
          "2020-10-06",
          "2020-10-07",
          "2020-10-08",
          "2020-10-09",
          "2020-10-10",
          "2020-10-11",
          "2020-10-12",
          "2020-10-13",
          "2020-10-14",
          "2020-10-15",
          "2020-10-16",
          "2020-10-17",
          "2020-10-18",
          "2020-10-19",
          "2020-10-20",
          "2020-10-21",
          "2020-10-22",
          "2020-10-23",
          "2020-10-24",
          "2020-10-25",
          "2020-10-26",
          "2020-10-27",
          "2020-10-28",
          "2020-10-29",
          "2020-10-30",
          "2020-10-31",
          "2020-11-01",
          "2020-11-02",
          "2020-11-03",
          "2020-11-04",
          "2020-11-05",
          "2020-11-06",
          "2020-11-07",
          "2020-11-08",
          "2020-11-09",
          "2020-11-10",
          "2020-11-11",
          "2020-11-12",
          "2020-11-13",
          "2020-11-14",
          "2020-11-15",
          "2020-11-16",
          "2020-11-17",
          "2020-11-18",
          "2020-11-19",
          "2020-11-20",
          "2020-11-21",
          "2020-11-22",
          "2020-11-23",
          "2020-11-24",
          "2020-11-25",
          "2020-11-26",
          "2020-11-27",
          "2020-11-28",
          "2020-11-29",
          "2020-11-30",
          "2020-12-01",
          "2020-12-02",
          "2020-12-03",
          "2020-12-04",
          "2020-12-05",
          "2020-12-06",
          "2020-12-07",
          "2020-12-08",
          "2020-12-09",
          "2020-12-10",
          "2020-12-11",
          "2020-12-12",
          "2020-12-13",
          "2020-12-14",
          "2020-12-15",
          "2020-12-16",
          "2020-12-17",
          "2020-12-18",
          "2020-12-19",
          "2020-12-20",
          "2020-12-21",
          "2020-12-22",
          "2020-12-23",
          "2020-12-24",
          "2020-12-25",
          "2020-12-26",
          "2020-12-27",
          "2020-12-28",
          "2020-12-29",
          "2020-12-30",
          "2020-12-31",
          "2021-01-01",
          "2021-01-02",
          "2021-01-03",
          "2021-01-04",
          "2021-01-05",
          "2021-01-06",
          "2021-01-07",
          "2021-01-08",
          "2021-01-09",
          "2021-01-10",
          "2021-01-11",
          "2021-01-12",
          "2021-01-13",
          "2021-01-14",
          "2021-01-15",
          "2021-01-16",
          "2021-01-17",
          "2021-01-18",
          "2021-01-19",
          "2021-01-20",
          "2021-01-21",
          "2021-01-22",
          "2021-01-23",
          "2021-01-24",
          "2021-01-25",
          "2021-01-26",
          "2021-01-27",
          "2021-01-28",
          "2021-01-29",
          "2021-01-30",
          "2021-01-31",
          "2021-02-01",
          "2021-02-02",
          "2021-02-03",
          "2021-02-04",
          "2021-02-05",
          "2021-02-06",
          "2021-02-07",
          "2021-02-08",
          "2021-02-09",
          "2021-02-10",
          "2021-02-11",
          "2021-02-12",
          "2021-02-13",
          "2021-02-14",
          "2021-02-15",
          "2021-02-16",
          "2021-02-17",
          "2021-02-18",
          "2021-02-19",
          "2021-02-20",
          "2021-02-21",
          "2021-02-22",
          "2021-02-23",
          "2021-02-24",
          "2021-02-25",
          "2021-02-26",
          "2021-02-27",
          "2021-02-28",
          "2021-03-01",
          "2021-03-02",
          "2021-03-03",
          "2021-03-04",
          "2021-03-05",
          "2021-03-06",
          "2021-03-07",
          "2021-03-08",
          "2021-03-09",
          "2021-03-10",
          "2021-03-11",
          "2021-03-12",
          "2021-03-13",
          "2021-03-14",
          "2021-03-15",
          "2021-03-16",
          "2021-03-17",
          "2021-03-18",
          "2021-03-19",
          "2021-03-20",
          "2021-03-21",
          "2021-03-22",
          "2021-03-23",
          "2021-03-24",
          "2021-03-25",
          "2021-03-26",
          "2021-03-27",
          "2021-03-28",
          "2021-03-29",
          "2021-03-30",
          "2021-03-31",
          "2021-04-01",
          "2021-04-02",
          "2021-04-03",
          "2021-04-04",
          "2021-04-05",
          "2021-04-06",
          "2021-04-07",
          "2021-04-08",
          "2021-04-09",
          "2021-04-10",
          "2021-04-11",
          "2021-04-12",
          "2021-04-13",
          "2021-04-14",
          "2021-04-15",
          "2021-04-16",
          "2021-04-17",
          "2021-04-18",
          "2021-04-19",
          "2021-04-20",
          "2021-04-21",
          "2021-04-22",
          "2021-04-23",
          "2021-04-24",
          "2021-04-25",
          "2021-04-26",
          "2021-04-27",
          "2021-04-28",
          "2021-04-29",
          "2021-04-30",
          "2021-05-01",
          "2021-05-02",
          "2021-05-03",
          "2021-05-04",
          "2021-05-05",
          "2021-05-06",
          "2021-05-07",
          "2021-05-08",
          "2021-05-09",
          "2021-05-10",
          "2021-05-11",
          "2021-05-12",
          "2021-05-13",
          "2021-05-14",
          "2021-05-15",
          "2021-05-16",
          "2021-05-17",
          "2021-05-18",
          "2021-05-19",
          "2021-05-20",
          "2021-05-21",
          "2021-05-22",
          "2021-05-23",
          "2021-05-24",
          "2021-05-25",
          "2021-05-26",
          "2021-05-27",
          "2021-05-28",
          "2021-05-29",
          "2021-05-30",
          "2021-05-31",
          "2021-06-01",
          "2021-06-02",
          "2021-06-03",
          "2021-06-04",
          "2021-06-05",
          "2021-06-06",
          "2021-06-07",
          "2021-06-08",
          "2021-06-09",
          "2021-06-10",
          "2021-06-11",
          "2021-06-12",
          "2021-06-13",
          "2021-06-14",
          "2021-06-15",
          "2021-06-16",
          "2021-06-17",
          "2021-06-18",
          "2021-06-19",
          "2021-06-20",
          "2021-06-21",
          "2021-06-22",
          "2021-06-23",
          "2021-06-24",
          "2021-06-25",
          "2021-06-26",
          "2021-06-27",
          "2021-06-28",
          "2021-06-29",
          "2021-06-30",
          "2021-07-01",
          "2021-07-02",
          "2021-07-03",
          "2021-07-04",
          "2021-07-05",
          "2021-07-06",
          "2021-07-07",
          "2021-07-08",
          "2021-07-09",
          "2021-07-10",
          "2021-07-11",
          "2021-07-12",
          "2021-07-13",
          "2021-07-14",
          "2021-07-15",
          "2021-07-16",
          "2021-07-17",
          "2021-07-18",
          "2021-07-19",
          "2021-07-20",
          "2021-07-21",
          "2021-07-22",
          "2021-07-23",
          "2021-07-24",
          "2021-07-25",
          "2021-07-26",
          "2021-07-27",
          "2021-07-28",
          "2021-07-29",
          "2021-07-30",
          "2021-07-31",
          "2021-08-01",
          "2021-08-02",
          "2021-08-03",
          "2021-08-04",
          "2021-08-05",
          "2021-08-06",
          "2021-08-07",
          "2021-08-08",
          "2021-08-09",
          "2021-08-10",
          "2021-08-11",
          "2021-08-12",
          "2021-08-13",
          "2021-08-14",
          "2021-08-15",
          "2021-08-16",
          "2021-08-17",
          "2021-08-18",
          "2021-08-19",
          "2021-08-20",
          "2021-08-21",
          "2021-08-22",
          "2021-08-23",
          "2021-08-24",
          "2021-08-25",
          "2021-08-26",
          "2021-08-27",
          "2021-08-28",
          "2021-08-29",
          "2021-08-30",
          "2021-08-31",
          "2021-09-01",
          "2021-09-02",
          "2021-09-03",
          "2021-09-04",
          "2021-09-05",
          "2021-09-06",
          "2021-09-07",
          "2021-09-08",
          "2021-09-09",
          "2021-09-10",
          "2021-09-11",
          "2021-09-12",
          "2021-09-13",
          "2021-09-14",
          "2021-09-15",
          "2021-09-16",
          "2021-09-17",
          "2021-09-18",
          "2021-09-19",
          "2021-09-20",
          "2021-09-21",
          "2021-09-22",
          "2021-09-23",
          "2021-09-24",
          "2021-09-25",
          "2021-09-26",
          "2021-09-27",
          "2021-09-28",
          "2021-09-29",
          "2021-09-30",
          "2021-10-01",
          "2021-10-02",
          "2021-10-03",
          "2021-10-04",
          "2021-10-05",
          "2021-10-06",
          "2021-10-07",
          "2021-10-08",
          "2021-10-09",
          "2021-10-10",
          "2021-10-11",
          "2021-10-12",
          "2021-10-13",
          "2021-10-14",
          "2021-10-15",
          "2021-10-16",
          "2021-10-17",
          "2021-10-18",
          "2021-10-19",
          "2021-10-20",
          "2021-10-21",
          "2021-10-22",
          "2021-10-23",
          "2021-10-24",
          "2021-10-25",
          "2021-10-26",
          "2021-10-27",
          "2021-10-28",
          "2021-10-29",
          "2021-10-30",
          "2021-10-31",
          "2021-11-01",
          "2021-11-02",
          "2021-11-03",
          "2021-11-04",
          "2021-11-05",
          "2021-11-06",
          "2021-11-07",
          "2021-11-08",
          "2021-11-09",
          "2021-11-10",
          "2021-11-11",
          "2021-11-12",
          "2021-11-13",
          "2021-11-14",
          "2021-11-15",
          "2021-11-16",
          "2021-11-17",
          "2021-11-18",
          "2021-11-19",
          "2021-11-20",
          "2021-11-21",
          "2021-11-22",
          "2021-11-23",
          "2021-11-24",
          "2021-11-25",
          "2021-11-26",
          "2021-11-27",
          "2021-11-28",
          "2021-11-29",
          "2021-11-30",
          "2021-12-01",
          "2021-12-02",
          "2021-12-03",
          "2021-12-04",
          "2021-12-05",
          "2021-12-06",
          "2021-12-07",
          "2021-12-08",
          "2021-12-09",
          "2021-12-10",
          "2021-12-11",
          "2021-12-12",
          "2021-12-13",
          "2021-12-14",
          "2021-12-15",
          "2021-12-16",
          "2021-12-17",
          "2021-12-18",
          "2021-12-19",
          "2021-12-20",
          "2021-12-21",
          "2021-12-22",
          "2021-12-23",
          "2021-12-24",
          "2021-12-25",
          "2021-12-26",
          "2021-12-27",
          "2021-12-28",
          "2021-12-29",
          "2021-12-30",
          "2021-12-31",
          "2022-01-01",
          "2022-01-02",
          "2022-01-03",
          "2022-01-04",
          "2022-01-05",
          "2022-01-06",
          "2022-01-07",
          "2022-01-08",
          "2022-01-09",
          "2022-01-10",
          "2022-01-11",
          "2022-01-12",
          "2022-01-13",
          "2022-01-14",
          "2022-01-15",
          "2022-01-16",
          "2022-01-17",
          "2022-01-18",
          "2022-01-19",
          "2022-01-20",
          "2022-01-21",
          "2022-01-22",
          "2022-01-23",
          "2022-01-24",
          "2022-01-25",
          "2022-01-26",
          "2022-01-27",
          "2022-01-28",
          "2022-01-29",
          "2022-01-30",
          "2022-01-31",
          "2022-02-01",
          "2022-02-02",
          "2022-02-03",
          "2022-02-04",
          "2022-02-05",
          "2022-02-06",
          "2022-02-07",
          "2022-02-08",
          "2022-02-09",
          "2022-02-10",
          "2022-02-11",
          "2022-02-12",
          "2022-02-13",
          "2022-02-14",
          "2022-02-15",
          "2022-02-16",
          "2022-02-17",
          "2022-02-18",
          "2022-02-19",
          "2022-02-20",
          "2022-02-21",
          "2022-02-22",
          "2022-02-23",
          "2022-02-24",
          "2022-02-25",
          "2022-02-26",
          "2022-02-27",
          "2022-02-28",
          "2022-03-01",
          "2022-03-02",
          "2022-03-03",
          "2022-03-04",
          "2022-03-05",
          "2022-03-06",
          "2022-03-07",
          "2022-03-08",
          "2022-03-09",
          "2022-03-10",
          "2022-03-11",
          "2022-03-12",
          "2022-03-13",
          "2022-03-14",
          "2022-03-15",
          "2022-03-16",
          "2022-03-17",
          "2022-03-18",
          "2022-03-19",
          "2022-03-20",
          "2022-03-21",
          "2022-03-22",
          "2022-03-23",
          "2022-03-24",
          "2022-03-25",
          "2022-03-26",
          "2022-03-27",
          "2022-03-28",
          "2022-03-29",
          "2022-03-30",
          "2022-03-31",
          "2022-04-01",
          "2022-04-02",
          "2022-04-03",
          "2022-04-04",
          "2022-04-05",
          "2022-04-06",
          "2022-04-07",
          "2022-04-08",
          "2022-04-09",
          "2022-04-10",
          "2022-04-11",
          "2022-04-12",
          "2022-04-13",
          "2022-04-14",
          "2022-04-15",
          "2022-04-16",
          "2022-04-17",
          "2022-04-18",
          "2022-04-19",
          "2022-04-20",
          "2022-04-21",
          "2022-04-22",
          "2022-04-23",
          "2022-04-24",
          "2022-04-25",
          "2022-04-26",
          "2022-04-27",
          "2022-04-28",
          "2022-04-29",
          "2022-04-30",
          "2022-05-01",
          "2022-05-02",
          "2022-05-03",
          "2022-05-04",
          "2022-05-05",
          "2022-05-06",
          "2022-05-07",
          "2022-05-08",
          "2022-05-09",
          "2022-05-10",
          "2022-05-11",
          "2022-05-12",
          "2022-05-13",
          "2022-05-14",
          "2022-05-15",
          "2022-05-16",
          "2022-05-17",
          "2022-05-18",
          "2022-05-19",
          "2022-05-20",
          "2022-05-21",
          "2022-05-22",
          "2022-05-23",
          "2022-05-24",
          "2022-05-25",
          "2022-05-26",
          "2022-05-27",
          "2022-05-28",
          "2022-05-29",
          "2022-05-30",
          "2022-05-31",
          "2022-06-01",
          "2022-06-02",
          "2022-06-03",
          "2022-06-04",
          "2022-06-05",
          "2022-06-06",
          "2022-06-07",
          "2022-06-08",
          "2022-06-09",
          "2022-06-10",
          "2022-06-11",
          "2022-06-12",
          "2022-06-13",
          "2022-06-14",
          "2022-06-15",
          "2022-06-16",
          "2022-06-17",
          "2022-06-18"
         ],
         "xaxis": "x",
         "y": {
          "bdata": "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",
          "dtype": "f8"
         },
         "yaxis": "y"
        }
       ],
       "layout": {
        "legend": {
         "title": {
          "text": "location"
         },
         "tracegroupgap": 0
        },
        "template": {
         "data": {
          "bar": [
           {
            "error_x": {
             "color": "#2a3f5f"
            },
            "error_y": {
             "color": "#2a3f5f"
            },
            "marker": {
             "line": {
              "color": "#E5ECF6",
              "width": 0.5
             },
             "pattern": {
              "fillmode": "overlay",
              "size": 10,
              "solidity": 0.2
             }
            },
            "type": "bar"
           }
          ],
          "barpolar": [
           {
            "marker": {
             "line": {
              "color": "#E5ECF6",
              "width": 0.5
             },
             "pattern": {
              "fillmode": "overlay",
              "size": 10,
              "solidity": 0.2
             }
            },
            "type": "barpolar"
           }
          ],
          "carpet": [
           {
            "aaxis": {
             "endlinecolor": "#2a3f5f",
             "gridcolor": "white",
             "linecolor": "white",
             "minorgridcolor": "white",
             "startlinecolor": "#2a3f5f"
            },
            "baxis": {
             "endlinecolor": "#2a3f5f",
             "gridcolor": "white",
             "linecolor": "white",
             "minorgridcolor": "white",
             "startlinecolor": "#2a3f5f"
            },
            "type": "carpet"
           }
          ],
          "choropleth": [
           {
            "colorbar": {
             "outlinewidth": 0,
             "ticks": ""
            },
            "type": "choropleth"
           }
          ],
          "contour": [
           {
            "colorbar": {
             "outlinewidth": 0,
             "ticks": ""
            },
            "colorscale": [
             [
              0,
              "#0d0887"
             ],
             [
              0.1111111111111111,
              "#46039f"
             ],
             [
              0.2222222222222222,
              "#7201a8"
             ],
             [
              0.3333333333333333,
              "#9c179e"
             ],
             [
              0.4444444444444444,
              "#bd3786"
             ],
             [
              0.5555555555555556,
              "#d8576b"
             ],
             [
              0.6666666666666666,
              "#ed7953"
             ],
             [
              0.7777777777777778,
              "#fb9f3a"
             ],
             [
              0.8888888888888888,
              "#fdca26"
             ],
             [
              1,
              "#f0f921"
             ]
            ],
            "type": "contour"
           }
          ],
          "contourcarpet": [
           {
            "colorbar": {
             "outlinewidth": 0,
             "ticks": ""
            },
            "type": "contourcarpet"
           }
          ],
          "heatmap": [
           {
            "colorbar": {
             "outlinewidth": 0,
             "ticks": ""
            },
            "colorscale": [
             [
              0,
              "#0d0887"
             ],
             [
              0.1111111111111111,
              "#46039f"
             ],
             [
              0.2222222222222222,
              "#7201a8"
             ],
             [
              0.3333333333333333,
              "#9c179e"
             ],
             [
              0.4444444444444444,
              "#bd3786"
             ],
             [
              0.5555555555555556,
              "#d8576b"
             ],
             [
              0.6666666666666666,
              "#ed7953"
             ],
             [
              0.7777777777777778,
              "#fb9f3a"
             ],
             [
              0.8888888888888888,
              "#fdca26"
             ],
             [
              1,
              "#f0f921"
             ]
            ],
            "type": "heatmap"
           }
          ],
          "histogram": [
           {
            "marker": {
             "pattern": {
              "fillmode": "overlay",
              "size": 10,
              "solidity": 0.2
             }
            },
            "type": "histogram"
           }
          ],
          "histogram2d": [
           {
            "colorbar": {
             "outlinewidth": 0,
             "ticks": ""
            },
            "colorscale": [
             [
              0,
              "#0d0887"
             ],
             [
              0.1111111111111111,
              "#46039f"
             ],
             [
              0.2222222222222222,
              "#7201a8"
             ],
             [
              0.3333333333333333,
              "#9c179e"
             ],
             [
              0.4444444444444444,
              "#bd3786"
             ],
             [
              0.5555555555555556,
              "#d8576b"
             ],
             [
              0.6666666666666666,
              "#ed7953"
             ],
             [
              0.7777777777777778,
              "#fb9f3a"
             ],
             [
              0.8888888888888888,
              "#fdca26"
             ],
             [
              1,
              "#f0f921"
             ]
            ],
            "type": "histogram2d"
           }
          ],
          "histogram2dcontour": [
           {
            "colorbar": {
             "outlinewidth": 0,
             "ticks": ""
            },
            "colorscale": [
             [
              0,
              "#0d0887"
             ],
             [
              0.1111111111111111,
              "#46039f"
             ],
             [
              0.2222222222222222,
              "#7201a8"
             ],
             [
              0.3333333333333333,
              "#9c179e"
             ],
             [
              0.4444444444444444,
              "#bd3786"
             ],
             [
              0.5555555555555556,
              "#d8576b"
             ],
             [
              0.6666666666666666,
              "#ed7953"
             ],
             [
              0.7777777777777778,
              "#fb9f3a"
             ],
             [
              0.8888888888888888,
              "#fdca26"
             ],
             [
              1,
              "#f0f921"
             ]
            ],
            "type": "histogram2dcontour"
           }
          ],
          "mesh3d": [
           {
            "colorbar": {
             "outlinewidth": 0,
             "ticks": ""
            },
            "type": "mesh3d"
           }
          ],
          "parcoords": [
           {
            "line": {
             "colorbar": {
              "outlinewidth": 0,
              "ticks": ""
             }
            },
            "type": "parcoords"
           }
          ],
          "pie": [
           {
            "automargin": true,
            "type": "pie"
           }
          ],
          "scatter": [
           {
            "fillpattern": {
             "fillmode": "overlay",
             "size": 10,
             "solidity": 0.2
            },
            "type": "scatter"
           }
          ],
          "scatter3d": [
           {
            "line": {
             "colorbar": {
              "outlinewidth": 0,
              "ticks": ""
             }
            },
            "marker": {
             "colorbar": {
              "outlinewidth": 0,
              "ticks": ""
             }
            },
            "type": "scatter3d"
           }
          ],
          "scattercarpet": [
           {
            "marker": {
             "colorbar": {
              "outlinewidth": 0,
              "ticks": ""
             }
            },
            "type": "scattercarpet"
           }
          ],
          "scattergeo": [
           {
            "marker": {
             "colorbar": {
              "outlinewidth": 0,
              "ticks": ""
             }
            },
            "type": "scattergeo"
           }
          ],
          "scattergl": [
           {
            "marker": {
             "colorbar": {
              "outlinewidth": 0,
              "ticks": ""
             }
            },
            "type": "scattergl"
           }
          ],
          "scattermap": [
           {
            "marker": {
             "colorbar": {
              "outlinewidth": 0,
              "ticks": ""
             }
            },
            "type": "scattermap"
           }
          ],
          "scattermapbox": [
           {
            "marker": {
             "colorbar": {
              "outlinewidth": 0,
              "ticks": ""
             }
            },
            "type": "scattermapbox"
           }
          ],
          "scatterpolar": [
           {
            "marker": {
             "colorbar": {
              "outlinewidth": 0,
              "ticks": ""
             }
            },
            "type": "scatterpolar"
           }
          ],
          "scatterpolargl": [
           {
            "marker": {
             "colorbar": {
              "outlinewidth": 0,
              "ticks": ""
             }
            },
            "type": "scatterpolargl"
           }
          ],
          "scatterternary": [
           {
            "marker": {
             "colorbar": {
              "outlinewidth": 0,
              "ticks": ""
             }
            },
            "type": "scatterternary"
           }
          ],
          "surface": [
           {
            "colorbar": {
             "outlinewidth": 0,
             "ticks": ""
            },
            "colorscale": [
             [
              0,
              "#0d0887"
             ],
             [
              0.1111111111111111,
              "#46039f"
             ],
             [
              0.2222222222222222,
              "#7201a8"
             ],
             [
              0.3333333333333333,
              "#9c179e"
             ],
             [
              0.4444444444444444,
              "#bd3786"
             ],
             [
              0.5555555555555556,
              "#d8576b"
             ],
             [
              0.6666666666666666,
              "#ed7953"
             ],
             [
              0.7777777777777778,
              "#fb9f3a"
             ],
             [
              0.8888888888888888,
              "#fdca26"
             ],
             [
              1,
              "#f0f921"
             ]
            ],
            "type": "surface"
           }
          ],
          "table": [
           {
            "cells": {
             "fill": {
              "color": "#EBF0F8"
             },
             "line": {
              "color": "white"
             }
            },
            "header": {
             "fill": {
              "color": "#C8D4E3"
             },
             "line": {
              "color": "white"
             }
            },
            "type": "table"
           }
          ]
         },
         "layout": {
          "annotationdefaults": {
           "arrowcolor": "#2a3f5f",
           "arrowhead": 0,
           "arrowwidth": 1
          },
          "autotypenumbers": "strict",
          "coloraxis": {
           "colorbar": {
            "outlinewidth": 0,
            "ticks": ""
           }
          },
          "colorscale": {
           "diverging": [
            [
             0,
             "#8e0152"
            ],
            [
             0.1,
             "#c51b7d"
            ],
            [
             0.2,
             "#de77ae"
            ],
            [
             0.3,
             "#f1b6da"
            ],
            [
             0.4,
             "#fde0ef"
            ],
            [
             0.5,
             "#f7f7f7"
            ],
            [
             0.6,
             "#e6f5d0"
            ],
            [
             0.7,
             "#b8e186"
            ],
            [
             0.8,
             "#7fbc41"
            ],
            [
             0.9,
             "#4d9221"
            ],
            [
             1,
             "#276419"
            ]
           ],
           "sequential": [
            [
             0,
             "#0d0887"
            ],
            [
             0.1111111111111111,
             "#46039f"
            ],
            [
             0.2222222222222222,
             "#7201a8"
            ],
            [
             0.3333333333333333,
             "#9c179e"
            ],
            [
             0.4444444444444444,
             "#bd3786"
            ],
            [
             0.5555555555555556,
             "#d8576b"
            ],
            [
             0.6666666666666666,
             "#ed7953"
            ],
            [
             0.7777777777777778,
             "#fb9f3a"
            ],
            [
             0.8888888888888888,
             "#fdca26"
            ],
            [
             1,
             "#f0f921"
            ]
           ],
           "sequentialminus": [
            [
             0,
             "#0d0887"
            ],
            [
             0.1111111111111111,
             "#46039f"
            ],
            [
             0.2222222222222222,
             "#7201a8"
            ],
            [
             0.3333333333333333,
             "#9c179e"
            ],
            [
             0.4444444444444444,
             "#bd3786"
            ],
            [
             0.5555555555555556,
             "#d8576b"
            ],
            [
             0.6666666666666666,
             "#ed7953"
            ],
            [
             0.7777777777777778,
             "#fb9f3a"
            ],
            [
             0.8888888888888888,
             "#fdca26"
            ],
            [
             1,
             "#f0f921"
            ]
           ]
          },
          "colorway": [
           "#636efa",
           "#EF553B",
           "#00cc96",
           "#ab63fa",
           "#FFA15A",
           "#19d3f3",
           "#FF6692",
           "#B6E880",
           "#FF97FF",
           "#FECB52"
          ],
          "font": {
           "color": "#2a3f5f"
          },
          "geo": {
           "bgcolor": "white",
           "lakecolor": "white",
           "landcolor": "#E5ECF6",
           "showlakes": true,
           "showland": true,
           "subunitcolor": "white"
          },
          "hoverlabel": {
           "align": "left"
          },
          "hovermode": "closest",
          "mapbox": {
           "style": "light"
          },
          "paper_bgcolor": "white",
          "plot_bgcolor": "#E5ECF6",
          "polar": {
           "angularaxis": {
            "gridcolor": "white",
            "linecolor": "white",
            "ticks": ""
           },
           "bgcolor": "#E5ECF6",
           "radialaxis": {
            "gridcolor": "white",
            "linecolor": "white",
            "ticks": ""
           }
          },
          "scene": {
           "xaxis": {
            "backgroundcolor": "#E5ECF6",
            "gridcolor": "white",
            "gridwidth": 2,
            "linecolor": "white",
            "showbackground": true,
            "ticks": "",
            "zerolinecolor": "white"
           },
           "yaxis": {
            "backgroundcolor": "#E5ECF6",
            "gridcolor": "white",
            "gridwidth": 2,
            "linecolor": "white",
            "showbackground": true,
            "ticks": "",
            "zerolinecolor": "white"
           },
           "zaxis": {
            "backgroundcolor": "#E5ECF6",
            "gridcolor": "white",
            "gridwidth": 2,
            "linecolor": "white",
            "showbackground": true,
            "ticks": "",
            "zerolinecolor": "white"
           }
          },
          "shapedefaults": {
           "line": {
            "color": "#2a3f5f"
           }
          },
          "ternary": {
           "aaxis": {
            "gridcolor": "white",
            "linecolor": "white",
            "ticks": ""
           },
           "baxis": {
            "gridcolor": "white",
            "linecolor": "white",
            "ticks": ""
           },
           "bgcolor": "#E5ECF6",
           "caxis": {
            "gridcolor": "white",
            "linecolor": "white",
            "ticks": ""
           }
          },
          "title": {
           "x": 0.05
          },
          "xaxis": {
           "automargin": true,
           "gridcolor": "white",
           "linecolor": "white",
           "ticks": "",
           "title": {
            "standoff": 15
           },
           "zerolinecolor": "white",
           "zerolinewidth": 2
          },
          "yaxis": {
           "automargin": true,
           "gridcolor": "white",
           "linecolor": "white",
           "ticks": "",
           "title": {
            "standoff": 15
           },
           "zerolinecolor": "white",
           "zerolinewidth": 2
          }
         }
        },
        "title": {
         "text": "📈 New COVID-19 Cases Over Time: Italy vs Germany"
        },
        "xaxis": {
         "anchor": "y",
         "domain": [
          0,
          1
         ],
         "title": {
          "text": "Date"
         }
        },
        "yaxis": {
         "anchor": "x",
         "domain": [
          0,
          1
         ],
         "title": {
          "text": "New COVID-19 Cases"
         }
        }
       }
      }
     },
     "metadata": {},
     "output_type": "display_data"
    }
   ],
   "source": [
    "\n",
    "# --------------------------------------\n",
    "#  Choose two countries to compare\n",
    "# --------------------------------------\n",
    "countries = [\"Brazil\", \"Germany\"]   \n",
    "\n",
    "# ----- Filter dataset for selected countries -----\n",
    "df_two = covid_df[covid_df[\"location\"].isin(countries)]\n",
    "\n",
    "# ----- Create line chart ------\n",
    "fig = px.line(\n",
    "    df_two,\n",
    "    x=\"date\",\n",
    "    y=\"new_cases\",\n",
    "    color=\"location\",   # color depends on country\n",
    "    title=\"📈 New COVID-19 Cases Over Time: Italy vs Germany\",\n",
    "    color_discrete_sequence=[\"#17becf\", \"#d62728\"]  # custom dark pink + blue palette\n",
    ")\n",
    "\n",
    "# ------ Update axis labels ------\n",
    "fig.update_xaxes(title=\"Date\")\n",
    "fig.update_yaxes(title=\"New COVID-19 Cases\")\n",
    "\n",
    "# ----- Show chart------\n",
    "fig.show()\n"
   ]
  },
  {
   "cell_type": "markdown",
   "id": "5cfe51cd",
   "metadata": {},
   "source": [
    "#  Fourth  Visualization - COVID-19 map\n",
    "\n",
    "## Task\n",
    "Using your data frame and the plotly library create interactive world map that shows how many disease cases were reported in each country throughout the pandemic."
   ]
  },
  {
   "cell_type": "code",
   "execution_count": 54,
   "id": "2e82ea24",
   "metadata": {},
   "outputs": [
    {
     "data": {
      "application/vnd.plotly.v1+json": {
       "config": {
        "plotlyServerURL": "https://plot.ly"
       },
       "data": [
        {
         "customdata": {
          "bdata": "AAAAADAqBkH7muOQhKtyPwAAAAAQ0hlBlo5xBGM+wj8AAAAAMjMoQV9jHFdf27M/AAAAAJBtIkGE3b4w6RrWPwAAAACT1z1BIyXyBaIViD8AAAAAgB/tQKdVVEf2k7M/AAAAACAZA0G/GE5qfa3WPwAAAAAwogBB0CUyH6p3gD8AAAAAQhMrQRn1foc7IUQ/AAAAAINPOUGfvMu+yqzaPwAAAADAsjJBUkKNG3bExD8AAACgPaWEQbSUu6930Z8/AAAAALckV0Gkv13ByXqWPwAAAEAJmVtB+2u7nRLItT8AAAAAcMpBQRVYxRA+/qw/AAAAQDEfUEEHEhmnrBzdPwAAAMBMZ2FBV4vGVfaHsj8AAAAAiec5QQabnUUzKcU/AAAAAMxJNUEBCBGMgs2yPwAAAADofSNBNzBIQiXjwj8AAAAAwIkIQXRcY333DZ8/AAAAAJCoCUGdpZ037CqdPwAAAACg1TBB/2vevqncxD8AAAAAAMBUQBfXlU0JhiA/AAAAgIpQUUEsXtyBybnBPwAAAABY+AVBUXQrQ1Uw1T8AAAAAlEQsQcV1I81mztE/AAAAANq4IkEp1rIiwOyGPwAAAAAg4y1BhNYCQ7HloD8AAAAAAADwPwvAVs0tvWQ+AAAAAPjJF0Gjs0i4KhqzPwAAAABOYDdB0CCnFzfdez8AAAAAaBUkQS+6RDP5IMA/AAAAABIyTEGzdV7FFgqhPwAAAAAs4hZBpkRB6z5gwD8AAAAARuwnQQZ/bOm6tpY/AAAAAFLSNEG7nXSufQPQPwAAAIAMbnFBPCS+moHM1j8AAAAAYEMkQe9l5jXNoJ8/AAAAACBN60AWtHACEBBpPwAAAIDSwEhByG4MJK9owT8AAAAAgF7RQBthIa6Q410/AAAAAJkpUUGEj1rvF3ewPwAAAAAAaNZAsbBrvZZ7kT8AAADAFcZsQb/IoEO4tMY/AAAAAJRBLEHMoeh5Ybm3PwAAAAAoPQ1BXpQ+1wvpfD8AAABgunpkQakJhG3t/7s/AAAAAIAXx0CnJlBzgWk5Pw==",
          "dtype": "f8",
          "shape": "49, 2"
         },
         "hovertemplate": "<b>%{hovertext}</b><br><br>continent=Asia<br>cases_per_population=%{customdata[1]:.2%}<br>latitude=%{lat}<br>longitude=%{lon}<br>total_cases=%{customdata[0]:,}<extra></extra>",
         "hovertext": [
          "Afghanistan",
          "Armenia",
          "Azerbaijan",
          "Bahrain",
          "Bangladesh",
          "Bhutan",
          "Brunei",
          "Cambodia",
          "China",
          "Georgia",
          "Hong Kong",
          "India",
          "Indonesia",
          "Iran",
          "Iraq",
          "Israel",
          "Japan",
          "Jordan",
          "Kazakhstan",
          "Kuwait",
          "Kyrgyzstan",
          "Laos",
          "Lebanon",
          "Macao",
          "Malaysia",
          "Maldives",
          "Mongolia",
          "Myanmar",
          "Nepal",
          "North Korea",
          "Oman",
          "Pakistan",
          "Palestine",
          "Philippines",
          "Qatar",
          "Saudi Arabia",
          "Singapore",
          "South Korea",
          "Sri Lanka",
          "Syria",
          "Taiwan",
          "Tajikistan",
          "Thailand",
          "Timor",
          "Turkey",
          "United Arab Emirates",
          "Uzbekistan",
          "Vietnam",
          "Yemen"
         ],
         "lat": {
          "bdata": "AAAAAACAQEAAAAAAAABEQAAAAAAAQERAAAAAAAAAOkAAAAAAAAA4QAAAAAAAgDtAAAAAAAAAEkAAAAAAAAAqQAAAAAAAgEFAAAAAAAAARUAAAAAAAEA2QAAAAAAAADRAAAAAAAAAFMAAAAAAAABAQAAAAAAAgEBAAAAAAACAP0AAAAAAAABCQAAAAAAAAD9AAAAAAAAASEBmZmZmZlY9QAAAAAAAgERAAAAAAAAAMkDf4AuTqepAQEI+6NmsKjZAAAAAAAAABEAAAAAAAAAKQAAAAAAAAEdAAAAAAAAANkAAAAAAAAA8QAAAAAAAAERAAAAAAAAANUAAAAAAAAA+QAAAAAAAAEBAAAAAAAAAKkAAAAAAAIA5QAAAAAAAADlAWRe30QDe9T8AAAAAAIBCQAAAAAAAABxAAAAAAACAQUAAAAAAAIA3QAAAAAAAgENAAAAAAAAALkCamZmZmRkhwAAAAAAAgENAAAAAAAAAOEAAAAAAAIBEQAAAAAAAADBAAAAAAAAALkA=",
          "dtype": "f8"
         },
         "legendgroup": "Asia",
         "lon": {
          "bdata": "AAAAAABAUEAAAAAAAIBGQAAAAAAAwEdAZmZmZmZGSUAAAAAAAIBWQAAAAAAAoFZAkQ96NquqXEAAAAAAAEBaQAAAAAAAQFpAAAAAAADARUCRD3o2q4pcQAAAAAAAQFNAAAAAAAAAXkAAAAAAAIBKQAAAAAAAAEZAAAAAAABgQUAAAAAAAEBhQAAAAAAAAEJAAAAAAAAAUUCxv+yePNRHQAAAAAAAwFJAAAAAAABAWkDf4AuTqepBQDMzMzMzY1xAAAAAAAAgXEAAAAAAAEBSQAAAAAAAQFpAAAAAAACAWEAAAAAAAABVQAAAAAAAwF9AAAAAAACATEAAAAAAAIBRQAAAAAAAoEFAAAAAAACAXkAAAAAAAKBJQAAAAAAAgEZAMzMzMzPzWUAAAAAAAOBfQAAAAAAAQFRAAAAAAAAAQ0AAAAAAAEBeQAAAAAAAwFFAAAAAAAAAWUD3deCcEWFfQAAAAAAAgEFAAAAAAAAAS0AAAAAAAABQQAAAAAAAgFpAAAAAAAAASEA=",
          "dtype": "f8"
         },
         "marker": {
          "color": "#636efa",
          "size": {
           "bdata": "+5rjkISrcj+WjnEEYz7CP19jHFdf27M/hN2+MOka1j8jJfIFohWIP6dVVEf2k7M/vxhOan2t1j/QJTIfqneAPxn1foc7IUQ/n7zLvsqs2j9SQo0bdsTEP7SUu6930Z8/pL9dwcl6lj/7a7udEsi1PxVYxRA+/qw/BxIZp6wc3T9Xi8ZV9oeyPwabnUUzKcU/AQgRjILNsj83MEhCJePCP3RcY333DZ8/naWdN+wqnT//a96+qdzEPxfXlU0JhiA/LF7cgcm5wT9RdCtDVTDVP8V1I81mztE/KdayIsDshj+E1gJDseWgPwvAVs0tvWQ+o7NIuCoasz/QIKcXN917Py+6RDP5IMA/s3VexRYKoT+mREHrPmDAPwZ/bOm6tpY/u510rn0D0D88JL6agczWP+9l5jXNoJ8/FrRwAhAQaT/Ibgwkr2jBPxthIa6Q410/hI9a7xd3sD+xsGu9lnuRP7/IoEO4tMY/zKHoeWG5tz9elD7XC+l8P6kJhG3t/7s/pyZQc4FpOT8=",
           "dtype": "f8"
          },
          "sizemode": "area",
          "sizeref": 0.0007850465596169223
         },
         "mode": "markers",
         "name": "Asia",
         "showlegend": true,
         "subplot": "map",
         "type": "scattermap"
        },
        {
         "customdata": {
          "bdata": "AAAAAFTqEEFvj40fArK4PwAAAAAgN+VAJdTZKl754T8AAAAA95dQQU+u2DoQyd4/AAAAAKb+LUHn8KyFW6W6PwAAAACS809BKYJ7hqkK1z8AAAAAhBUXQYhhrjEaq70/AAAAAKPSMUE97KXyq63FPwAAAAAqazFBnaFWyTrm0T8AAAAAuFweQXteQh8gxOE/AAAAgJXyTUHaBVUstGzXPwAAAICDCUhBzUAvYcRX4T8AAAAAfKchQc2Hnys68Ns/AAAAAEDs4EBOfS7E/ZvmPwAAAADeKzFB87ns4iT2yT8AAAAwXr58QX83zEwxnNw/AAAAsNXxeUErOBhvjsDUPwAAAACAkNJAEB2d4UwO4j8AAACA7wBLQTNiEUau19U/AAAAADJYPUEaiEvm+ozJPwAAAAA4UwdBQUe7LHOU4D8AAAAALBU4QdNQDv92RdQ/AAAAAKCD4EB9leeYzVfZPwAAAJCqBHFB2BmmwS/r0j8AAAAA3mEpQSg/5S8kg9w/AAAAAEA90UANMNZrsYjdPwAAAACuQDBBU5aPT8BX2T8AAAAAiBwPQbhwi1jYsdk/AAAAAFDR90CbUVcXDDLIPwAAAABwtB9BxdN31vGFwD8AAAAAAKTIQORGbuRGbtQ/AAAAAIAaDUHXJqkokkvYPwAAAIARBl9BM2UibPxO3j8AAAAAvBgTQSCkffS/OsM/AAAAAKj3NUFavanTktvQPwAAAIBJ7lZBWqVntF5bxD8AAADAdRhTQV4QAhgHgt8/AAAAgOA4RkHeTvSYyX3DPwAAAABvSXFBWXR0+oDNvz8AAAAAQAHRQAiiqWxGYuA/AAAAAGzbPkFWVlKjtNXSPwAAAADrbENBXHNewE/n3T8AAAAApHEvQTFfjUkBud8/AAAA4Hj2Z0HZwg4mazPRPwAAAIDqK0NBsTK2mVGozz8AAACAQz5MQfzNIEsVL9s/AAAAgGE6U0FhEG2etq+9PwAAAGBQgXVBUOOASaso1T8AAAAAAAA9QJIkSZIkSaI/",
          "dtype": "f8",
          "shape": "48, 2"
         },
         "hovertemplate": "<b>%{hovertext}</b><br><br>continent=Europe<br>cases_per_population=%{customdata[1]:.2%}<br>latitude=%{lat}<br>longitude=%{lon}<br>total_cases=%{customdata[0]:,}<extra></extra>",
         "hovertext": [
          "Albania",
          "Andorra",
          "Austria",
          "Belarus",
          "Belgium",
          "Bosnia and Herzegovina",
          "Bulgaria",
          "Croatia",
          "Cyprus",
          "Czechia",
          "Denmark",
          "Estonia",
          "Faeroe Islands",
          "Finland",
          "France",
          "Germany",
          "Gibraltar",
          "Greece",
          "Hungary",
          "Iceland",
          "Ireland",
          "Isle of Man",
          "Italy",
          "Latvia",
          "Liechtenstein",
          "Lithuania",
          "Luxembourg",
          "Malta",
          "Moldova",
          "Monaco",
          "Montenegro",
          "Netherlands",
          "North Macedonia",
          "Norway",
          "Poland",
          "Portugal",
          "Romania",
          "Russia",
          "San Marino",
          "Serbia",
          "Slovakia",
          "Slovenia",
          "Spain",
          "Sweden",
          "Switzerland",
          "Ukraine",
          "United Kingdom",
          "Vatican"
         ],
         "lat": {
          "bdata": "AAAAAACAREAAAAAAAEBFQN/gC5OpqkdAAAAAAACASkDf4AuTqWpJQAAAAAAAAEZAAAAAAACARUAhH/RsVpVGQAAAAAAAgEFAAAAAAADgSEAAAAAAAABMQAAAAAAAgE1AAAAAAAAAT0AAAAAAAABQQAAAAAAAAEdAAAAAAACASUCsrdhfdhdCQAAAAAAAgENAAAAAAACAR0AAAAAAAEBQQAAAAAAAgEpAPQrXo3AdS0Df4AuTqWpFQAAAAAAAgExAIR/0bFaVR0AAAAAAAABMQAAAAAAA4EhA3+ALk6nqQUAAAAAAAIBHQBIUP8bc3UVAAAAAAAAARUAAAAAAAEBKQN/gC5Op6kRAAAAAAAAAT0AAAAAAAABKQAAAAAAAwENAAAAAAAAAR0AAAAAAAABOQO7rwDkj4kVAAAAAAAAARkAhH/RsVlVIQAAAAAAAAEdAAAAAAAAAREAAAAAAAABPQAAAAAAAgEdAAAAAAACASEAAAAAAAABLQDMzMzMz80RA",
          "dtype": "f8"
         },
         "legendgroup": "Europe",
         "lon": {
          "bdata": "AAAAAAAANECamZmZmZn5P3uDL0ymqipAAAAAAAAAPEAAAAAAAAAQQAAAAAAAADJAAAAAAAAAOUAAAAAAAAAvQAAAAAAAgEBAAAAAAAAAL0AAAAAAAAAkQAAAAAAAADpAAAAAAAAAHMAAAAAAAAA6QAAAAAAAAABAAAAAAAAAIkDWxW00gHcVwAAAAAAAADZAAAAAAAAANEAAAAAAAAAywAAAAAAAACDAMzMzMzMzEsB7gy9MpqopQAAAAAAAADlA4umVsgwRI0AAAAAAAAA4QAn5oGezqhhAe4MvTKYqLUAAAAAAAAA9QJqZmZmZmR1AAAAAAAAAM0AAAAAAAAAXQAAAAAAAADZAAAAAAAAAJEAAAAAAAAA0QAAAAAAAACDAAAAAAAAAOUAAAAAAAABZQIV80LNZ1ShAAAAAAAAANUAAAAAAAIAzQAAAAAAAAC5AAAAAAAAAEMAAAAAAAAAuQAAAAAAAACBAAAAAAAAAQEAAAAAAAAAAwGZmZmZm5ihA",
          "dtype": "f8"
         },
         "marker": {
          "color": "#EF553B",
          "size": {
           "bdata": "b4+NHwKyuD8l1NkqXvnhP0+u2DoQyd4/5/CshVuluj8pgnuGqQrXP4hhrjEaq70/Peyl8qutxT+doVbJOubRP3teQh8gxOE/2gVVLLRs1z/NQC9hxFfhP82Hnys68Ns/Tn0uxP2b5j/zueziJPbJP383zEwxnNw/KzgYb47A1D8QHZ3hTA7iPzNiEUau19U/GohL5vqMyT9BR7ssc5TgP9NQDv92RdQ/fZXnmM1X2T/YGabBL+vSPyg/5S8kg9w/DTDWa7GI3T9Tlo9PwFfZP7hwi1jYsdk/m1FXFwwyyD/F03fW8YXAP+RGbuRGbtQ/1yapKJJL2D8zZSJs/E7ePyCkffS/OsM/Wr2p05Lb0D9apWe0XlvEP14QAhgHgt8/3k70mMl9wz9ZdHT6gM2/PwiiqWxGYuA/VlZSo7TV0j9cc17AT+fdPzFfjUkBud8/2cIOJmsz0T+xMraZUajPP/zNIEsVL9s/YRBtnravvT9Q44BJqyjVP5IkSZIkSaI/",
           "dtype": "f8"
          },
          "sizemode": "area",
          "sizeref": 0.0007850465596169223
         },
         "mode": "markers",
         "name": "Europe",
         "showlegend": true,
         "subplot": "map",
         "type": "scattermap"
        },
        {
         "customdata": {
          "bdata": "AAAAAMw7EEFcvqOx02p4PwAAAAAQW/hAlHMmGmQVaD8AAAAAgHzaQDq0JWw22GE/AAAAAAguE0FYZ//1Y8fAPwAAAAAAjdRAv4XybuYJUD8AAAAAwLPkQHR6UvYnV2w/AAAAALBI/UB6vZYR6AtyPwAAAACgVexAlWLAZRNwuj8AAAAAgJzMQEzGzaAoZGg/AAAAAAD8vEBiy/7OkL88PwAAAAAAw79AM9EeFzK+gj8AAAAAAJDXQM6YqT9UeHE/AAAAADAu9EDnL2dTlgdpPwAAAADA9PVAuPxoiX7mTz8AAAAAAKXOQO9Hp9cFCJA/AAAAAPR4H0HEVS3OFkJ0PwAAAACAQM9AkTLsHQuahj8AAAAAgBjDQBKZHQc0PWY/AAAAALDS8UD/zxKHzuGvPwAAAABshh1BndWoGyLPcD8AAAAAwE/nQMVKfmH6c5U/AAAAAABxx0C7S1QMcsRzPwAAAAAg8ANBIPniSD4VdT8AAAAAIPrhQN5K8R5+WGY/AAAAAIA5wECMHkrFyeFwPwAAAABMFhRBZl4i/w+EeD8AAAAAQHrgQOUQ/cpIAZA/AAAAAABBvUAvqfwEr69XPwAAAADwpB5ByMd+SZZ4sj8AAAAAoJXvQBrPJmT3o2I/AAAAAKAL9UDc0yGAgvhxPwAAAABAaN5AEe2y3Pl1WD8AAAAAoPPsQFfyBm8ibok/AAAAAJDDC0ESS36AkNzGPwAAAADcEzJBqVXbKyY+oD8AAAAAWLgLQUfGLahV63w/AAAAAJicBEHRQHUm57SwPwAAAACAo8FACre5GQ6NNz8AAAAA6FEPQUzDyvWL4lM/AAAAADDe/0AJYM8kpyKEPwAAAAAAABBAkqVGMj2BRT8AAAAAAHq3QLjYd6JxjZs/AAAAAJAL9UArMoIQQ4h0PwAAAAAgveVAKKTgdbTO3D8AAAAAAAi+QAxHVAx/8U4/AAAAAMAM2kC+kG3dBrdaPwAAAACDZk5BAAskd0D9sD8AAAAAQEjRQOmT203CeVk/AAAAACCD7kBba91GJ8xWPwAAAABAQ+FA0h5rpWnWQj8AAAAAQC/iQEZSA5kI/nE/AAAAAJTfL0FomPH4p2a2PwAAAADIXARBrELkY4z/bD8AAAAA5MYTQTfPtlNWiZE/AAAAAAgZD0FTupf38EiRPw==",
          "dtype": "f8",
          "shape": "55, 2"
         },
         "hovertemplate": "<b>%{hovertext}</b><br><br>continent=Africa<br>cases_per_population=%{customdata[1]:.2%}<br>latitude=%{lat}<br>longitude=%{lon}<br>total_cases=%{customdata[0]:,}<extra></extra>",
         "hovertext": [
          "Algeria",
          "Angola",
          "Benin",
          "Botswana",
          "Burkina Faso",
          "Burundi",
          "Cameroon",
          "Cape Verde",
          "Central African Republic",
          "Chad",
          "Comoros",
          "Congo",
          "Cote d'Ivoire",
          "Democratic Republic of Congo",
          "Djibouti",
          "Egypt",
          "Equatorial Guinea",
          "Eritrea",
          "Eswatini",
          "Ethiopia",
          "Gabon",
          "Gambia",
          "Ghana",
          "Guinea",
          "Guinea-Bissau",
          "Kenya",
          "Lesotho",
          "Liberia",
          "Libya",
          "Madagascar",
          "Malawi",
          "Mali",
          "Mauritania",
          "Mauritius",
          "Morocco",
          "Mozambique",
          "Namibia",
          "Niger",
          "Nigeria",
          "Rwanda",
          "Saint Helena",
          "Sao Tome and Principe",
          "Senegal",
          "Seychelles",
          "Sierra Leone",
          "Somalia",
          "South Africa",
          "South Sudan",
          "Sudan",
          "Tanzania",
          "Togo",
          "Tunisia",
          "Uganda",
          "Zambia",
          "Zimbabwe"
         ],
         "lat": {
          "bdata": "AAAAAAAAPEAAAAAAAAApwAAAAAAAACNAAAAAAAAANsAAAAAAAAAqQAAAAAAAAAzAAAAAAAAAGEAAAAAAAAAwQAAAAAAAABxAAAAAAAAALkCFfNCzWVUowAAAAAAAAPC/AAAAAAAAIEAAAAAAAAAAAAAAAAAAACdAAAAAAAAAO0AAAAAAAAAAQAAAAAAAAC5AAAAAAACAOsAAAAAAAAAgQAAAAAAAAPC/HhZqTfPuKkAAAAAAAAAgQAAAAAAAACZAAAAAAAAAKEAAAAAAAADwPwAAAAAAgD3AAAAAAAAAGkAAAAAAAAA5QAAAAAAAADTAAAAAAAAAK8AAAAAAAAAxQAAAAAAAADRA8fRKWYZINMAAAAAAAABAQAAAAAAAQDLAAAAAAAAANsAAAAAAAAAwQAAAAAAAACRAAAAAAAAAAMCutmJ/2d0vwAAAAAAAAPA/AAAAAAAALED3Bl+YTFUSwAAAAAAAACFAAAAAAAAAJEAAAAAAAAA9wAAAAAAAACBAAAAAAAAALkAAAAAAAAAYwAAAAAAAACBAAAAAAAAAQUAAAAAAAADwPwAAAAAAAC7AAAAAAAAANMA=",
          "dtype": "f8"
         },
         "legendgroup": "Africa",
         "lon": {
          "bdata": "AAAAAAAACEAAAAAAAIAyQAAAAAAAAAJAAAAAAAAAOEAAAAAAAAAAwAAAAAAAAD5AAAAAAAAAKEAAAAAAAAA4wAAAAAAAADVAAAAAAAAAM0AAAAAAACBGQAAAAAAAAC5AAAAAAAAAFMAAAAAAAAA5QAAAAAAAgEVAAAAAAAAAPkAAAAAAAAAkQAAAAAAAgENAAAAAAACAP0AAAAAAAABDQAAAAAAAgCdAqaROQBORMMAAAAAAAAAAwAAAAAAAACTAAAAAAAAALsAAAAAAAABDQAAAAAAAgDxAAAAAAAAAI8AAAAAAAAAxQAAAAAAAgEdAAAAAAAAAQUAAAAAAAAAQwAAAAAAAACjAZmZmZmbGTEAAAAAAAAAUwAAAAAAAgEFAAAAAAAAAMUAAAAAAAAAgQAAAAAAAACBAAAAAAAAAPkDNzMzMzMwWwAAAAAAAABxAAAAAAAAALMAhH/RsVtVLQAAAAAAAACfAAAAAAACASEAAAAAAAAA4QAAAAAAAAD5AAAAAAAAAPkAAAAAAAIBBQCbkg57NqvI/AAAAAAAAIkAAAAAAAABAQAAAAAAAAD5AAAAAAAAAPkA=",
          "dtype": "f8"
         },
         "marker": {
          "color": "#00cc96",
          "size": {
           "bdata": "XL6jsdNqeD+UcyYaZBVoPzq0JWw22GE/WGf/9WPHwD+/hfJu5glQP3R6UvYnV2w/er2WEegLcj+VYsBlE3C6P0zGzaAoZGg/Ysv+zpC/PD8z0R4XMr6CP86YqT9UeHE/5y9nU5YHaT+4/GiJfuZPP+9Hp9cFCJA/xFUtzhZCdD+RMuwdC5qGPxKZHQc0PWY//88Sh87hrz+d1agbIs9wP8VKfmH6c5U/u0tUDHLEcz8g+eJIPhV1P95K8R5+WGY/jB5KxcnhcD9mXiL/D4R4P+UQ/cpIAZA/L6n8BK+vVz/Ix35JlniyPxrPJmT3o2I/3NMhgIL4cT8R7bLc+XVYP1fyBm8ibok/Ekt+gJDcxj+pVdsrJj6gP0fGLahV63w/0UB1Jue0sD8Kt7kZDo03P0zDyvWL4lM/CWDPJKcihD+SpUYyPYFFP7jYd6JxjZs/KzKCEEOIdD8opOB1tM7cPwxHVAx/8U4/vpBt3Qa3Wj8ACyR3QP2wP+mT203CeVk/W2vdRifMVj/SHmuladZCP0ZSA5kI/nE/aJjx+Kdmtj+sQuRjjP9sPzfPtlNWiZE/U7qX9/BIkT8=",
           "dtype": "f8"
          },
          "sizemode": "area",
          "sizeref": 0.0007850465596169223
         },
         "mode": "markers",
         "name": "Africa",
         "showlegend": true,
         "subplot": "map",
         "type": "scattermap"
        },
        {
         "customdata": {
          "bdata": "AAAAAABcqkBoVLGHs43MPwAAAACAwsBAozJ7ORlAtj8AAAAAgIXjQL9d6z+p3tc/AAAAAGBi4UDlfe1rjPa2PwAAAACgOPRAVNu/Sals0j8AAAAAwDvuQKojPcDAksM/AAAAAADJzkBASMFoED/QPwAAAAAAHbtABw9q3AI0zT8AAAAAwPNNQfTGB6qhZro/AAAAAEAr2kAv1haqVcrZPwAAAADMnStBxTOH+RqKxj8AAAAAQd8wQaRCVAHsArk/AAAAAIDezECUeWUw9zbKPwAAAACuLyJBCFBQ0traqz8AAAAAMAkEQceC/Fq2yJk/AAAAAIBhx0C5FgIs1PHKPwAAAADAsNFAI0H7CFWExD8AAAAAUtwqQT/CZ49xsag/AAAAAIBT3kDWRalxlgpmPwAAAAC8ARpBdGI2dvOtpT8AAAAA0D8BQflJoJHaVKg/AAAAAG1TVkFCvh2Y+gCnPwAAAAAAuI9ASGhnFEcVyj8AAAAAgI3MQCUE6Hs83mE/AAAAAOSJK0Fqc/Pdj1zKPwAAAAAAC7dA6RYU3+YzvD8AAAAAgBjaQEfZs7R9jMI/AAAAAACepUBiK0pok6/ePwAAAACAc8JAzYS7ICm8tT8AAAAAUDoEQZ6IawpJOr4/AAAAAAAtuEBEN27UETLEPwAAABgfj5RB/DePDMCT0D8=",
          "dtype": "f8",
          "shape": "32, 2"
         },
         "hovertemplate": "<b>%{hovertext}</b><br><br>continent=North America<br>cases_per_population=%{customdata[1]:.2%}<br>latitude=%{lat}<br>longitude=%{lon}<br>total_cases=%{customdata[0]:,}<extra></extra>",
         "hovertext": [
          "Anguilla",
          "Antigua and Barbuda",
          "Aruba",
          "Bahamas",
          "Barbados",
          "Belize",
          "Bermuda",
          "British Virgin Islands",
          "Canada",
          "Cayman Islands",
          "Costa Rica",
          "Cuba",
          "Dominica",
          "Dominican Republic",
          "El Salvador",
          "Greenland",
          "Grenada",
          "Guatemala",
          "Haiti",
          "Honduras",
          "Jamaica",
          "Mexico",
          "Montserrat",
          "Nicaragua",
          "Panama",
          "Saint Kitts and Nevis",
          "Saint Lucia",
          "Saint Pierre and Miquelon",
          "Saint Vincent and the Grenadines",
          "Trinidad and Tobago",
          "Turks and Caicos Islands",
          "United States"
         ],
         "lat": {
          "bdata": "AAAAAABAMkDNzMzMzAwxQAAAAAAAAClAAAAAAABAOECFfNCzWVUqQAAAAAAAQDFA3+ALk6kqQEAAAAAAAIAyQAAAAAAAAE5AAAAAAACAM0AAAAAAAAAkQAAAAAAAgDVAhXzQs1nVLkAAAAAAAAAzQHuDL0ymqitAAAAAAAAAUkDr4jYawDsoQAAAAAAAAC9AAAAAAAAAM0AAAAAAAAAuQAAAAAAAQDJAAAAAAAAAN0AAAAAAAMAwQAAAAAAAACpAAAAAAAAAIkC+wRcmU1UxQBUdyeU/xCtA3+ALk6lqR0AAAAAAAIAqQAAAAAAAACZAAAAAAADANUAAAAAAAABDQA==",
          "dtype": "f8"
         },
         "legendgroup": "North America",
         "lon": {
          "bdata": "IR/0bFaVT8BmZmZmZuZOwMRCrWnefVHAAAAAAAAAU8B4eqUsQ8RNwAAAAAAAMFbAAAAAAAAwUMAAAAAAACBQwAAAAAAAwFfAAAAAAAAgVMAAAAAAAABVwAAAAAAAAFTA3+ALk6mqTsCRD3o2q6pRwJEPejarOlbAAAAAAAAARMAhH/RsVtVOwAAAAAAAkFbAkQ96NqsaUsAAAAAAAKBVwAAAAAAAYFPAAAAAAACAWcCamZmZmRlPwAAAAAAAQFXAAAAAAAAAVMAAAAAAAGBPwEVHcvkPkU7A3+ALk6kqTMCamZmZmZlOwAAAAAAAgE7Ab/CFyVTlUcAAAAAAAEBYwA==",
          "dtype": "f8"
         },
         "marker": {
          "color": "#ab63fa",
          "size": {
           "bdata": "aFSxh7ONzD+jMns5GUC2P79d6z+p3tc/5X3ta4z2tj9U279JqWzSP6ojPcDAksM/QEjBaBA/0D8HD2rcAjTNP/TGB6qhZro/L9YWqlXK2T/FM4f5GorGP6RCVAHsArk/lHllMPc2yj8IUFDS2tqrP8eC/Fq2yJk/uRYCLNTxyj8jQfsIVYTEPz/CZ49xsag/1kWpcZYKZj90YjZ2862lP/lJoJHaVKg/Qr4dmPoApz9IaGcURxXKPyUE6Hs83mE/anPz3Y9cyj/pFhTf5jO8P0fZs7R9jMI/YitKaJOv3j/NhLsgKby1P56IawpJOr4/RDdu1BEyxD/8N48MwJPQPw==",
           "dtype": "f8"
          },
          "sizemode": "area",
          "sizeref": 0.0007850465596169223
         },
         "mode": "markers",
         "name": "North America",
         "showlegend": true,
         "subplot": "map",
         "type": "scattermap"
        },
        {
         "customdata": {
          "bdata": "AAAAoJXDYUE+gayXwiPKPwAAAAAW6ytBOd57x7bKsz8AAACQtyV+Qc+CpfaW6MI/AAAAgNyeTUFp8vnsvd3JPwAAAEDyY1dBhcdp6XCevj8AAAAAxlsrQe6ouViwqKk/AAAAAABwm0D3j0gb2drfPwAAAACAOfBAU1N6YrGGtT8AAAAA6PAjQVj3gmB3K7c/AAAAABVzS0E30mhyKZy7PwAAAADgt/NAGqoOfgh4wT8AAAAACs4sQdF0AkU/VdE/AAAAAC4EIEEUjP7M37iSPw==",
          "dtype": "f8",
          "shape": "13, 2"
         },
         "hovertemplate": "<b>%{hovertext}</b><br><br>continent=South America<br>cases_per_population=%{customdata[1]:.2%}<br>latitude=%{lat}<br>longitude=%{lon}<br>total_cases=%{customdata[0]:,}<extra></extra>",
         "hovertext": [
          "Argentina",
          "Bolivia",
          "Brazil",
          "Chile",
          "Colombia",
          "Ecuador",
          "Falkland Islands",
          "Guyana",
          "Paraguay",
          "Peru",
          "Suriname",
          "Uruguay",
          "Venezuela"
         ],
         "lat": {
          "bdata": "AAAAAAAAQcAAAAAAAAAxwAAAAAAAACTAAAAAAAAAPsAAAAAAAAAQQAAAAAAAAADAAAAAAADgScAAAAAAAAAUQAAAAAAAADfAAAAAAAAAJMAAAAAAAAAQQAAAAAAAgEDAAAAAAAAAIEA=",
          "dtype": "f8"
         },
         "legendgroup": "South America",
         "lon": {
          "bdata": "AAAAAAAAUMAAAAAAAEBQwAAAAAAAgEvAAAAAAADAUcAAAAAAAABSwAAAAAAAYFPAAAAAAACATcAAAAAAAIBNwAAAAAAAAE3AAAAAAAAAU8AAAAAAAABMwAAAAAAAAEzAAAAAAACAUMA=",
          "dtype": "f8"
         },
         "marker": {
          "color": "#FFA15A",
          "size": {
           "bdata": "PoGsl8Ijyj853nvHtsqzP8+CpfaW6MI/afL57L3dyT+Fx2npcJ6+P+6ouViwqKk/949IG9na3z9TU3pisYa1P1j3gmB3K7c/N9Jocimcuz8aqg5+CHjBP9F0AkU/VdE/FIz+zN+4kj8=",
           "dtype": "f8"
          },
          "sizemode": "area",
          "sizeref": 0.0007850465596169223
         },
         "mode": "markers",
         "name": "South America",
         "showlegend": true,
         "subplot": "map",
         "type": "scattermap"
        },
        {
         "customdata": {
          "bdata": "AAAAQGbCXUGZkeefWlzTPwAAAAAAX7ZASziqv8/b1D8AAAAAgN7vQF4z0zZpgbI/AAAAAGDb8UA73/Bzd5HQPwAAAAAAHqlA3x96ufcemz8AAAAAAAAyQPXmoyNqyTM/AAAAAAAAQ0CGAK7q7Ws1PwAAAABAw+5An/Swn9T6yz8AAAAALW4zQYe+UIqsy88/AAAAAAA9tED/4VYMtj7SPwAAAAAg0eVABHYWMscRdD8AAAAAgFDMQFbe0Ir1irI/AAAAAAAK1UCsQy9YQlafPwAAAACAl8dAZa6PR+v2vD8AAAAAgDTFQLJjz61QraE/AAAAAABgfEDqrpa93POkPw==",
          "dtype": "f8",
          "shape": "16, 2"
         },
         "hovertemplate": "<b>%{hovertext}</b><br><br>continent=Oceania<br>cases_per_population=%{customdata[1]:.2%}<br>latitude=%{lat}<br>longitude=%{lon}<br>total_cases=%{customdata[0]:,}<extra></extra>",
         "hovertext": [
          "Australia",
          "Cook Islands",
          "Fiji",
          "French Polynesia",
          "Kiribati",
          "Marshall Islands",
          "Micronesia (country)",
          "New Caledonia",
          "New Zealand",
          "Palau",
          "Papua New Guinea",
          "Samoa",
          "Solomon Islands",
          "Tonga",
          "Vanuatu",
          "Wallis and Futuna"
         ],
         "lat": {
          "bdata": "AAAAAAAAO8AkKH6MuTs1wAAAAAAAADLAAAAAAAAALsAm5IOezar2PwAAAAAAACJACfmgZ7OqG0AAAAAAAIA1wAAAAAAAgETAAAAAAAAAHkAAAAAAAAAYwHuDL0ymKivAAAAAAAAAIMAAAAAAAAA0wAAAAAAAADDAmpmZmZmZKsA=",
          "dtype": "f8"
         },
         "legendgroup": "Oceania",
         "lon": {
          "bdata": "AAAAAACgYED7OnDOiPhjwAAAAAAA4GVAAAAAAACAYcAAAAAAAKBlQAAAAAAAAGVAAAAAAADIY0AAAAAAALBkQAAAAAAAwGVAAAAAAADQYEAAAAAAAGBiQDj4wmSqimXAAAAAAADgY0AAAAAAAOBlwAAAAAAA4GRAZmZmZmYGZsA=",
          "dtype": "f8"
         },
         "marker": {
          "color": "#19d3f3",
          "size": {
           "bdata": "mZHnn1pc0z9LOKq/z9vUP14z0zZpgbI/O9/wc3eR0D/fH3q59x6bP/XmoyNqyTM/hgCu6u1rNT+f9LCf1PrLP4e+UIqsy88//+FWDLY+0j8EdhYyxxF0P1be0Ir1irI/rEMvWEJWnz9lro9H6/a8P7Jjz61QraE/6q6WvdzzpD8=",
           "dtype": "f8"
          },
          "sizemode": "area",
          "sizeref": 0.0007850465596169223
         },
         "mode": "markers",
         "name": "Oceania",
         "showlegend": true,
         "subplot": "map",
         "type": "scattermap"
        }
       ],
       "layout": {
        "legend": {
         "itemsizing": "constant",
         "title": {
          "text": "continent"
         },
         "tracegroupgap": 0
        },
        "map": {
         "center": {
          "lat": 18.929894835680752,
          "lon": 15.324138028169015
         },
         "domain": {
          "x": [
           0,
           1
          ],
          "y": [
           0,
           1
          ]
         },
         "style": "carto-darkmatter",
         "zoom": 1
        },
        "mapbox": {
         "center": {
          "lat": 18.929894835680752,
          "lon": 15.324138028169015
         },
         "style": "carto-darkmatter",
         "zoom": 1
        },
        "template": {
         "data": {
          "bar": [
           {
            "error_x": {
             "color": "#2a3f5f"
            },
            "error_y": {
             "color": "#2a3f5f"
            },
            "marker": {
             "line": {
              "color": "#E5ECF6",
              "width": 0.5
             },
             "pattern": {
              "fillmode": "overlay",
              "size": 10,
              "solidity": 0.2
             }
            },
            "type": "bar"
           }
          ],
          "barpolar": [
           {
            "marker": {
             "line": {
              "color": "#E5ECF6",
              "width": 0.5
             },
             "pattern": {
              "fillmode": "overlay",
              "size": 10,
              "solidity": 0.2
             }
            },
            "type": "barpolar"
           }
          ],
          "carpet": [
           {
            "aaxis": {
             "endlinecolor": "#2a3f5f",
             "gridcolor": "white",
             "linecolor": "white",
             "minorgridcolor": "white",
             "startlinecolor": "#2a3f5f"
            },
            "baxis": {
             "endlinecolor": "#2a3f5f",
             "gridcolor": "white",
             "linecolor": "white",
             "minorgridcolor": "white",
             "startlinecolor": "#2a3f5f"
            },
            "type": "carpet"
           }
          ],
          "choropleth": [
           {
            "colorbar": {
             "outlinewidth": 0,
             "ticks": ""
            },
            "type": "choropleth"
           }
          ],
          "contour": [
           {
            "colorbar": {
             "outlinewidth": 0,
             "ticks": ""
            },
            "colorscale": [
             [
              0,
              "#0d0887"
             ],
             [
              0.1111111111111111,
              "#46039f"
             ],
             [
              0.2222222222222222,
              "#7201a8"
             ],
             [
              0.3333333333333333,
              "#9c179e"
             ],
             [
              0.4444444444444444,
              "#bd3786"
             ],
             [
              0.5555555555555556,
              "#d8576b"
             ],
             [
              0.6666666666666666,
              "#ed7953"
             ],
             [
              0.7777777777777778,
              "#fb9f3a"
             ],
             [
              0.8888888888888888,
              "#fdca26"
             ],
             [
              1,
              "#f0f921"
             ]
            ],
            "type": "contour"
           }
          ],
          "contourcarpet": [
           {
            "colorbar": {
             "outlinewidth": 0,
             "ticks": ""
            },
            "type": "contourcarpet"
           }
          ],
          "heatmap": [
           {
            "colorbar": {
             "outlinewidth": 0,
             "ticks": ""
            },
            "colorscale": [
             [
              0,
              "#0d0887"
             ],
             [
              0.1111111111111111,
              "#46039f"
             ],
             [
              0.2222222222222222,
              "#7201a8"
             ],
             [
              0.3333333333333333,
              "#9c179e"
             ],
             [
              0.4444444444444444,
              "#bd3786"
             ],
             [
              0.5555555555555556,
              "#d8576b"
             ],
             [
              0.6666666666666666,
              "#ed7953"
             ],
             [
              0.7777777777777778,
              "#fb9f3a"
             ],
             [
              0.8888888888888888,
              "#fdca26"
             ],
             [
              1,
              "#f0f921"
             ]
            ],
            "type": "heatmap"
           }
          ],
          "histogram": [
           {
            "marker": {
             "pattern": {
              "fillmode": "overlay",
              "size": 10,
              "solidity": 0.2
             }
            },
            "type": "histogram"
           }
          ],
          "histogram2d": [
           {
            "colorbar": {
             "outlinewidth": 0,
             "ticks": ""
            },
            "colorscale": [
             [
              0,
              "#0d0887"
             ],
             [
              0.1111111111111111,
              "#46039f"
             ],
             [
              0.2222222222222222,
              "#7201a8"
             ],
             [
              0.3333333333333333,
              "#9c179e"
             ],
             [
              0.4444444444444444,
              "#bd3786"
             ],
             [
              0.5555555555555556,
              "#d8576b"
             ],
             [
              0.6666666666666666,
              "#ed7953"
             ],
             [
              0.7777777777777778,
              "#fb9f3a"
             ],
             [
              0.8888888888888888,
              "#fdca26"
             ],
             [
              1,
              "#f0f921"
             ]
            ],
            "type": "histogram2d"
           }
          ],
          "histogram2dcontour": [
           {
            "colorbar": {
             "outlinewidth": 0,
             "ticks": ""
            },
            "colorscale": [
             [
              0,
              "#0d0887"
             ],
             [
              0.1111111111111111,
              "#46039f"
             ],
             [
              0.2222222222222222,
              "#7201a8"
             ],
             [
              0.3333333333333333,
              "#9c179e"
             ],
             [
              0.4444444444444444,
              "#bd3786"
             ],
             [
              0.5555555555555556,
              "#d8576b"
             ],
             [
              0.6666666666666666,
              "#ed7953"
             ],
             [
              0.7777777777777778,
              "#fb9f3a"
             ],
             [
              0.8888888888888888,
              "#fdca26"
             ],
             [
              1,
              "#f0f921"
             ]
            ],
            "type": "histogram2dcontour"
           }
          ],
          "mesh3d": [
           {
            "colorbar": {
             "outlinewidth": 0,
             "ticks": ""
            },
            "type": "mesh3d"
           }
          ],
          "parcoords": [
           {
            "line": {
             "colorbar": {
              "outlinewidth": 0,
              "ticks": ""
             }
            },
            "type": "parcoords"
           }
          ],
          "pie": [
           {
            "automargin": true,
            "type": "pie"
           }
          ],
          "scatter": [
           {
            "fillpattern": {
             "fillmode": "overlay",
             "size": 10,
             "solidity": 0.2
            },
            "type": "scatter"
           }
          ],
          "scatter3d": [
           {
            "line": {
             "colorbar": {
              "outlinewidth": 0,
              "ticks": ""
             }
            },
            "marker": {
             "colorbar": {
              "outlinewidth": 0,
              "ticks": ""
             }
            },
            "type": "scatter3d"
           }
          ],
          "scattercarpet": [
           {
            "marker": {
             "colorbar": {
              "outlinewidth": 0,
              "ticks": ""
             }
            },
            "type": "scattercarpet"
           }
          ],
          "scattergeo": [
           {
            "marker": {
             "colorbar": {
              "outlinewidth": 0,
              "ticks": ""
             }
            },
            "type": "scattergeo"
           }
          ],
          "scattergl": [
           {
            "marker": {
             "colorbar": {
              "outlinewidth": 0,
              "ticks": ""
             }
            },
            "type": "scattergl"
           }
          ],
          "scattermap": [
           {
            "marker": {
             "colorbar": {
              "outlinewidth": 0,
              "ticks": ""
             }
            },
            "type": "scattermap"
           }
          ],
          "scattermapbox": [
           {
            "marker": {
             "colorbar": {
              "outlinewidth": 0,
              "ticks": ""
             }
            },
            "type": "scattermapbox"
           }
          ],
          "scatterpolar": [
           {
            "marker": {
             "colorbar": {
              "outlinewidth": 0,
              "ticks": ""
             }
            },
            "type": "scatterpolar"
           }
          ],
          "scatterpolargl": [
           {
            "marker": {
             "colorbar": {
              "outlinewidth": 0,
              "ticks": ""
             }
            },
            "type": "scatterpolargl"
           }
          ],
          "scatterternary": [
           {
            "marker": {
             "colorbar": {
              "outlinewidth": 0,
              "ticks": ""
             }
            },
            "type": "scatterternary"
           }
          ],
          "surface": [
           {
            "colorbar": {
             "outlinewidth": 0,
             "ticks": ""
            },
            "colorscale": [
             [
              0,
              "#0d0887"
             ],
             [
              0.1111111111111111,
              "#46039f"
             ],
             [
              0.2222222222222222,
              "#7201a8"
             ],
             [
              0.3333333333333333,
              "#9c179e"
             ],
             [
              0.4444444444444444,
              "#bd3786"
             ],
             [
              0.5555555555555556,
              "#d8576b"
             ],
             [
              0.6666666666666666,
              "#ed7953"
             ],
             [
              0.7777777777777778,
              "#fb9f3a"
             ],
             [
              0.8888888888888888,
              "#fdca26"
             ],
             [
              1,
              "#f0f921"
             ]
            ],
            "type": "surface"
           }
          ],
          "table": [
           {
            "cells": {
             "fill": {
              "color": "#EBF0F8"
             },
             "line": {
              "color": "white"
             }
            },
            "header": {
             "fill": {
              "color": "#C8D4E3"
             },
             "line": {
              "color": "white"
             }
            },
            "type": "table"
           }
          ]
         },
         "layout": {
          "annotationdefaults": {
           "arrowcolor": "#2a3f5f",
           "arrowhead": 0,
           "arrowwidth": 1
          },
          "autotypenumbers": "strict",
          "coloraxis": {
           "colorbar": {
            "outlinewidth": 0,
            "ticks": ""
           }
          },
          "colorscale": {
           "diverging": [
            [
             0,
             "#8e0152"
            ],
            [
             0.1,
             "#c51b7d"
            ],
            [
             0.2,
             "#de77ae"
            ],
            [
             0.3,
             "#f1b6da"
            ],
            [
             0.4,
             "#fde0ef"
            ],
            [
             0.5,
             "#f7f7f7"
            ],
            [
             0.6,
             "#e6f5d0"
            ],
            [
             0.7,
             "#b8e186"
            ],
            [
             0.8,
             "#7fbc41"
            ],
            [
             0.9,
             "#4d9221"
            ],
            [
             1,
             "#276419"
            ]
           ],
           "sequential": [
            [
             0,
             "#0d0887"
            ],
            [
             0.1111111111111111,
             "#46039f"
            ],
            [
             0.2222222222222222,
             "#7201a8"
            ],
            [
             0.3333333333333333,
             "#9c179e"
            ],
            [
             0.4444444444444444,
             "#bd3786"
            ],
            [
             0.5555555555555556,
             "#d8576b"
            ],
            [
             0.6666666666666666,
             "#ed7953"
            ],
            [
             0.7777777777777778,
             "#fb9f3a"
            ],
            [
             0.8888888888888888,
             "#fdca26"
            ],
            [
             1,
             "#f0f921"
            ]
           ],
           "sequentialminus": [
            [
             0,
             "#0d0887"
            ],
            [
             0.1111111111111111,
             "#46039f"
            ],
            [
             0.2222222222222222,
             "#7201a8"
            ],
            [
             0.3333333333333333,
             "#9c179e"
            ],
            [
             0.4444444444444444,
             "#bd3786"
            ],
            [
             0.5555555555555556,
             "#d8576b"
            ],
            [
             0.6666666666666666,
             "#ed7953"
            ],
            [
             0.7777777777777778,
             "#fb9f3a"
            ],
            [
             0.8888888888888888,
             "#fdca26"
            ],
            [
             1,
             "#f0f921"
            ]
           ]
          },
          "colorway": [
           "#636efa",
           "#EF553B",
           "#00cc96",
           "#ab63fa",
           "#FFA15A",
           "#19d3f3",
           "#FF6692",
           "#B6E880",
           "#FF97FF",
           "#FECB52"
          ],
          "font": {
           "color": "#2a3f5f"
          },
          "geo": {
           "bgcolor": "white",
           "lakecolor": "white",
           "landcolor": "#E5ECF6",
           "showlakes": true,
           "showland": true,
           "subunitcolor": "white"
          },
          "hoverlabel": {
           "align": "left"
          },
          "hovermode": "closest",
          "mapbox": {
           "style": "light"
          },
          "paper_bgcolor": "white",
          "plot_bgcolor": "#E5ECF6",
          "polar": {
           "angularaxis": {
            "gridcolor": "white",
            "linecolor": "white",
            "ticks": ""
           },
           "bgcolor": "#E5ECF6",
           "radialaxis": {
            "gridcolor": "white",
            "linecolor": "white",
            "ticks": ""
           }
          },
          "scene": {
           "xaxis": {
            "backgroundcolor": "#E5ECF6",
            "gridcolor": "white",
            "gridwidth": 2,
            "linecolor": "white",
            "showbackground": true,
            "ticks": "",
            "zerolinecolor": "white"
           },
           "yaxis": {
            "backgroundcolor": "#E5ECF6",
            "gridcolor": "white",
            "gridwidth": 2,
            "linecolor": "white",
            "showbackground": true,
            "ticks": "",
            "zerolinecolor": "white"
           },
           "zaxis": {
            "backgroundcolor": "#E5ECF6",
            "gridcolor": "white",
            "gridwidth": 2,
            "linecolor": "white",
            "showbackground": true,
            "ticks": "",
            "zerolinecolor": "white"
           }
          },
          "shapedefaults": {
           "line": {
            "color": "#2a3f5f"
           }
          },
          "ternary": {
           "aaxis": {
            "gridcolor": "white",
            "linecolor": "white",
            "ticks": ""
           },
           "baxis": {
            "gridcolor": "white",
            "linecolor": "white",
            "ticks": ""
           },
           "bgcolor": "#E5ECF6",
           "caxis": {
            "gridcolor": "white",
            "linecolor": "white",
            "ticks": ""
           }
          },
          "title": {
           "x": 0.05
          },
          "xaxis": {
           "automargin": true,
           "gridcolor": "white",
           "linecolor": "white",
           "ticks": "",
           "title": {
            "standoff": 15
           },
           "zerolinecolor": "white",
           "zerolinewidth": 2
          },
          "yaxis": {
           "automargin": true,
           "gridcolor": "white",
           "linecolor": "white",
           "ticks": "",
           "title": {
            "standoff": 15
           },
           "zerolinecolor": "white",
           "zerolinewidth": 2
          }
         }
        },
        "title": {
         "text": "🌍 Global COVID-19 Cases by Country"
        }
       }
      }
     },
     "metadata": {},
     "output_type": "display_data"
    }
   ],
   "source": [
    "# -------------------\n",
    "# Prepare dataset:\n",
    "# -------------------\n",
    "\n",
    "df_country = covid_df.groupby(\n",
    "    [\"location\", \"continent\", \"latitude\", \"longitude\", \"population\"], \n",
    "    as_index=False\n",
    ").agg({\"total_cases\": \"max\"})\n",
    "\n",
    "# ----- Compute ratio of cases to population ------\n",
    "df_country[\"cases_per_population\"] = df_country[\"total_cases\"] / df_country[\"population\"]\n",
    "\n",
    "# ----- Drop rows with NaN -----\n",
    "df_country = df_country.dropna(subset=[\"cases_per_population\", \"latitude\", \"longitude\"])\n",
    "\n",
    "# ----- Create scatter map -----\n",
    "fig = px.scatter_map(\n",
    "    df_country,\n",
    "    lat=\"latitude\",\n",
    "    lon=\"longitude\",\n",
    "    size=\"cases_per_population\",       # marker size depends on ratio\n",
    "    color=\"continent\",                 # marker color depends on continent\n",
    "    hover_name=\"location\",             # tooltip: country name\n",
    "    hover_data={\"total_cases\": \":,\", \"cases_per_population\": \":.2%\"},  # nicer formatting\n",
    "    size_max=30,                       # control max marker size\n",
    "    zoom=1,                            # zoomed out to see the world\n",
    "    map_style=\"carto-darkmatter\",      # dark map style\n",
    "    title=\"🌍 Global COVID-19 Cases by Country\"\n",
    ")\n",
    "\n",
    "# ----- Show chart ------\n",
    "fig.show()\n"
   ]
  },
  {
   "cell_type": "markdown",
   "id": "a40ee026",
   "metadata": {},
   "source": [
    "# Fifth Visualization - Cumulative number of positive cases per country\n",
    "## Task \n",
    "Using your data frame and the plotly library, create a visualization that shows on a world map how many disease cases were reported in each country throughout the pandemic."
   ]
  },
  {
   "cell_type": "code",
   "execution_count": 53,
   "id": "698b8d2c",
   "metadata": {},
   "outputs": [
    {
     "data": {
      "text/html": [
       "\n",
       "        <iframe\n",
       "            width=\"100%\"\n",
       "            height=\"650\"\n",
       "            src=\"http://127.0.0.1:8051/\"\n",
       "            frameborder=\"0\"\n",
       "            allowfullscreen\n",
       "            \n",
       "        ></iframe>\n",
       "        "
      ],
      "text/plain": [
       "<IPython.lib.display.IFrame at 0x32e9ba390>"
      ]
     },
     "metadata": {},
     "output_type": "display_data"
    }
   ],
   "source": [
    "# -----------------------------\n",
    "# Prepare the dataset\n",
    "# -----------------------------\n",
    "df = covid_df[[\"location\", \"date\", \"total_cases\", \"total_deaths\"]].copy()\n",
    "df[\"date\"] = pd.to_datetime(df[\"date\"])\n",
    "countries = df[\"location\"].unique()\n",
    "\n",
    "# -----------------------------\n",
    "# Initialize Dash app\n",
    "# -----------------------------\n",
    "\n",
    "app = dash.Dash(__name__)\n",
    "\n",
    "app.layout = html.Div([\n",
    "    html.H1(id=\"dashboard-title\", style={\"textAlign\": \"center\", \"color\": \"lightgray\"}),\n",
    "\n",
    "    html.Div([\n",
    "        html.Label(\"Select Country:\", style={\"fontWeight\": \"bold\"}),\n",
    "        dcc.Dropdown(\n",
    "            id=\"country-dropdown\",\n",
    "            options=[{\"label\": c, \"value\": c} for c in countries],\n",
    "            value=\"Mexico\",  \n",
    "            clearable=False,\n",
    "            style={\"width\": \"100%\"}\n",
    "        )\n",
    "    ], style={\"width\": \"50%\", \"margin\": \"20px auto\"}),\n",
    "\n",
    "    html.Div([\n",
    "        dcc.Graph(id=\"cases-chart\", style={\"width\": \"48%\", \"display\": \"inline-block\"}),\n",
    "        dcc.Graph(id=\"deaths-chart\", style={\"width\": \"48%\", \"display\": \"inline-block\"})\n",
    "    ])\n",
    "])\n",
    "\n",
    "# ----- Callbacks -----\n",
    "\n",
    "@app.callback(\n",
    "    [dash.Output(\"dashboard-title\", \"children\"),\n",
    "     dash.Output(\"cases-chart\", \"figure\"),\n",
    "     dash.Output(\"deaths-chart\", \"figure\")],\n",
    "    [dash.Input(\"country-dropdown\", \"value\")]\n",
    ")\n",
    "def update_dashboard(selected_country):\n",
    "    df_country = df[df[\"location\"] == selected_country]\n",
    "    title = f\"Cumulative COVID-19 Cases and Deaths in {selected_country}\"\n",
    "\n",
    "    # ----- Line chart for cases (blue) -----\n",
    "    fig_cases = px.line(\n",
    "        df_country,\n",
    "        x=\"date\",\n",
    "        y=\"total_cases\",\n",
    "        title=f\"Cumulative Number of Cases in {selected_country}\",\n",
    "        labels={\"total_cases\": \"Total Cases\", \"date\": \"Date\"},\n",
    "        color_discrete_sequence=[\"#1f77b4\"]  # nice blue\n",
    "    )\n",
    "\n",
    "    # ----- Line chart for deaths (dark pink) -----\n",
    "    fig_deaths = px.line(\n",
    "        df_country,\n",
    "        x=\"date\",\n",
    "        y=\"total_deaths\",\n",
    "        title=f\"Cumulative Number of Deaths in {selected_country}\",\n",
    "        labels={\"total_deaths\": \"Total Deaths\", \"date\": \"Date\"},\n",
    "        color_discrete_sequence=[\"#d62728\"]  # dark pink/red\n",
    "    )\n",
    "\n",
    "    # ----- Style: remove gray background, add grid -----\n",
    "    for fig in [fig_cases, fig_deaths]:\n",
    "        fig.update_layout(\n",
    "            plot_bgcolor=\"lightgray\",\n",
    "            xaxis=dict(showgrid=True, gridcolor=\"#6e6e6e\"),\n",
    "            yaxis=dict(showgrid=True, gridcolor=\"#6e6e6e\"),\n",
    "            title_x=0.5  # center titles\n",
    "        )\n",
    "\n",
    "    return title, fig_cases, fig_deaths\n",
    "\n",
    "\n",
    "# ----- Run app -----\n",
    "if __name__ == \"__main__\":\n",
    "    app.run(debug=True, port=8051)\n"
   ]
  },
  {
   "cell_type": "markdown",
   "id": "caaa41c7",
   "metadata": {},
   "source": [
    "\n",
    "# Sixth Visualization — Total COVID-19 Cases for Each Continent\n",
    "\n",
    "## Task\n",
    "Using Plotly and Dash, create an **interactive dashboard** with a **MapLibre dark-style map** that shows countries as markers sized by a selected metric (e.g., total cases).  \n",
    "Users should be able to filter by continent.\n"
   ]
  },
  {
   "cell_type": "code",
   "execution_count": null,
   "id": "a90ba4a0",
   "metadata": {},
   "outputs": [
    {
     "data": {
      "text/html": [
       "\n",
       "        <iframe\n",
       "            width=\"100%\"\n",
       "            height=\"650\"\n",
       "            src=\"http://127.0.0.1:8052/\"\n",
       "            frameborder=\"0\"\n",
       "            allowfullscreen\n",
       "            \n",
       "        ></iframe>\n",
       "        "
      ],
      "text/plain": [
       "<IPython.lib.display.IFrame at 0x32e977350>"
      ]
     },
     "metadata": {},
     "output_type": "display_data"
    }
   ],
   "source": [
    "# -----------------------------\n",
    "# Prepare dataset\n",
    "# -----------------------------\n",
    "\n",
    "# ----- Takes maximum total cases and latest date -----\n",
    "df_last = covid_df.sort_values(\"date\").groupby(\n",
    "    [\"location\", \"continent\", \"latitude\", \"longitude\"], as_index=False\n",
    ").agg({\"total_cases\": \"max\"})\n",
    "\n",
    "\n",
    "# ----- Define available metrics -----\n",
    "metrics = {\n",
    "    \"Total cases\": \"total_cases\",\n",
    "    \"Total deaths\": \"total_deaths\",\n",
    "    \"Total tests\": \"total_tests\",\n",
    "    \"Total vaccinations\": \"total_vaccinations\",\n",
    "    \"Total vaccinated people\": \"people_vaccinated\"\n",
    "}\n",
    "\n",
    "# ----- Get unique continents -----\n",
    "continents = df_last[\"continent\"].dropna().unique()\n",
    "\n",
    "# ----- Initialize Dash app -----\n",
    "app = dash.Dash(__name__)\n",
    "\n",
    "app.layout = html.Div([\n",
    "    html.H1(id=\"dashboard-title\", style={\"textAlign\": \"center\", \"color\": \"lightgray\"}),\n",
    "\n",
    "    # Filters\n",
    "    html.Div([\n",
    "        html.Div([\n",
    "            html.Label(\"Select Continent:\", style={\"fontWeight\": \"bold\"}),\n",
    "            dcc.Dropdown(\n",
    "                id=\"continent-dropdown\",\n",
    "                options=[{\"label\": c, \"value\": c} for c in continents],\n",
    "                value=\"Europe\",\n",
    "                clearable=False\n",
    "            )\n",
    "        ], style={\"width\": \"45%\", \"display\": \"inline-block\", \"marginRight\": \"5%\"}),\n",
    "\n",
    "        html.Div([\n",
    "            html.Label(\"Select Metric:\", style={\"fontWeight\": \"bold\"}),\n",
    "            dcc.Dropdown(\n",
    "                id=\"metric-dropdown\",\n",
    "                options=[{\"label\": k, \"value\": v} for k, v in metrics.items()],\n",
    "                value=\"total_cases\",\n",
    "                clearable=False\n",
    "            )\n",
    "        ], style={\"width\": \"45%\", \"display\": \"inline-block\"})\n",
    "    ], style={\"margin\": \"20px\"}),\n",
    "\n",
    "    # ----- Visualization-----\n",
    "    dcc.Graph(id=\"map-chart\", style={\"height\": \"700px\"})\n",
    "])\n",
    "\n",
    "# ----- Callbacks -----\n",
    "@app.callback(\n",
    "    [dash.Output(\"dashboard-title\", \"children\"),\n",
    "     dash.Output(\"map-chart\", \"figure\")],\n",
    "    [dash.Input(\"continent-dropdown\", \"value\"),\n",
    "     dash.Input(\"metric-dropdown\", \"value\")]\n",
    ")\n",
    "def update_map(selected_continent, selected_metric):\n",
    "    # ----- Filter by continent -----\n",
    "    df_continent = df_last[df_last[\"continent\"] == selected_continent].copy()\n",
    "\n",
    "    # ----- Drop rows with NaN or zero values for metric -----\n",
    "    df_continent = df_continent.dropna(subset=[selected_metric])\n",
    "    df_continent = df_continent[df_continent[selected_metric] > 0]\n",
    "\n",
    "    # ----- Title -----\n",
    "    metric_name = [k for k, v in metrics.items() if v == selected_metric][0]\n",
    "    title = f\"COVID-19 – {metric_name} in {selected_continent}\"\n",
    "\n",
    "    # ----- Create scatter map -----\n",
    "    fig = px.scatter_map(\n",
    "        df_continent,\n",
    "        lat=\"latitude\",\n",
    "        lon=\"longitude\",\n",
    "        size=selected_metric,\n",
    "        hover_name=\"location\",\n",
    "        hover_data={selected_metric: \":,\"},\n",
    "        size_max=30,\n",
    "        zoom=2,\n",
    "        map_style=\"carto-darkmatter\",  # dark style\n",
    "        color=\"continent\",\n",
    "        title=title\n",
    "    )\n",
    "\n",
    "    fig.update_layout(title_x=0.5)\n",
    "\n",
    "    return title, fig\n",
    "\n",
    "# ----- Run app (custom port) -----\n",
    "if __name__ == \"__main__\":\n",
    "    app.run(debug=True, port=8052)  \n"
   ]
  },
  {
   "cell_type": "markdown",
   "id": "43ffd41c",
   "metadata": {},
   "source": [
    "# Last Visualization — Vaccinations by Country\n",
    "\n",
    "## Task\n",
    "Using the **Plotly** and **Dash** libraries, create an **interactive dashboard** with **two visualizations**:  \n",
    "\n",
    "1. **Total Vaccinations Column Chart**  \n",
    "- Shows the **top n countries** with the **largest total number of vaccinations**.  \n",
    "\n",
    "2. **Vaccination Ratio Column Chart** \n",
    "  - Shows the **top n countries** based on the **ratio of total vaccinations to populations**."
   ]
  },
  {
   "cell_type": "code",
   "execution_count": 56,
   "id": "4ee3561d",
   "metadata": {},
   "outputs": [
    {
     "data": {
      "text/html": [
       "\n",
       "        <iframe\n",
       "            width=\"100%\"\n",
       "            height=\"650\"\n",
       "            src=\"http://127.0.0.1:8053/\"\n",
       "            frameborder=\"0\"\n",
       "            allowfullscreen\n",
       "            \n",
       "        ></iframe>\n",
       "        "
      ],
      "text/plain": [
       "<IPython.lib.display.IFrame at 0x32e9e3f90>"
      ]
     },
     "metadata": {},
     "output_type": "display_data"
    }
   ],
   "source": [
    "# -----------------------------\n",
    "# Prepare dataset\n",
    "# -----------------------------\n",
    "\n",
    "# Keep only the last date for each country\n",
    "df_last = covid_df.sort_values(\"date\").groupby(\n",
    "    [\"location\", \"population\"], as_index=False\n",
    ").last()\n",
    "\n",
    "# ----- Compute vaccination ratio -----\n",
    "df_last[\"vacc_per_pop\"] = df_last[\"people_vaccinated\"] / df_last[\"population\"]\n",
    "\n",
    "# ----- Initialize Dash app -----\n",
    "\n",
    "app = dash.Dash(__name__)\n",
    "\n",
    "app.layout = html.Div([\n",
    "    html.H1(\"COVID-19 Vaccination Dashboard\", style={\"textAlign\": \"center\", \"color\": \"lightgray\"}),\n",
    "\n",
    "    # ----- Parameter: number of countries -----\n",
    "    html.Div([\n",
    "        html.Label(\"Select number of top countries (n):\", style={\"fontWeight\": \"bold\"}),\n",
    "        dcc.Dropdown(\n",
    "            id=\"top-n-dropdown\",\n",
    "            options=[{\"label\": str(n), \"value\": n} for n in range(5, 25, 5)],\n",
    "            value=5,\n",
    "            clearable=False,\n",
    "            style={\"width\": \"50%\"}\n",
    "        )\n",
    "    ], style={\"margin\": \"20px auto\"}),\n",
    "\n",
    "    # ----- Visualizations side-by-side -----\n",
    "    html.Div([\n",
    "        dcc.Graph(id=\"total-vaccinations-chart\", style={\"width\": \"48%\", \"display\": \"inline-block\"}),\n",
    "        dcc.Graph(id=\"ratio-vaccinations-chart\", style={\"width\": \"48%\", \"display\": \"inline-block\"})\n",
    "    ])\n",
    "])\n",
    "\n",
    "# ----- Callback -----\n",
    "@app.callback(\n",
    "    [dash.Output(\"total-vaccinations-chart\", \"figure\"),\n",
    "     dash.Output(\"ratio-vaccinations-chart\", \"figure\")],\n",
    "    [dash.Input(\"top-n-dropdown\", \"value\")]\n",
    ")\n",
    "def update_charts(n):\n",
    "    # ----- Top n countries by total vaccinations -----\n",
    "    top_total = df_last.sort_values(\"total_vaccinations\", ascending=False).head(n)\n",
    "\n",
    "    fig_total = px.bar(\n",
    "        top_total,\n",
    "        x=\"location\",\n",
    "        y=\"total_vaccinations\",\n",
    "        title=f\"Top {n} Countries by Total Vaccinations\",\n",
    "        labels={\"location\": \"Country\", \"total_vaccinations\": \"Total Vaccinations\"},\n",
    "        color_discrete_sequence=px.colors.qualitative.Dark24\n",
    "    )\n",
    "    fig_total.update_layout(title_x=0.5, title_font_color=\"lightgray\")\n",
    "\n",
    "    # ----- Top n countries by vaccination ratio -----\n",
    "    top_ratio = df_last.sort_values(\"vacc_per_pop\", ascending=False).head(n)\n",
    "\n",
    "    fig_ratio = px.bar(\n",
    "        top_ratio,\n",
    "        x=\"location\",\n",
    "        y=\"vacc_per_pop\",\n",
    "        title=f\"Top {n} Countries by Vaccinations per Population\",\n",
    "        labels={\"location\": \"Country\", \"vacc_per_pop\": \"Vaccinations / Population\"},\n",
    "        color_discrete_sequence=px.colors.qualitative.Set3\n",
    "    )\n",
    "    fig_ratio.update_layout(title_x=0.5, title_font_color=\"lightgray\")\n",
    "\n",
    "    return fig_total, fig_ratio\n",
    "\n",
    "\n",
    "# ----- Run app -----\n",
    "if __name__ == \"__main__\":\n",
    "    app.run(debug=True, port=8053)\n"
   ]
  },
  {
   "cell_type": "markdown",
   "id": "e79620e4",
   "metadata": {},
   "source": [
    "## Conclusion\n",
    "\n",
    "This project demonstrates the power of Python for **data analysis and interactive visualization** using COVID-19 datasets. Across **seven visualizations**, we explored multiple aspects of the pandemic:\n",
    "\n",
    "1. **Population Insights**: Identified countries with the largest populations and examined the relationship between **population and life expectancy**, highlighting trends across continents.  \n",
    "2. **COVID-19 Cases**: Visualized the **number of diagnosed cases** per country, including cumulative totals and relative cases per population.  \n",
    "3. **Interactive World Maps**: Created **scatter maps** and choropleth-style maps to show **global case distribution**, enabling users to explore patterns interactively.  \n",
    "4. **Continent-Level Analysis**: Built dashboards using **Plotly and Dash** to compare **total COVID-19 cases by continent**, with filtering capabilities for enhanced exploration.  \n",
    "5. **Vaccination Analysis**: Developed interactive visualizations comparing countries based on **total vaccinations** and **vaccination ratios**, providing insights into global immunization progress.  \n",
    "6. **Time Series Comparison**: Compared the **distribution of new cases over time** between selected countries to observe trends and outbreaks.\n",
    "7. **Vaccinations by Country** – Interactive dashboard with two charts:  \n",
    "   - **Total Vaccinations Column Chart** – Top countries by total vaccinations.  \n",
    "   - **Vaccination Ratio Column Chart** – Top countries by vaccination ratio relative to population.\n",
    "\n",
    "**Key Takeaways:**  \n",
    "- Python, combined with **Pandas, Seaborn, Plotly, and Dash**, enables both **static and interactive visualization**.  \n",
    "- Interactive dashboards allow users to explore patterns by **continent, country, or metric**, making complex datasets more understandable.  \n",
    "- Using normalized metrics like **cases per population** or **vaccination ratios** provides a fair comparison between countries of different sizes.\n",
    "\n",
    "**Overall**, this project illustrates how Python visualizations can transform raw COVID-19 data into **clear, actionable insights**, helping both analysts and the general public understand global trends during the pandemic.\n"
   ]
  }
 ],
 "metadata": {
  "kernelspec": {
   "display_name": "base",
   "language": "python",
   "name": "python3"
  },
  "language_info": {
   "codemirror_mode": {
    "name": "ipython",
    "version": 3
   },
   "file_extension": ".py",
   "mimetype": "text/x-python",
   "name": "python",
   "nbconvert_exporter": "python",
   "pygments_lexer": "ipython3",
   "version": "3.11.13"
  }
 },
 "nbformat": 4,
 "nbformat_minor": 5
}
